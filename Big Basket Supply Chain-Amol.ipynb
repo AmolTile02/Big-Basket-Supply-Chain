{
 "cells": [
  {
   "cell_type": "markdown",
   "id": "ac0c48f5",
   "metadata": {},
   "source": [
    "# Step 1 - Loading up the libraries"
   ]
  },
  {
   "cell_type": "code",
   "execution_count": 1,
   "id": "bf6273d1",
   "metadata": {},
   "outputs": [],
   "source": [
    "import numpy as np\n",
    "import pandas as pd\n",
    "import matplotlib.pyplot as plt\n",
    "import seaborn as sns\n",
    "import plotly.express as px"
   ]
  },
  {
   "cell_type": "markdown",
   "id": "ceeed78c",
   "metadata": {},
   "source": [
    "# Step 2- Data Loading and Inspection Phase"
   ]
  },
  {
   "cell_type": "markdown",
   "id": "c6020c7a",
   "metadata": {},
   "source": [
    "**Data Loading**"
   ]
  },
  {
   "cell_type": "code",
   "execution_count": 2,
   "id": "e1313811",
   "metadata": {},
   "outputs": [],
   "source": [
    "df = pd.read_csv('BigBasket Products.csv')"
   ]
  },
  {
   "cell_type": "markdown",
   "id": "c4dc4bdf",
   "metadata": {},
   "source": [
    "**Data Inspection**"
   ]
  },
  {
   "cell_type": "code",
   "execution_count": 3,
   "id": "8cd61cd3",
   "metadata": {},
   "outputs": [
    {
     "data": {
      "text/html": [
       "<div>\n",
       "<style scoped>\n",
       "    .dataframe tbody tr th:only-of-type {\n",
       "        vertical-align: middle;\n",
       "    }\n",
       "\n",
       "    .dataframe tbody tr th {\n",
       "        vertical-align: top;\n",
       "    }\n",
       "\n",
       "    .dataframe thead th {\n",
       "        text-align: right;\n",
       "    }\n",
       "</style>\n",
       "<table border=\"1\" class=\"dataframe\">\n",
       "  <thead>\n",
       "    <tr style=\"text-align: right;\">\n",
       "      <th></th>\n",
       "      <th>index</th>\n",
       "      <th>product</th>\n",
       "      <th>category</th>\n",
       "      <th>sub_category</th>\n",
       "      <th>brand</th>\n",
       "      <th>sale_price</th>\n",
       "      <th>market_price</th>\n",
       "      <th>type</th>\n",
       "      <th>rating</th>\n",
       "      <th>description</th>\n",
       "    </tr>\n",
       "  </thead>\n",
       "  <tbody>\n",
       "    <tr>\n",
       "      <th>0</th>\n",
       "      <td>1</td>\n",
       "      <td>Garlic Oil - Vegetarian Capsule 500 mg</td>\n",
       "      <td>Beauty &amp; Hygiene</td>\n",
       "      <td>Hair Care</td>\n",
       "      <td>Sri Sri Ayurveda</td>\n",
       "      <td>220.0</td>\n",
       "      <td>220.0</td>\n",
       "      <td>Hair Oil &amp; Serum</td>\n",
       "      <td>4.1</td>\n",
       "      <td>This Product contains Garlic Oil that is known...</td>\n",
       "    </tr>\n",
       "    <tr>\n",
       "      <th>1</th>\n",
       "      <td>2</td>\n",
       "      <td>Water Bottle - Orange</td>\n",
       "      <td>Kitchen, Garden &amp; Pets</td>\n",
       "      <td>Storage &amp; Accessories</td>\n",
       "      <td>Mastercook</td>\n",
       "      <td>180.0</td>\n",
       "      <td>180.0</td>\n",
       "      <td>Water &amp; Fridge Bottles</td>\n",
       "      <td>2.3</td>\n",
       "      <td>Each product is microwave safe (without lid), ...</td>\n",
       "    </tr>\n",
       "    <tr>\n",
       "      <th>2</th>\n",
       "      <td>3</td>\n",
       "      <td>Brass Angle Deep - Plain, No.2</td>\n",
       "      <td>Cleaning &amp; Household</td>\n",
       "      <td>Pooja Needs</td>\n",
       "      <td>Trm</td>\n",
       "      <td>119.0</td>\n",
       "      <td>250.0</td>\n",
       "      <td>Lamp &amp; Lamp Oil</td>\n",
       "      <td>3.4</td>\n",
       "      <td>A perfect gift for all occasions, be it your m...</td>\n",
       "    </tr>\n",
       "    <tr>\n",
       "      <th>3</th>\n",
       "      <td>4</td>\n",
       "      <td>Cereal Flip Lid Container/Storage Jar - Assort...</td>\n",
       "      <td>Cleaning &amp; Household</td>\n",
       "      <td>Bins &amp; Bathroom Ware</td>\n",
       "      <td>Nakoda</td>\n",
       "      <td>149.0</td>\n",
       "      <td>176.0</td>\n",
       "      <td>Laundry, Storage Baskets</td>\n",
       "      <td>3.7</td>\n",
       "      <td>Multipurpose container with an attractive desi...</td>\n",
       "    </tr>\n",
       "    <tr>\n",
       "      <th>4</th>\n",
       "      <td>5</td>\n",
       "      <td>Creme Soft Soap - For Hands &amp; Body</td>\n",
       "      <td>Beauty &amp; Hygiene</td>\n",
       "      <td>Bath &amp; Hand Wash</td>\n",
       "      <td>Nivea</td>\n",
       "      <td>162.0</td>\n",
       "      <td>162.0</td>\n",
       "      <td>Bathing Bars &amp; Soaps</td>\n",
       "      <td>4.4</td>\n",
       "      <td>Nivea Creme Soft Soap gives your skin the best...</td>\n",
       "    </tr>\n",
       "  </tbody>\n",
       "</table>\n",
       "</div>"
      ],
      "text/plain": [
       "   index                                            product  \\\n",
       "0      1             Garlic Oil - Vegetarian Capsule 500 mg   \n",
       "1      2                              Water Bottle - Orange   \n",
       "2      3                     Brass Angle Deep - Plain, No.2   \n",
       "3      4  Cereal Flip Lid Container/Storage Jar - Assort...   \n",
       "4      5                 Creme Soft Soap - For Hands & Body   \n",
       "\n",
       "                 category           sub_category              brand  \\\n",
       "0        Beauty & Hygiene              Hair Care  Sri Sri Ayurveda    \n",
       "1  Kitchen, Garden & Pets  Storage & Accessories         Mastercook   \n",
       "2    Cleaning & Household            Pooja Needs                Trm   \n",
       "3    Cleaning & Household   Bins & Bathroom Ware             Nakoda   \n",
       "4        Beauty & Hygiene       Bath & Hand Wash              Nivea   \n",
       "\n",
       "   sale_price  market_price                      type  rating  \\\n",
       "0       220.0         220.0          Hair Oil & Serum     4.1   \n",
       "1       180.0         180.0    Water & Fridge Bottles     2.3   \n",
       "2       119.0         250.0           Lamp & Lamp Oil     3.4   \n",
       "3       149.0         176.0  Laundry, Storage Baskets     3.7   \n",
       "4       162.0         162.0      Bathing Bars & Soaps     4.4   \n",
       "\n",
       "                                         description  \n",
       "0  This Product contains Garlic Oil that is known...  \n",
       "1  Each product is microwave safe (without lid), ...  \n",
       "2  A perfect gift for all occasions, be it your m...  \n",
       "3  Multipurpose container with an attractive desi...  \n",
       "4  Nivea Creme Soft Soap gives your skin the best...  "
      ]
     },
     "execution_count": 3,
     "metadata": {},
     "output_type": "execute_result"
    }
   ],
   "source": [
    "df.head()"
   ]
  },
  {
   "cell_type": "code",
   "execution_count": 4,
   "id": "0be933b9",
   "metadata": {},
   "outputs": [
    {
     "data": {
      "text/html": [
       "<style type=\"text/css\">\n",
       "#T_aa467_row0_col0, #T_aa467_row0_col1, #T_aa467_row0_col2, #T_aa467_row0_col3, #T_aa467_row0_col4, #T_aa467_row0_col5, #T_aa467_row0_col6, #T_aa467_row0_col7, #T_aa467_row0_col8, #T_aa467_row0_col9, #T_aa467_row1_col0, #T_aa467_row1_col1, #T_aa467_row1_col2, #T_aa467_row1_col3, #T_aa467_row1_col4, #T_aa467_row1_col5, #T_aa467_row1_col6, #T_aa467_row1_col7, #T_aa467_row1_col8, #T_aa467_row1_col9, #T_aa467_row2_col0, #T_aa467_row2_col1, #T_aa467_row2_col2, #T_aa467_row2_col3, #T_aa467_row2_col4, #T_aa467_row2_col5, #T_aa467_row2_col6, #T_aa467_row2_col7, #T_aa467_row2_col8, #T_aa467_row2_col9, #T_aa467_row3_col0, #T_aa467_row3_col1, #T_aa467_row3_col2, #T_aa467_row3_col3, #T_aa467_row3_col4, #T_aa467_row3_col5, #T_aa467_row3_col6, #T_aa467_row3_col7, #T_aa467_row3_col8, #T_aa467_row3_col9, #T_aa467_row4_col0, #T_aa467_row4_col1, #T_aa467_row4_col2, #T_aa467_row4_col3, #T_aa467_row4_col4, #T_aa467_row4_col5, #T_aa467_row4_col6, #T_aa467_row4_col7, #T_aa467_row4_col8, #T_aa467_row4_col9 {\n",
       "  background-color: black;\n",
       "  border-color: lightgreen;\n",
       "  color: lightgreen;\n",
       "  border-style: solid;\n",
       "}\n",
       "</style>\n",
       "<table id=\"T_aa467\">\n",
       "  <thead>\n",
       "    <tr>\n",
       "      <th class=\"blank level0\" >&nbsp;</th>\n",
       "      <th id=\"T_aa467_level0_col0\" class=\"col_heading level0 col0\" >index</th>\n",
       "      <th id=\"T_aa467_level0_col1\" class=\"col_heading level0 col1\" >product</th>\n",
       "      <th id=\"T_aa467_level0_col2\" class=\"col_heading level0 col2\" >category</th>\n",
       "      <th id=\"T_aa467_level0_col3\" class=\"col_heading level0 col3\" >sub_category</th>\n",
       "      <th id=\"T_aa467_level0_col4\" class=\"col_heading level0 col4\" >brand</th>\n",
       "      <th id=\"T_aa467_level0_col5\" class=\"col_heading level0 col5\" >sale_price</th>\n",
       "      <th id=\"T_aa467_level0_col6\" class=\"col_heading level0 col6\" >market_price</th>\n",
       "      <th id=\"T_aa467_level0_col7\" class=\"col_heading level0 col7\" >type</th>\n",
       "      <th id=\"T_aa467_level0_col8\" class=\"col_heading level0 col8\" >rating</th>\n",
       "      <th id=\"T_aa467_level0_col9\" class=\"col_heading level0 col9\" >description</th>\n",
       "    </tr>\n",
       "  </thead>\n",
       "  <tbody>\n",
       "    <tr>\n",
       "      <th id=\"T_aa467_level0_row0\" class=\"row_heading level0 row0\" >0</th>\n",
       "      <td id=\"T_aa467_row0_col0\" class=\"data row0 col0\" >1</td>\n",
       "      <td id=\"T_aa467_row0_col1\" class=\"data row0 col1\" >Garlic Oil - Vegetarian Capsule 500 mg</td>\n",
       "      <td id=\"T_aa467_row0_col2\" class=\"data row0 col2\" >Beauty & Hygiene</td>\n",
       "      <td id=\"T_aa467_row0_col3\" class=\"data row0 col3\" >Hair Care</td>\n",
       "      <td id=\"T_aa467_row0_col4\" class=\"data row0 col4\" >Sri Sri Ayurveda </td>\n",
       "      <td id=\"T_aa467_row0_col5\" class=\"data row0 col5\" >220.000000</td>\n",
       "      <td id=\"T_aa467_row0_col6\" class=\"data row0 col6\" >220.000000</td>\n",
       "      <td id=\"T_aa467_row0_col7\" class=\"data row0 col7\" >Hair Oil & Serum</td>\n",
       "      <td id=\"T_aa467_row0_col8\" class=\"data row0 col8\" >4.100000</td>\n",
       "      <td id=\"T_aa467_row0_col9\" class=\"data row0 col9\" >This Product contains Garlic Oil that is known to help proper digestion, maintain proper cholesterol levels, support cardiovascular and also build immunity.  For Beauty tips, tricks & more visit https://bigbasket.blog/</td>\n",
       "    </tr>\n",
       "    <tr>\n",
       "      <th id=\"T_aa467_level0_row1\" class=\"row_heading level0 row1\" >1</th>\n",
       "      <td id=\"T_aa467_row1_col0\" class=\"data row1 col0\" >2</td>\n",
       "      <td id=\"T_aa467_row1_col1\" class=\"data row1 col1\" >Water Bottle - Orange</td>\n",
       "      <td id=\"T_aa467_row1_col2\" class=\"data row1 col2\" >Kitchen, Garden & Pets</td>\n",
       "      <td id=\"T_aa467_row1_col3\" class=\"data row1 col3\" >Storage & Accessories</td>\n",
       "      <td id=\"T_aa467_row1_col4\" class=\"data row1 col4\" >Mastercook</td>\n",
       "      <td id=\"T_aa467_row1_col5\" class=\"data row1 col5\" >180.000000</td>\n",
       "      <td id=\"T_aa467_row1_col6\" class=\"data row1 col6\" >180.000000</td>\n",
       "      <td id=\"T_aa467_row1_col7\" class=\"data row1 col7\" >Water & Fridge Bottles</td>\n",
       "      <td id=\"T_aa467_row1_col8\" class=\"data row1 col8\" >2.300000</td>\n",
       "      <td id=\"T_aa467_row1_col9\" class=\"data row1 col9\" >Each product is microwave safe (without lid), refrigerator safe, dishwasher safe and can also be used for re-heating food and not for cooking. All containers come with airtight lids and a wide variety of attractive colours. Stack these stylish and colourful containers in your kitchen with ease and for a look-good factor.</td>\n",
       "    </tr>\n",
       "    <tr>\n",
       "      <th id=\"T_aa467_level0_row2\" class=\"row_heading level0 row2\" >2</th>\n",
       "      <td id=\"T_aa467_row2_col0\" class=\"data row2 col0\" >3</td>\n",
       "      <td id=\"T_aa467_row2_col1\" class=\"data row2 col1\" >Brass Angle Deep - Plain, No.2</td>\n",
       "      <td id=\"T_aa467_row2_col2\" class=\"data row2 col2\" >Cleaning & Household</td>\n",
       "      <td id=\"T_aa467_row2_col3\" class=\"data row2 col3\" >Pooja Needs</td>\n",
       "      <td id=\"T_aa467_row2_col4\" class=\"data row2 col4\" >Trm</td>\n",
       "      <td id=\"T_aa467_row2_col5\" class=\"data row2 col5\" >119.000000</td>\n",
       "      <td id=\"T_aa467_row2_col6\" class=\"data row2 col6\" >250.000000</td>\n",
       "      <td id=\"T_aa467_row2_col7\" class=\"data row2 col7\" >Lamp & Lamp Oil</td>\n",
       "      <td id=\"T_aa467_row2_col8\" class=\"data row2 col8\" >3.400000</td>\n",
       "      <td id=\"T_aa467_row2_col9\" class=\"data row2 col9\" >A perfect gift for all occasions, be it your mother, sister, in-laws, boss or your friends, this beautiful designer piece wherever placed, is sure to beautify the surroundings Traditional design This type diya has been used for Diwali and All other Festivals for centuries. Sturdy and easy to carry The feet keep it balanced to ensure safety. Wonderful Oil Lamp made in Brass also called as Jyoti. This is a handcrafted piece of Indian brass Deepak.</td>\n",
       "    </tr>\n",
       "    <tr>\n",
       "      <th id=\"T_aa467_level0_row3\" class=\"row_heading level0 row3\" >3</th>\n",
       "      <td id=\"T_aa467_row3_col0\" class=\"data row3 col0\" >4</td>\n",
       "      <td id=\"T_aa467_row3_col1\" class=\"data row3 col1\" >Cereal Flip Lid Container/Storage Jar - Assorted Colour</td>\n",
       "      <td id=\"T_aa467_row3_col2\" class=\"data row3 col2\" >Cleaning & Household</td>\n",
       "      <td id=\"T_aa467_row3_col3\" class=\"data row3 col3\" >Bins & Bathroom Ware</td>\n",
       "      <td id=\"T_aa467_row3_col4\" class=\"data row3 col4\" >Nakoda</td>\n",
       "      <td id=\"T_aa467_row3_col5\" class=\"data row3 col5\" >149.000000</td>\n",
       "      <td id=\"T_aa467_row3_col6\" class=\"data row3 col6\" >176.000000</td>\n",
       "      <td id=\"T_aa467_row3_col7\" class=\"data row3 col7\" >Laundry, Storage Baskets</td>\n",
       "      <td id=\"T_aa467_row3_col8\" class=\"data row3 col8\" >3.700000</td>\n",
       "      <td id=\"T_aa467_row3_col9\" class=\"data row3 col9\" >Multipurpose container with an attractive design and made from food-grade plastic for your hygiene and safety ideal for storing pulses. Grains, spices, and more with easy opening and closing flip-open lid. Strong, durable and transparent body for longevity and easy identification of contents. Multipurpose storage solution for your daily needs stores your everyday food essentials in style with the Nakoda container set. With transparent bodies, you can easily identify your stored items without having to open the lids. These containers are ideal for storing a large variety of items such as food grains, snacks and pulses to sugar, spices, condiments and more. Featuring unique flip-open lids, you can easily open and close this container without any hassles.\n",
       "The Nakoda container is made from high-quality food-grade and BPA-free plastic that is 100% safe for storing food items. You can safely store your food items in this container without worrying about contamination and harmful toxins. As they are constructed using highly durable virgin plastic, this container will last for a long time even with regular use. This container can enhance the overall look of your kitchen decor. Being dishwasher safe, cleaning and maintaining this container is an easy task. You can also use a simple soap solution to manually wash and retain their looks for a long time.</td>\n",
       "    </tr>\n",
       "    <tr>\n",
       "      <th id=\"T_aa467_level0_row4\" class=\"row_heading level0 row4\" >4</th>\n",
       "      <td id=\"T_aa467_row4_col0\" class=\"data row4 col0\" >5</td>\n",
       "      <td id=\"T_aa467_row4_col1\" class=\"data row4 col1\" >Creme Soft Soap - For Hands & Body</td>\n",
       "      <td id=\"T_aa467_row4_col2\" class=\"data row4 col2\" >Beauty & Hygiene</td>\n",
       "      <td id=\"T_aa467_row4_col3\" class=\"data row4 col3\" >Bath & Hand Wash</td>\n",
       "      <td id=\"T_aa467_row4_col4\" class=\"data row4 col4\" >Nivea</td>\n",
       "      <td id=\"T_aa467_row4_col5\" class=\"data row4 col5\" >162.000000</td>\n",
       "      <td id=\"T_aa467_row4_col6\" class=\"data row4 col6\" >162.000000</td>\n",
       "      <td id=\"T_aa467_row4_col7\" class=\"data row4 col7\" >Bathing Bars & Soaps</td>\n",
       "      <td id=\"T_aa467_row4_col8\" class=\"data row4 col8\" >4.400000</td>\n",
       "      <td id=\"T_aa467_row4_col9\" class=\"data row4 col9\" >Nivea Creme Soft Soap gives your skin the best care that it must get. The soft bar consists of Vitamins F and Almonds which are really skin gracious and help you get great skin. It provides the skin with moisture and leaves behind flawless and smooth skin. It makes sure that your body is totally free of germs & dirt and at the same time well nourished.For Beauty tips, tricks & more visit https://bigbasket.blog/</td>\n",
       "    </tr>\n",
       "  </tbody>\n",
       "</table>\n"
      ],
      "text/plain": [
       "<pandas.io.formats.style.Styler at 0x1bf0f423150>"
      ]
     },
     "execution_count": 4,
     "metadata": {},
     "output_type": "execute_result"
    }
   ],
   "source": [
    "df.head().style.set_properties(**{'background-color':'black',\n",
    "                               'border-color':'lightgreen',\n",
    "                               'color':'lightgreen',\n",
    "                               'border-style':'solid'})"
   ]
  },
  {
   "cell_type": "markdown",
   "id": "aba01d1d",
   "metadata": {},
   "source": [
    "**Shape Inspection**"
   ]
  },
  {
   "cell_type": "code",
   "execution_count": 5,
   "id": "e1cbf273",
   "metadata": {},
   "outputs": [
    {
     "name": "stdout",
     "output_type": "stream",
     "text": [
      "Rows: 27555 and Columns: 10\n"
     ]
    }
   ],
   "source": [
    "a = df.shape\n",
    "print(f'Rows: {a[0]} and Columns: {a[1]}')"
   ]
  },
  {
   "cell_type": "markdown",
   "id": "c66b4879",
   "metadata": {},
   "source": [
    "**Information**"
   ]
  },
  {
   "cell_type": "code",
   "execution_count": 6,
   "id": "32b520a9",
   "metadata": {},
   "outputs": [
    {
     "name": "stdout",
     "output_type": "stream",
     "text": [
      "<class 'pandas.core.frame.DataFrame'>\n",
      "RangeIndex: 27555 entries, 0 to 27554\n",
      "Data columns (total 10 columns):\n",
      " #   Column        Non-Null Count  Dtype  \n",
      "---  ------        --------------  -----  \n",
      " 0   index         27555 non-null  int64  \n",
      " 1   product       27554 non-null  object \n",
      " 2   category      27555 non-null  object \n",
      " 3   sub_category  27555 non-null  object \n",
      " 4   brand         27554 non-null  object \n",
      " 5   sale_price    27555 non-null  float64\n",
      " 6   market_price  27555 non-null  float64\n",
      " 7   type          27555 non-null  object \n",
      " 8   rating        18929 non-null  float64\n",
      " 9   description   27440 non-null  object \n",
      "dtypes: float64(3), int64(1), object(6)\n",
      "memory usage: 2.1+ MB\n"
     ]
    }
   ],
   "source": [
    "df.info()"
   ]
  },
  {
   "cell_type": "markdown",
   "id": "fdfd7af5",
   "metadata": {},
   "source": [
    "# Step 3 - Data Preprocessing"
   ]
  },
  {
   "cell_type": "markdown",
   "id": "14087d41",
   "metadata": {},
   "source": [
    "**Checking Duplicates**"
   ]
  },
  {
   "cell_type": "code",
   "execution_count": 7,
   "id": "bcc568ee",
   "metadata": {},
   "outputs": [
    {
     "data": {
      "text/plain": [
       "0"
      ]
     },
     "execution_count": 7,
     "metadata": {},
     "output_type": "execute_result"
    }
   ],
   "source": [
    "df.duplicated().sum()"
   ]
  },
  {
   "cell_type": "markdown",
   "id": "2e5d52b3",
   "metadata": {},
   "source": [
    "**Checking Null Values**"
   ]
  },
  {
   "cell_type": "code",
   "execution_count": 8,
   "id": "f15c5a34",
   "metadata": {},
   "outputs": [
    {
     "data": {
      "text/plain": [
       "index              0\n",
       "product            1\n",
       "category           0\n",
       "sub_category       0\n",
       "brand              1\n",
       "sale_price         0\n",
       "market_price       0\n",
       "type               0\n",
       "rating          8626\n",
       "description      115\n",
       "dtype: int64"
      ]
     },
     "execution_count": 8,
     "metadata": {},
     "output_type": "execute_result"
    }
   ],
   "source": [
    "df.isnull().sum()"
   ]
  },
  {
   "cell_type": "markdown",
   "id": "c64ad995",
   "metadata": {},
   "source": [
    "**Insights**\n",
    "  * **Here the `product` columns seems to have null values, along with `brand` columns**\n",
    "  * **Moreover, the rating and description are also having null values with them**"
   ]
  },
  {
   "cell_type": "markdown",
   "id": "90019506",
   "metadata": {},
   "source": [
    "**Working with the product**"
   ]
  },
  {
   "cell_type": "code",
   "execution_count": 9,
   "id": "ee717121",
   "metadata": {},
   "outputs": [],
   "source": [
    "df['product'] = df['product'].fillna('No_Product_Name')"
   ]
  },
  {
   "cell_type": "markdown",
   "id": "faa70278",
   "metadata": {},
   "source": [
    "**Work with brand**"
   ]
  },
  {
   "cell_type": "code",
   "execution_count": 10,
   "id": "8f698d64",
   "metadata": {},
   "outputs": [
    {
     "data": {
      "text/plain": [
       "brand\n",
       "Fresho              638\n",
       "bb Royal            539\n",
       "BB Home             428\n",
       "DP                  250\n",
       "Fresho Signature    171\n",
       "                   ... \n",
       "Wellastrate           1\n",
       "Clean & Fresh         1\n",
       "Lal                   1\n",
       "Glint                 1\n",
       "Baron De Bercy        1\n",
       "Name: count, Length: 2313, dtype: int64"
      ]
     },
     "execution_count": 10,
     "metadata": {},
     "output_type": "execute_result"
    }
   ],
   "source": [
    "# Checking how many brands we are dealing with.\n",
    "df['brand'].value_counts()"
   ]
  },
  {
   "cell_type": "code",
   "execution_count": 11,
   "id": "d09c52d0",
   "metadata": {},
   "outputs": [],
   "source": [
    "df['brand'] = df['brand'].fillna(df['brand'].mode()[0])"
   ]
  },
  {
   "cell_type": "markdown",
   "id": "5903d4fa",
   "metadata": {},
   "source": [
    "**Work with description**"
   ]
  },
  {
   "cell_type": "code",
   "execution_count": 12,
   "id": "f74b68a0",
   "metadata": {},
   "outputs": [],
   "source": [
    "df['description'] = df['description'].fillna('Unknown_Description')"
   ]
  },
  {
   "cell_type": "markdown",
   "id": "9ef9a32e",
   "metadata": {},
   "source": [
    "**Working with rating**"
   ]
  },
  {
   "cell_type": "code",
   "execution_count": 13,
   "id": "e733b2d4",
   "metadata": {},
   "outputs": [
    {
     "name": "stderr",
     "output_type": "stream",
     "text": [
      "C:\\Anaconda\\Lib\\site-packages\\seaborn\\axisgrid.py:118: UserWarning: The figure layout has changed to tight\n",
      "  self._figure.tight_layout(*args, **kwargs)\n"
     ]
    },
    {
     "data": {
      "text/plain": [
       "<seaborn.axisgrid.FacetGrid at 0x1bf0ea4b510>"
      ]
     },
     "execution_count": 13,
     "metadata": {},
     "output_type": "execute_result"
    },
    {
     "data": {
      "image/png": "[encoded data removed]",
      "text/plain": [
       "<Figure size 500x500 with 1 Axes>"
      ]
     },
     "metadata": {},
     "output_type": "display_data"
    }
   ],
   "source": [
    "sns.displot(df['rating'])"
   ]
  },
  {
   "cell_type": "code",
   "execution_count": 14,
   "id": "a835dfd9",
   "metadata": {},
   "outputs": [
    {
     "data": {
      "text/plain": [
       "(3.943409583179249, 4.1)"
      ]
     },
     "execution_count": 14,
     "metadata": {},
     "output_type": "execute_result"
    }
   ],
   "source": [
    "df['rating'].mean(), df['rating'].median()"
   ]
  },
  {
   "cell_type": "code",
   "execution_count": 17,
   "id": "7b60d046",
   "metadata": {},
   "outputs": [],
   "source": [
    "df['rating'] = df['rating'].fillna(df['rating'].mean())"
   ]
  },
  {
   "cell_type": "code",
   "execution_count": 16,
   "id": "40198d68",
   "metadata": {},
   "outputs": [
    {
     "name": "stdout",
     "output_type": "stream",
     "text": [
      "Skewness: nan\n"
     ]
    }
   ],
   "source": [
    "from scipy.stats import skew\n",
    "\n",
    "# Assuming 'df' is your DataFrame containing the 'rating' column\n",
    "skewness = skew(df['rating'])\n",
    "print(f\"Skewness: {skewness}\")"
   ]
  },
  {
   "cell_type": "markdown",
   "id": "9a191fed",
   "metadata": {},
   "source": [
    "**Round off the numerical values for prices**"
   ]
  },
  {
   "cell_type": "code",
   "execution_count": 20,
   "id": "927f8b42",
   "metadata": {},
   "outputs": [],
   "source": [
    "df['sale_price'] = df['sale_price'].round().astype('int64')\n",
    "df['market_price'] = df['market_price'].round().astype('int64')"
   ]
  },
  {
   "cell_type": "markdown",
   "id": "344462f3",
   "metadata": {},
   "source": [
    "# Step 4 - Exploratory Data Analysis "
   ]
  },
  {
   "cell_type": "markdown",
   "id": "c9765277",
   "metadata": {},
   "source": [
    "**Objective 1 - Finding out the discounts available on items**"
   ]
  },
  {
   "cell_type": "code",
   "execution_count": 21,
   "id": "60746b51",
   "metadata": {},
   "outputs": [],
   "source": [
    "df['Discount'] = (((df['market_price'] - df['sale_price']) / df['market_price']) * 100)"
   ]
  },
  {
   "cell_type": "code",
   "execution_count": 23,
   "id": "99111654",
   "metadata": {},
   "outputs": [
    {
     "data": {
      "text/html": [
       "<div>\n",
       "<style scoped>\n",
       "    .dataframe tbody tr th:only-of-type {\n",
       "        vertical-align: middle;\n",
       "    }\n",
       "\n",
       "    .dataframe tbody tr th {\n",
       "        vertical-align: top;\n",
       "    }\n",
       "\n",
       "    .dataframe thead th {\n",
       "        text-align: right;\n",
       "    }\n",
       "</style>\n",
       "<table border=\"1\" class=\"dataframe\">\n",
       "  <thead>\n",
       "    <tr style=\"text-align: right;\">\n",
       "      <th></th>\n",
       "      <th>Discount</th>\n",
       "    </tr>\n",
       "  </thead>\n",
       "  <tbody>\n",
       "    <tr>\n",
       "      <th>0</th>\n",
       "      <td>0.000000</td>\n",
       "    </tr>\n",
       "    <tr>\n",
       "      <th>1</th>\n",
       "      <td>0.000000</td>\n",
       "    </tr>\n",
       "    <tr>\n",
       "      <th>2</th>\n",
       "      <td>52.400000</td>\n",
       "    </tr>\n",
       "    <tr>\n",
       "      <th>3</th>\n",
       "      <td>15.340909</td>\n",
       "    </tr>\n",
       "    <tr>\n",
       "      <th>4</th>\n",
       "      <td>0.000000</td>\n",
       "    </tr>\n",
       "  </tbody>\n",
       "</table>\n",
       "</div>"
      ],
      "text/plain": [
       "    Discount\n",
       "0   0.000000\n",
       "1   0.000000\n",
       "2  52.400000\n",
       "3  15.340909\n",
       "4   0.000000"
      ]
     },
     "execution_count": 23,
     "metadata": {},
     "output_type": "execute_result"
    }
   ],
   "source": [
    "df['Discount'].head().to_frame()"
   ]
  },
  {
   "cell_type": "markdown",
   "id": "9b53a2c9",
   "metadata": {},
   "source": [
    "**Objective 2 - Find out the particular product or category that relates to the highest discounts**"
   ]
  },
  {
   "cell_type": "code",
   "execution_count": 24,
   "id": "3721cb7e",
   "metadata": {},
   "outputs": [
    {
     "data": {
      "text/html": [
       "<div>\n",
       "<style scoped>\n",
       "    .dataframe tbody tr th:only-of-type {\n",
       "        vertical-align: middle;\n",
       "    }\n",
       "\n",
       "    .dataframe tbody tr th {\n",
       "        vertical-align: top;\n",
       "    }\n",
       "\n",
       "    .dataframe thead th {\n",
       "        text-align: right;\n",
       "    }\n",
       "</style>\n",
       "<table border=\"1\" class=\"dataframe\">\n",
       "  <thead>\n",
       "    <tr style=\"text-align: right;\">\n",
       "      <th></th>\n",
       "      <th>product</th>\n",
       "      <th>category</th>\n",
       "      <th>Discount</th>\n",
       "    </tr>\n",
       "  </thead>\n",
       "  <tbody>\n",
       "    <tr>\n",
       "      <th>26976</th>\n",
       "      <td>Curry Leaves</td>\n",
       "      <td>Fruits &amp; Vegetables</td>\n",
       "      <td>86.666667</td>\n",
       "    </tr>\n",
       "  </tbody>\n",
       "</table>\n",
       "</div>"
      ],
      "text/plain": [
       "            product             category   Discount\n",
       "26976  Curry Leaves  Fruits & Vegetables  86.666667"
      ]
     },
     "execution_count": 24,
     "metadata": {},
     "output_type": "execute_result"
    }
   ],
   "source": [
    "df[['product','category','Discount']][df['Discount'] == df['Discount'].max()]"
   ]
  },
  {
   "cell_type": "markdown",
   "id": "a563ffed",
   "metadata": {},
   "source": [
    "**Objective 3 - Find out the top 15 most discounted products**"
   ]
  },
  {
   "cell_type": "code",
   "execution_count": 27,
   "id": "4f8612a0",
   "metadata": {},
   "outputs": [
    {
     "data": {
      "text/html": [
       "<style type=\"text/css\">\n",
       "#T_b8718_row0_col2 {\n",
       "  background-color: #00441b;\n",
       "  color: #f1f1f1;\n",
       "}\n",
       "#T_b8718_row1_col2 {\n",
       "  background-color: #4eb264;\n",
       "  color: #f1f1f1;\n",
       "}\n",
       "#T_b8718_row2_col2 {\n",
       "  background-color: #81ca81;\n",
       "  color: #000000;\n",
       "}\n",
       "#T_b8718_row3_col2 {\n",
       "  background-color: #8ace88;\n",
       "  color: #000000;\n",
       "}\n",
       "#T_b8718_row4_col2 {\n",
       "  background-color: #9bd696;\n",
       "  color: #000000;\n",
       "}\n",
       "#T_b8718_row5_col2 {\n",
       "  background-color: #abdda5;\n",
       "  color: #000000;\n",
       "}\n",
       "#T_b8718_row6_col2, #T_b8718_row7_col2 {\n",
       "  background-color: #c2e7bb;\n",
       "  color: #000000;\n",
       "}\n",
       "#T_b8718_row8_col2 {\n",
       "  background-color: #cfecc9;\n",
       "  color: #000000;\n",
       "}\n",
       "#T_b8718_row9_col2, #T_b8718_row10_col2 {\n",
       "  background-color: #e0f3db;\n",
       "  color: #000000;\n",
       "}\n",
       "#T_b8718_row11_col2, #T_b8718_row12_col2 {\n",
       "  background-color: #e9f7e5;\n",
       "  color: #000000;\n",
       "}\n",
       "#T_b8718_row13_col2 {\n",
       "  background-color: #f1faee;\n",
       "  color: #000000;\n",
       "}\n",
       "#T_b8718_row14_col2 {\n",
       "  background-color: #f7fcf5;\n",
       "  color: #000000;\n",
       "}\n",
       "</style>\n",
       "<table id=\"T_b8718\">\n",
       "  <thead>\n",
       "    <tr>\n",
       "      <th class=\"blank level0\" >&nbsp;</th>\n",
       "      <th id=\"T_b8718_level0_col0\" class=\"col_heading level0 col0\" >product</th>\n",
       "      <th id=\"T_b8718_level0_col1\" class=\"col_heading level0 col1\" >category</th>\n",
       "      <th id=\"T_b8718_level0_col2\" class=\"col_heading level0 col2\" >Discount</th>\n",
       "    </tr>\n",
       "  </thead>\n",
       "  <tbody>\n",
       "    <tr>\n",
       "      <th id=\"T_b8718_level0_row0\" class=\"row_heading level0 row0\" >26976</th>\n",
       "      <td id=\"T_b8718_row0_col0\" class=\"data row0 col0\" >Curry Leaves</td>\n",
       "      <td id=\"T_b8718_row0_col1\" class=\"data row0 col1\" >Fruits & Vegetables</td>\n",
       "      <td id=\"T_b8718_row0_col2\" class=\"data row0 col2\" >86.666667</td>\n",
       "    </tr>\n",
       "    <tr>\n",
       "      <th id=\"T_b8718_level0_row1\" class=\"row_heading level0 row1\" >17713</th>\n",
       "      <td id=\"T_b8718_row1_col0\" class=\"data row1 col0\" >Fruit & Vegetables Hand Juicer</td>\n",
       "      <td id=\"T_b8718_row1_col1\" class=\"data row1 col1\" >Kitchen, Garden & Pets</td>\n",
       "      <td id=\"T_b8718_row1_col2\" class=\"data row1 col2\" >82.506266</td>\n",
       "    </tr>\n",
       "    <tr>\n",
       "      <th id=\"T_b8718_level0_row2\" class=\"row_heading level0 row2\" >13318</th>\n",
       "      <td id=\"T_b8718_row2_col0\" class=\"data row2 col0\" >Small Silicone Spatula With Plastic Handle - Assorted Colours</td>\n",
       "      <td id=\"T_b8718_row2_col1\" class=\"data row2 col1\" >Kitchen, Garden & Pets</td>\n",
       "      <td id=\"T_b8718_row2_col2\" class=\"data row2 col2\" >81.203008</td>\n",
       "    </tr>\n",
       "    <tr>\n",
       "      <th id=\"T_b8718_level0_row3\" class=\"row_heading level0 row3\" >13740</th>\n",
       "      <td id=\"T_b8718_row3_col0\" class=\"data row3 col0\" >Decorative Party Light Big Star String LED Light 2 M - Multicolour</td>\n",
       "      <td id=\"T_b8718_row3_col1\" class=\"data row3 col1\" >Kitchen, Garden & Pets</td>\n",
       "      <td id=\"T_b8718_row3_col2\" class=\"data row3 col2\" >80.982712</td>\n",
       "    </tr>\n",
       "    <tr>\n",
       "      <th id=\"T_b8718_level0_row4\" class=\"row_heading level0 row4\" >10438</th>\n",
       "      <td id=\"T_b8718_row4_col0\" class=\"data row4 col0\" >NHS 860 Temperature Control Professional Hair Straightener</td>\n",
       "      <td id=\"T_b8718_row4_col1\" class=\"data row4 col1\" >Beauty & Hygiene</td>\n",
       "      <td id=\"T_b8718_row4_col2\" class=\"data row4 col2\" >80.501044</td>\n",
       "    </tr>\n",
       "    <tr>\n",
       "      <th id=\"T_b8718_level0_row5\" class=\"row_heading level0 row5\" >4562</th>\n",
       "      <td id=\"T_b8718_row5_col0\" class=\"data row5 col0\" >Concealer Brush 930</td>\n",
       "      <td id=\"T_b8718_row5_col1\" class=\"data row5 col1\" >Beauty & Hygiene</td>\n",
       "      <td id=\"T_b8718_row5_col2\" class=\"data row5 col2\" >80.000000</td>\n",
       "    </tr>\n",
       "    <tr>\n",
       "      <th id=\"T_b8718_level0_row6\" class=\"row_heading level0 row6\" >11473</th>\n",
       "      <td id=\"T_b8718_row6_col0\" class=\"data row6 col0\" >Decorative Party Light Golden Bell String LED Light 7 M - Warm White</td>\n",
       "      <td id=\"T_b8718_row6_col1\" class=\"data row6 col1\" >Kitchen, Garden & Pets</td>\n",
       "      <td id=\"T_b8718_row6_col2\" class=\"data row6 col2\" >79.239620</td>\n",
       "    </tr>\n",
       "    <tr>\n",
       "      <th id=\"T_b8718_level0_row7\" class=\"row_heading level0 row7\" >13265</th>\n",
       "      <td id=\"T_b8718_row7_col0\" class=\"data row7 col0\" >Decorative Party Light Golden Bell String LED Light 7 M - Multicolour</td>\n",
       "      <td id=\"T_b8718_row7_col1\" class=\"data row7 col1\" >Kitchen, Garden & Pets</td>\n",
       "      <td id=\"T_b8718_row7_col2\" class=\"data row7 col2\" >79.239620</td>\n",
       "    </tr>\n",
       "    <tr>\n",
       "      <th id=\"T_b8718_level0_row8\" class=\"row_heading level0 row8\" >10092</th>\n",
       "      <td id=\"T_b8718_row8_col0\" class=\"data row8 col0\" >USB String Fairy Lights 3M 30 LED For Decoration - Multicolour</td>\n",
       "      <td id=\"T_b8718_row8_col1\" class=\"data row8 col1\" >Kitchen, Garden & Pets</td>\n",
       "      <td id=\"T_b8718_row8_col2\" class=\"data row8 col2\" >78.696742</td>\n",
       "    </tr>\n",
       "    <tr>\n",
       "      <th id=\"T_b8718_level0_row9\" class=\"row_heading level0 row9\" >24292</th>\n",
       "      <td id=\"T_b8718_row9_col0\" class=\"data row9 col0\" >Steel Belly Shape Storage Dabba/ Container Set With PP Lid - Silver & Purple</td>\n",
       "      <td id=\"T_b8718_row9_col1\" class=\"data row9 col1\" >Kitchen, Garden & Pets</td>\n",
       "      <td id=\"T_b8718_row9_col2\" class=\"data row9 col2\" >77.989950</td>\n",
       "    </tr>\n",
       "    <tr>\n",
       "      <th id=\"T_b8718_level0_row10\" class=\"row_heading level0 row10\" >398</th>\n",
       "      <td id=\"T_b8718_row10_col0\" class=\"data row10 col0\" >Steel Belly Shape Storage Dabba/ Container Set With PP Lid - Silver & Blue</td>\n",
       "      <td id=\"T_b8718_row10_col1\" class=\"data row10 col1\" >Kitchen, Garden & Pets</td>\n",
       "      <td id=\"T_b8718_row10_col2\" class=\"data row10 col2\" >77.989950</td>\n",
       "    </tr>\n",
       "    <tr>\n",
       "      <th id=\"T_b8718_level0_row11\" class=\"row_heading level0 row11\" >27007</th>\n",
       "      <td id=\"T_b8718_row11_col0\" class=\"data row11 col0\" >Decorative Party Light Leaves String LED Light 7.5 M - Warm White</td>\n",
       "      <td id=\"T_b8718_row11_col1\" class=\"data row11 col1\" >Kitchen, Garden & Pets</td>\n",
       "      <td id=\"T_b8718_row11_col2\" class=\"data row11 col2\" >77.477477</td>\n",
       "    </tr>\n",
       "    <tr>\n",
       "      <th id=\"T_b8718_level0_row12\" class=\"row_heading level0 row12\" >9792</th>\n",
       "      <td id=\"T_b8718_row12_col0\" class=\"data row12 col0\" >Decorative Party Light Pine String LED Light 7 M - Warm White</td>\n",
       "      <td id=\"T_b8718_row12_col1\" class=\"data row12 col1\" >Kitchen, Garden & Pets</td>\n",
       "      <td id=\"T_b8718_row12_col2\" class=\"data row12 col2\" >77.477477</td>\n",
       "    </tr>\n",
       "    <tr>\n",
       "      <th id=\"T_b8718_level0_row13\" class=\"row_heading level0 row13\" >19042</th>\n",
       "      <td id=\"T_b8718_row13_col0\" class=\"data row13 col0\" >Big Silicone Spatula With Plastic Handle - Blue</td>\n",
       "      <td id=\"T_b8718_row13_col1\" class=\"data row13 col1\" >Kitchen, Garden & Pets</td>\n",
       "      <td id=\"T_b8718_row13_col2\" class=\"data row13 col2\" >76.923077</td>\n",
       "    </tr>\n",
       "    <tr>\n",
       "      <th id=\"T_b8718_level0_row14\" class=\"row_heading level0 row14\" >14975</th>\n",
       "      <td id=\"T_b8718_row14_col0\" class=\"data row14 col0\" >NHS-900 Temperature Control Professional Hair Straightener</td>\n",
       "      <td id=\"T_b8718_row14_col1\" class=\"data row14 col1\" >Beauty & Hygiene</td>\n",
       "      <td id=\"T_b8718_row14_col2\" class=\"data row14 col2\" >76.513026</td>\n",
       "    </tr>\n",
       "  </tbody>\n",
       "</table>\n"
      ],
      "text/plain": [
       "<pandas.io.formats.style.Styler at 0x1bf182074d0>"
      ]
     },
     "execution_count": 27,
     "metadata": {},
     "output_type": "execute_result"
    }
   ],
   "source": [
    "df[['product','category', 'Discount']].sort_values('Discount', ascending=False).head(15).style.background_gradient('Greens')"
   ]
  },
  {
   "cell_type": "markdown",
   "id": "71eb3018",
   "metadata": {},
   "source": [
    "**Insights**\n",
    "  * **Maximun discounted category is `Kitchen, Garden & Pets`, on an average there is around 22%**"
   ]
  },
  {
   "cell_type": "code",
   "execution_count": 37,
   "id": "b8476368",
   "metadata": {},
   "outputs": [
    {
     "data": {
      "text/plain": [
       "21.266544727722216"
      ]
     },
     "execution_count": 37,
     "metadata": {},
     "output_type": "execute_result"
    }
   ],
   "source": [
    "df[df['category'] == 'Fruits & Vegetables']['Discount'].mean()"
   ]
  },
  {
   "cell_type": "code",
   "execution_count": 32,
   "id": "170c6074",
   "metadata": {},
   "outputs": [
    {
     "data": {
      "text/plain": [
       "22.174895178334946"
      ]
     },
     "execution_count": 32,
     "metadata": {},
     "output_type": "execute_result"
    }
   ],
   "source": [
    "df[df['category'] == 'Kitchen, Garden & Pets']['Discount'].mean()"
   ]
  },
  {
   "cell_type": "code",
   "execution_count": 35,
   "id": "c6c0d0cb",
   "metadata": {},
   "outputs": [
    {
     "data": {
      "text/plain": [
       "category\n",
       "Kitchen, Garden & Pets      22.174895\n",
       "Fruits & Vegetables         21.266545\n",
       "Beauty & Hygiene            12.354489\n",
       "Foodgrains, Oil & Masala    11.847165\n",
       "Cleaning & Household        10.795026\n",
       "Beverages                    9.564089\n",
       "Eggs, Meat & Fish            8.064908\n",
       "Gourmet & World Food         7.869536\n",
       "Bakery, Cakes & Dairy        7.684198\n",
       "Snacks & Branded Foods       6.642546\n",
       "Baby Care                    5.856489\n",
       "Name: Discount, dtype: float64"
      ]
     },
     "execution_count": 35,
     "metadata": {},
     "output_type": "execute_result"
    }
   ],
   "source": [
    "# For all Columns.\n",
    "df.groupby(['category'])['Discount'].mean().sort_values(ascending = False)"
   ]
  },
  {
   "cell_type": "markdown",
   "id": "39134546",
   "metadata": {},
   "source": [
    "**Business Action**\n",
    "  * **`Advantages`**\n",
    "    * **Stack similar or related products along with the rack of kitchen, garden & pets (Inventory, stock up, sourcing team will work with procurement to get the items available)**\n",
    "    * **Due to fast movement or competitive pricing the discounts has been there in the top category (Mangement Team)**\n",
    "\n",
    "  * **`Disadvantages`**\n",
    "    * **Overstocked (We need to improve the inventory management, need to check with sourcing team and procurement team)**\n",
    "    \n",
    "    * **Since the kitchen, Pet and Garden these are the items that have a less life, since it's has be consumed or used within a specific provided time, hence this could be reason for the organization to provide the discounts**"
   ]
  },
  {
   "cell_type": "markdown",
   "id": "f81e378e",
   "metadata": {},
   "source": [
    "**Objective 4 - Analysing the data on the basis on demands that is Products & Categories**"
   ]
  },
  {
   "cell_type": "code",
   "execution_count": 64,
   "id": "1de3bd20",
   "metadata": {},
   "outputs": [],
   "source": [
    "# We are focusing on products and categories.\n",
    "catprod_data = df[['product','category']]\n",
    "\n",
    "# Remove all the duplicated data.\n",
    "catprod_data = catprod_data.drop_duplicates()\n",
    "\n",
    "# group the data, and then count them based on product like how many products are available in each category.\n",
    "catprod_data = catprod_data.groupby('category').agg(product_count = ('product' , 'count')).reset_index().sort_values('product_count', ascending = False)"
   ]
  },
  {
   "cell_type": "code",
   "execution_count": 65,
   "id": "cc04cdb3",
   "metadata": {},
   "outputs": [
    {
     "data": {
      "text/html": [
       "<div>\n",
       "<style scoped>\n",
       "    .dataframe tbody tr th:only-of-type {\n",
       "        vertical-align: middle;\n",
       "    }\n",
       "\n",
       "    .dataframe tbody tr th {\n",
       "        vertical-align: top;\n",
       "    }\n",
       "\n",
       "    .dataframe thead th {\n",
       "        text-align: right;\n",
       "    }\n",
       "</style>\n",
       "<table border=\"1\" class=\"dataframe\">\n",
       "  <thead>\n",
       "    <tr style=\"text-align: right;\">\n",
       "      <th></th>\n",
       "      <th>category</th>\n",
       "      <th>product_count</th>\n",
       "    </tr>\n",
       "  </thead>\n",
       "  <tbody>\n",
       "    <tr>\n",
       "      <th>2</th>\n",
       "      <td>Beauty &amp; Hygiene</td>\n",
       "      <td>6839</td>\n",
       "    </tr>\n",
       "    <tr>\n",
       "      <th>8</th>\n",
       "      <td>Gourmet &amp; World Food</td>\n",
       "      <td>4109</td>\n",
       "    </tr>\n",
       "    <tr>\n",
       "      <th>9</th>\n",
       "      <td>Kitchen, Garden &amp; Pets</td>\n",
       "      <td>3186</td>\n",
       "    </tr>\n",
       "    <tr>\n",
       "      <th>10</th>\n",
       "      <td>Snacks &amp; Branded Foods</td>\n",
       "      <td>2454</td>\n",
       "    </tr>\n",
       "    <tr>\n",
       "      <th>4</th>\n",
       "      <td>Cleaning &amp; Household</td>\n",
       "      <td>2411</td>\n",
       "    </tr>\n",
       "    <tr>\n",
       "      <th>6</th>\n",
       "      <td>Foodgrains, Oil &amp; Masala</td>\n",
       "      <td>1997</td>\n",
       "    </tr>\n",
       "    <tr>\n",
       "      <th>3</th>\n",
       "      <td>Beverages</td>\n",
       "      <td>756</td>\n",
       "    </tr>\n",
       "    <tr>\n",
       "      <th>1</th>\n",
       "      <td>Bakery, Cakes &amp; Dairy</td>\n",
       "      <td>752</td>\n",
       "    </tr>\n",
       "    <tr>\n",
       "      <th>0</th>\n",
       "      <td>Baby Care</td>\n",
       "      <td>549</td>\n",
       "    </tr>\n",
       "    <tr>\n",
       "      <th>7</th>\n",
       "      <td>Fruits &amp; Vegetables</td>\n",
       "      <td>353</td>\n",
       "    </tr>\n",
       "    <tr>\n",
       "      <th>5</th>\n",
       "      <td>Eggs, Meat &amp; Fish</td>\n",
       "      <td>338</td>\n",
       "    </tr>\n",
       "  </tbody>\n",
       "</table>\n",
       "</div>"
      ],
      "text/plain": [
       "                    category  product_count\n",
       "2           Beauty & Hygiene           6839\n",
       "8       Gourmet & World Food           4109\n",
       "9     Kitchen, Garden & Pets           3186\n",
       "10    Snacks & Branded Foods           2454\n",
       "4       Cleaning & Household           2411\n",
       "6   Foodgrains, Oil & Masala           1997\n",
       "3                  Beverages            756\n",
       "1      Bakery, Cakes & Dairy            752\n",
       "0                  Baby Care            549\n",
       "7        Fruits & Vegetables            353\n",
       "5          Eggs, Meat & Fish            338"
      ]
     },
     "execution_count": 65,
     "metadata": {},
     "output_type": "execute_result"
    }
   ],
   "source": [
    "catprod_data"
   ]
  },
  {
   "cell_type": "code",
   "execution_count": 81,
   "id": "d32c5a6d",
   "metadata": {},
   "outputs": [
    {
     "data": {
      "application/vnd.plotly.v1+json": {
       "config": {
        "plotlyServerURL": "https://plot.ly"
       },
       "data": [
        {
         "alignmentgroup": "True",
         "hovertemplate": "category=%{x}<br>product_count=%{y}<extra></extra>",
         "legendgroup": "Beauty & Hygiene",
         "marker": {
          "color": "#636efa",
          "pattern": {
           "shape": ""
          }
         },
         "name": "Beauty & Hygiene",
         "offsetgroup": "Beauty & Hygiene",
         "orientation": "v",
         "showlegend": true,
         "textposition": "auto",
         "type": "bar",
         "x": [
          "Beauty & Hygiene"
         ],
         "xaxis": "x",
         "y": [
          6839
         ],
         "yaxis": "y"
        },
        {
         "alignmentgroup": "True",
         "hovertemplate": "category=%{x}<br>product_count=%{y}<extra></extra>",
         "legendgroup": "Gourmet & World Food",
         "marker": {
          "color": "#EF553B",
          "pattern": {
           "shape": ""
          }
         },
         "name": "Gourmet & World Food",
         "offsetgroup": "Gourmet & World Food",
         "orientation": "v",
         "showlegend": true,
         "textposition": "auto",
         "type": "bar",
         "x": [
          "Gourmet & World Food"
         ],
         "xaxis": "x",
         "y": [
          4109
         ],
         "yaxis": "y"
        },
        {
         "alignmentgroup": "True",
         "hovertemplate": "category=%{x}<br>product_count=%{y}<extra></extra>",
         "legendgroup": "Kitchen, Garden & Pets",
         "marker": {
          "color": "#00cc96",
          "pattern": {
           "shape": ""
          }
         },
         "name": "Kitchen, Garden & Pets",
         "offsetgroup": "Kitchen, Garden & Pets",
         "orientation": "v",
         "showlegend": true,
         "textposition": "auto",
         "type": "bar",
         "x": [
          "Kitchen, Garden & Pets"
         ],
         "xaxis": "x",
         "y": [
          3186
         ],
         "yaxis": "y"
        },
        {
         "alignmentgroup": "True",
         "hovertemplate": "category=%{x}<br>product_count=%{y}<extra></extra>",
         "legendgroup": "Snacks & Branded Foods",
         "marker": {
          "color": "#ab63fa",
          "pattern": {
           "shape": ""
          }
         },
         "name": "Snacks & Branded Foods",
         "offsetgroup": "Snacks & Branded Foods",
         "orientation": "v",
         "showlegend": true,
         "textposition": "auto",
         "type": "bar",
         "x": [
          "Snacks & Branded Foods"
         ],
         "xaxis": "x",
         "y": [
          2454
         ],
         "yaxis": "y"
        },
        {
         "alignmentgroup": "True",
         "hovertemplate": "category=%{x}<br>product_count=%{y}<extra></extra>",
         "legendgroup": "Cleaning & Household",
         "marker": {
          "color": "#FFA15A",
          "pattern": {
           "shape": ""
          }
         },
         "name": "Cleaning & Household",
         "offsetgroup": "Cleaning & Household",
         "orientation": "v",
         "showlegend": true,
         "textposition": "auto",
         "type": "bar",
         "x": [
          "Cleaning & Household"
         ],
         "xaxis": "x",
         "y": [
          2411
         ],
         "yaxis": "y"
        },
        {
         "alignmentgroup": "True",
         "hovertemplate": "category=%{x}<br>product_count=%{y}<extra></extra>",
         "legendgroup": "Foodgrains, Oil & Masala",
         "marker": {
          "color": "#19d3f3",
          "pattern": {
           "shape": ""
          }
         },
         "name": "Foodgrains, Oil & Masala",
         "offsetgroup": "Foodgrains, Oil & Masala",
         "orientation": "v",
         "showlegend": true,
         "textposition": "auto",
         "type": "bar",
         "x": [
          "Foodgrains, Oil & Masala"
         ],
         "xaxis": "x",
         "y": [
          1997
         ],
         "yaxis": "y"
        },
        {
         "alignmentgroup": "True",
         "hovertemplate": "category=%{x}<br>product_count=%{y}<extra></extra>",
         "legendgroup": "Beverages",
         "marker": {
          "color": "#FF6692",
          "pattern": {
           "shape": ""
          }
         },
         "name": "Beverages",
         "offsetgroup": "Beverages",
         "orientation": "v",
         "showlegend": true,
         "textposition": "auto",
         "type": "bar",
         "x": [
          "Beverages"
         ],
         "xaxis": "x",
         "y": [
          756
         ],
         "yaxis": "y"
        },
        {
         "alignmentgroup": "True",
         "hovertemplate": "category=%{x}<br>product_count=%{y}<extra></extra>",
         "legendgroup": "Bakery, Cakes & Dairy",
         "marker": {
          "color": "#B6E880",
          "pattern": {
           "shape": ""
          }
         },
         "name": "Bakery, Cakes & Dairy",
         "offsetgroup": "Bakery, Cakes & Dairy",
         "orientation": "v",
         "showlegend": true,
         "textposition": "auto",
         "type": "bar",
         "x": [
          "Bakery, Cakes & Dairy"
         ],
         "xaxis": "x",
         "y": [
          752
         ],
         "yaxis": "y"
        },
        {
         "alignmentgroup": "True",
         "hovertemplate": "category=%{x}<br>product_count=%{y}<extra></extra>",
         "legendgroup": "Baby Care",
         "marker": {
          "color": "#FF97FF",
          "pattern": {
           "shape": ""
          }
         },
         "name": "Baby Care",
         "offsetgroup": "Baby Care",
         "orientation": "v",
         "showlegend": true,
         "textposition": "auto",
         "type": "bar",
         "x": [
          "Baby Care"
         ],
         "xaxis": "x",
         "y": [
          549
         ],
         "yaxis": "y"
        },
        {
         "alignmentgroup": "True",
         "hovertemplate": "category=%{x}<br>product_count=%{y}<extra></extra>",
         "legendgroup": "Fruits & Vegetables",
         "marker": {
          "color": "#FECB52",
          "pattern": {
           "shape": ""
          }
         },
         "name": "Fruits & Vegetables",
         "offsetgroup": "Fruits & Vegetables",
         "orientation": "v",
         "showlegend": true,
         "textposition": "auto",
         "type": "bar",
         "x": [
          "Fruits & Vegetables"
         ],
         "xaxis": "x",
         "y": [
          353
         ],
         "yaxis": "y"
        },
        {
         "alignmentgroup": "True",
         "hovertemplate": "category=%{x}<br>product_count=%{y}<extra></extra>",
         "legendgroup": "Eggs, Meat & Fish",
         "marker": {
          "color": "#636efa",
          "pattern": {
           "shape": ""
          }
         },
         "name": "Eggs, Meat & Fish",
         "offsetgroup": "Eggs, Meat & Fish",
         "orientation": "v",
         "showlegend": true,
         "textposition": "auto",
         "type": "bar",
         "x": [
          "Eggs, Meat & Fish"
         ],
         "xaxis": "x",
         "y": [
          338
         ],
         "yaxis": "y"
        }
       ],
       "layout": {
        "barmode": "relative",
        "legend": {
         "title": {
          "text": "category"
         },
         "tracegroupgap": 0
        },
        "template": {
         "data": {
          "bar": [
           {
            "error_x": {
             "color": "#2a3f5f"
            },
            "error_y": {
             "color": "#2a3f5f"
            },
            "marker": {
             "line": {
              "color": "#E5ECF6",
              "width": 0.5
             },
             "pattern": {
              "fillmode": "overlay",
              "size": 10,
              "solidity": 0.2
             }
            },
            "type": "bar"
           }
          ],
          "barpolar": [
           {
            "marker": {
             "line": {
              "color": "#E5ECF6",
              "width": 0.5
             },
             "pattern": {
              "fillmode": "overlay",
              "size": 10,
              "solidity": 0.2
             }
            },
            "type": "barpolar"
           }
          ],
          "carpet": [
           {
            "aaxis": {
             "endlinecolor": "#2a3f5f",
             "gridcolor": "white",
             "linecolor": "white",
             "minorgridcolor": "white",
             "startlinecolor": "#2a3f5f"
            },
            "baxis": {
             "endlinecolor": "#2a3f5f",
             "gridcolor": "white",
             "linecolor": "white",
             "minorgridcolor": "white",
             "startlinecolor": "#2a3f5f"
            },
            "type": "carpet"
           }
          ],
          "choropleth": [
           {
            "colorbar": {
             "outlinewidth": 0,
             "ticks": ""
            },
            "type": "choropleth"
           }
          ],
          "contour": [
           {
            "colorbar": {
             "outlinewidth": 0,
             "ticks": ""
            },
            "colorscale": [
             [
              0,
              "#0d0887"
             ],
             [
              0.1111111111111111,
              "#46039f"
             ],
             [
              0.2222222222222222,
              "#7201a8"
             ],
             [
              0.3333333333333333,
              "#9c179e"
             ],
             [
              0.4444444444444444,
              "#bd3786"
             ],
             [
              0.5555555555555556,
              "#d8576b"
             ],
             [
              0.6666666666666666,
              "#ed7953"
             ],
             [
              0.7777777777777778,
              "#fb9f3a"
             ],
             [
              0.8888888888888888,
              "#fdca26"
             ],
             [
              1,
              "#f0f921"
             ]
            ],
            "type": "contour"
           }
          ],
          "contourcarpet": [
           {
            "colorbar": {
             "outlinewidth": 0,
             "ticks": ""
            },
            "type": "contourcarpet"
           }
          ],
          "heatmap": [
           {
            "colorbar": {
             "outlinewidth": 0,
             "ticks": ""
            },
            "colorscale": [
             [
              0,
              "#0d0887"
             ],
             [
              0.1111111111111111,
              "#46039f"
             ],
             [
              0.2222222222222222,
              "#7201a8"
             ],
             [
              0.3333333333333333,
              "#9c179e"
             ],
             [
              0.4444444444444444,
              "#bd3786"
             ],
             [
              0.5555555555555556,
              "#d8576b"
             ],
             [
              0.6666666666666666,
              "#ed7953"
             ],
             [
              0.7777777777777778,
              "#fb9f3a"
             ],
             [
              0.8888888888888888,
              "#fdca26"
             ],
             [
              1,
              "#f0f921"
             ]
            ],
            "type": "heatmap"
           }
          ],
          "heatmapgl": [
           {
            "colorbar": {
             "outlinewidth": 0,
             "ticks": ""
            },
            "colorscale": [
             [
              0,
              "#0d0887"
             ],
             [
              0.1111111111111111,
              "#46039f"
             ],
             [
              0.2222222222222222,
              "#7201a8"
             ],
             [
              0.3333333333333333,
              "#9c179e"
             ],
             [
              0.4444444444444444,
              "#bd3786"
             ],
             [
              0.5555555555555556,
              "#d8576b"
             ],
             [
              0.6666666666666666,
              "#ed7953"
             ],
             [
              0.7777777777777778,
              "#fb9f3a"
             ],
             [
              0.8888888888888888,
              "#fdca26"
             ],
             [
              1,
              "#f0f921"
             ]
            ],
            "type": "heatmapgl"
           }
          ],
          "histogram": [
           {
            "marker": {
             "pattern": {
              "fillmode": "overlay",
              "size": 10,
              "solidity": 0.2
             }
            },
            "type": "histogram"
           }
          ],
          "histogram2d": [
           {
            "colorbar": {
             "outlinewidth": 0,
             "ticks": ""
            },
            "colorscale": [
             [
              0,
              "#0d0887"
             ],
             [
              0.1111111111111111,
              "#46039f"
             ],
             [
              0.2222222222222222,
              "#7201a8"
             ],
             [
              0.3333333333333333,
              "#9c179e"
             ],
             [
              0.4444444444444444,
              "#bd3786"
             ],
             [
              0.5555555555555556,
              "#d8576b"
             ],
             [
              0.6666666666666666,
              "#ed7953"
             ],
             [
              0.7777777777777778,
              "#fb9f3a"
             ],
             [
              0.8888888888888888,
              "#fdca26"
             ],
             [
              1,
              "#f0f921"
             ]
            ],
            "type": "histogram2d"
           }
          ],
          "histogram2dcontour": [
           {
            "colorbar": {
             "outlinewidth": 0,
             "ticks": ""
            },
            "colorscale": [
             [
              0,
              "#0d0887"
             ],
             [
              0.1111111111111111,
              "#46039f"
             ],
             [
              0.2222222222222222,
              "#7201a8"
             ],
             [
              0.3333333333333333,
              "#9c179e"
             ],
             [
              0.4444444444444444,
              "#bd3786"
             ],
             [
              0.5555555555555556,
              "#d8576b"
             ],
             [
              0.6666666666666666,
              "#ed7953"
             ],
             [
              0.7777777777777778,
              "#fb9f3a"
             ],
             [
              0.8888888888888888,
              "#fdca26"
             ],
             [
              1,
              "#f0f921"
             ]
            ],
            "type": "histogram2dcontour"
           }
          ],
          "mesh3d": [
           {
            "colorbar": {
             "outlinewidth": 0,
             "ticks": ""
            },
            "type": "mesh3d"
           }
          ],
          "parcoords": [
           {
            "line": {
             "colorbar": {
              "outlinewidth": 0,
              "ticks": ""
             }
            },
            "type": "parcoords"
           }
          ],
          "pie": [
           {
            "automargin": true,
            "type": "pie"
           }
          ],
          "scatter": [
           {
            "fillpattern": {
             "fillmode": "overlay",
             "size": 10,
             "solidity": 0.2
            },
            "type": "scatter"
           }
          ],
          "scatter3d": [
           {
            "line": {
             "colorbar": {
              "outlinewidth": 0,
              "ticks": ""
             }
            },
            "marker": {
             "colorbar": {
              "outlinewidth": 0,
              "ticks": ""
             }
            },
            "type": "scatter3d"
           }
          ],
          "scattercarpet": [
           {
            "marker": {
             "colorbar": {
              "outlinewidth": 0,
              "ticks": ""
             }
            },
            "type": "scattercarpet"
           }
          ],
          "scattergeo": [
           {
            "marker": {
             "colorbar": {
              "outlinewidth": 0,
              "ticks": ""
             }
            },
            "type": "scattergeo"
           }
          ],
          "scattergl": [
           {
            "marker": {
             "colorbar": {
              "outlinewidth": 0,
              "ticks": ""
             }
            },
            "type": "scattergl"
           }
          ],
          "scattermapbox": [
           {
            "marker": {
             "colorbar": {
              "outlinewidth": 0,
              "ticks": ""
             }
            },
            "type": "scattermapbox"
           }
          ],
          "scatterpolar": [
           {
            "marker": {
             "colorbar": {
              "outlinewidth": 0,
              "ticks": ""
             }
            },
            "type": "scatterpolar"
           }
          ],
          "scatterpolargl": [
           {
            "marker": {
             "colorbar": {
              "outlinewidth": 0,
              "ticks": ""
             }
            },
            "type": "scatterpolargl"
           }
          ],
          "scatterternary": [
           {
            "marker": {
             "colorbar": {
              "outlinewidth": 0,
              "ticks": ""
             }
            },
            "type": "scatterternary"
           }
          ],
          "surface": [
           {
            "colorbar": {
             "outlinewidth": 0,
             "ticks": ""
            },
            "colorscale": [
             [
              0,
              "#0d0887"
             ],
             [
              0.1111111111111111,
              "#46039f"
             ],
             [
              0.2222222222222222,
              "#7201a8"
             ],
             [
              0.3333333333333333,
              "#9c179e"
             ],
             [
              0.4444444444444444,
              "#bd3786"
             ],
             [
              0.5555555555555556,
              "#d8576b"
             ],
             [
              0.6666666666666666,
              "#ed7953"
             ],
             [
              0.7777777777777778,
              "#fb9f3a"
             ],
             [
              0.8888888888888888,
              "#fdca26"
             ],
             [
              1,
              "#f0f921"
             ]
            ],
            "type": "surface"
           }
          ],
          "table": [
           {
            "cells": {
             "fill": {
              "color": "#EBF0F8"
             },
             "line": {
              "color": "white"
             }
            },
            "header": {
             "fill": {
              "color": "#C8D4E3"
             },
             "line": {
              "color": "white"
             }
            },
            "type": "table"
           }
          ]
         },
         "layout": {
          "annotationdefaults": {
           "arrowcolor": "#2a3f5f",
           "arrowhead": 0,
           "arrowwidth": 1
          },
          "autotypenumbers": "strict",
          "coloraxis": {
           "colorbar": {
            "outlinewidth": 0,
            "ticks": ""
           }
          },
          "colorscale": {
           "diverging": [
            [
             0,
             "#8e0152"
            ],
            [
             0.1,
             "#c51b7d"
            ],
            [
             0.2,
             "#de77ae"
            ],
            [
             0.3,
             "#f1b6da"
            ],
            [
             0.4,
             "#fde0ef"
            ],
            [
             0.5,
             "#f7f7f7"
            ],
            [
             0.6,
             "#e6f5d0"
            ],
            [
             0.7,
             "#b8e186"
            ],
            [
             0.8,
             "#7fbc41"
            ],
            [
             0.9,
             "#4d9221"
            ],
            [
             1,
             "#276419"
            ]
           ],
           "sequential": [
            [
             0,
             "#0d0887"
            ],
            [
             0.1111111111111111,
             "#46039f"
            ],
            [
             0.2222222222222222,
             "#7201a8"
            ],
            [
             0.3333333333333333,
             "#9c179e"
            ],
            [
             0.4444444444444444,
             "#bd3786"
            ],
            [
             0.5555555555555556,
             "#d8576b"
            ],
            [
             0.6666666666666666,
             "#ed7953"
            ],
            [
             0.7777777777777778,
             "#fb9f3a"
            ],
            [
             0.8888888888888888,
             "#fdca26"
            ],
            [
             1,
             "#f0f921"
            ]
           ],
           "sequentialminus": [
            [
             0,
             "#0d0887"
            ],
            [
             0.1111111111111111,
             "#46039f"
            ],
            [
             0.2222222222222222,
             "#7201a8"
            ],
            [
             0.3333333333333333,
             "#9c179e"
            ],
            [
             0.4444444444444444,
             "#bd3786"
            ],
            [
             0.5555555555555556,
             "#d8576b"
            ],
            [
             0.6666666666666666,
             "#ed7953"
            ],
            [
             0.7777777777777778,
             "#fb9f3a"
            ],
            [
             0.8888888888888888,
             "#fdca26"
            ],
            [
             1,
             "#f0f921"
            ]
           ]
          },
          "colorway": [
           "#636efa",
           "#EF553B",
           "#00cc96",
           "#ab63fa",
           "#FFA15A",
           "#19d3f3",
           "#FF6692",
           "#B6E880",
           "#FF97FF",
           "#FECB52"
          ],
          "font": {
           "color": "#2a3f5f"
          },
          "geo": {
           "bgcolor": "white",
           "lakecolor": "white",
           "landcolor": "#E5ECF6",
           "showlakes": true,
           "showland": true,
           "subunitcolor": "white"
          },
          "hoverlabel": {
           "align": "left"
          },
          "hovermode": "closest",
          "mapbox": {
           "style": "light"
          },
          "paper_bgcolor": "white",
          "plot_bgcolor": "#E5ECF6",
          "polar": {
           "angularaxis": {
            "gridcolor": "white",
            "linecolor": "white",
            "ticks": ""
           },
           "bgcolor": "#E5ECF6",
           "radialaxis": {
            "gridcolor": "white",
            "linecolor": "white",
            "ticks": ""
           }
          },
          "scene": {
           "xaxis": {
            "backgroundcolor": "#E5ECF6",
            "gridcolor": "white",
            "gridwidth": 2,
            "linecolor": "white",
            "showbackground": true,
            "ticks": "",
            "zerolinecolor": "white"
           },
           "yaxis": {
            "backgroundcolor": "#E5ECF6",
            "gridcolor": "white",
            "gridwidth": 2,
            "linecolor": "white",
            "showbackground": true,
            "ticks": "",
            "zerolinecolor": "white"
           },
           "zaxis": {
            "backgroundcolor": "#E5ECF6",
            "gridcolor": "white",
            "gridwidth": 2,
            "linecolor": "white",
            "showbackground": true,
            "ticks": "",
            "zerolinecolor": "white"
           }
          },
          "shapedefaults": {
           "line": {
            "color": "#2a3f5f"
           }
          },
          "ternary": {
           "aaxis": {
            "gridcolor": "white",
            "linecolor": "white",
            "ticks": ""
           },
           "baxis": {
            "gridcolor": "white",
            "linecolor": "white",
            "ticks": ""
           },
           "bgcolor": "#E5ECF6",
           "caxis": {
            "gridcolor": "white",
            "linecolor": "white",
            "ticks": ""
           }
          },
          "title": {
           "x": 0.05
          },
          "xaxis": {
           "automargin": true,
           "gridcolor": "white",
           "linecolor": "white",
           "ticks": "",
           "title": {
            "standoff": 15
           },
           "zerolinecolor": "white",
           "zerolinewidth": 2
          },
          "yaxis": {
           "automargin": true,
           "gridcolor": "white",
           "linecolor": "white",
           "ticks": "",
           "title": {
            "standoff": 15
           },
           "zerolinecolor": "white",
           "zerolinewidth": 2
          }
         }
        },
        "title": {
         "text": "Analysis on the basis of Category and Product Count"
        },
        "xaxis": {
         "anchor": "y",
         "categoryarray": [
          "Beauty & Hygiene",
          "Gourmet & World Food",
          "Kitchen, Garden & Pets",
          "Snacks & Branded Foods",
          "Cleaning & Household",
          "Foodgrains, Oil & Masala",
          "Beverages",
          "Bakery, Cakes & Dairy",
          "Baby Care",
          "Fruits & Vegetables",
          "Eggs, Meat & Fish"
         ],
         "categoryorder": "array",
         "domain": [
          0,
          1
         ],
         "title": {
          "text": "category"
         }
        },
        "yaxis": {
         "anchor": "x",
         "domain": [
          0,
          1
         ],
         "title": {
          "text": "product_count"
         }
        }
       }
      },
      "text/html": [
       "<div>                            <div id=\"45aeaade-c1b5-4285-b45f-8a40e00cd1c3\" class=\"plotly-graph-div\" style=\"height:525px; width:100%;\"></div>            <script type=\"text/javascript\">                require([\"plotly\"], function(Plotly) {                    window.PLOTLYENV=window.PLOTLYENV || {};                                    if (document.getElementById(\"45aeaade-c1b5-4285-b45f-8a40e00cd1c3\")) {                    Plotly.newPlot(                        \"45aeaade-c1b5-4285-b45f-8a40e00cd1c3\",                        [{\"alignmentgroup\":\"True\",\"hovertemplate\":\"category=%{x}<br>product_count=%{y}<extra></extra>\",\"legendgroup\":\"Beauty & Hygiene\",\"marker\":{\"color\":\"#636efa\",\"pattern\":{\"shape\":\"\"}},\"name\":\"Beauty & Hygiene\",\"offsetgroup\":\"Beauty & Hygiene\",\"orientation\":\"v\",\"showlegend\":true,\"textposition\":\"auto\",\"x\":[\"Beauty & Hygiene\"],\"xaxis\":\"x\",\"y\":[6839],\"yaxis\":\"y\",\"type\":\"bar\"},{\"alignmentgroup\":\"True\",\"hovertemplate\":\"category=%{x}<br>product_count=%{y}<extra></extra>\",\"legendgroup\":\"Gourmet & World Food\",\"marker\":{\"color\":\"#EF553B\",\"pattern\":{\"shape\":\"\"}},\"name\":\"Gourmet & World Food\",\"offsetgroup\":\"Gourmet & World Food\",\"orientation\":\"v\",\"showlegend\":true,\"textposition\":\"auto\",\"x\":[\"Gourmet & World Food\"],\"xaxis\":\"x\",\"y\":[4109],\"yaxis\":\"y\",\"type\":\"bar\"},{\"alignmentgroup\":\"True\",\"hovertemplate\":\"category=%{x}<br>product_count=%{y}<extra></extra>\",\"legendgroup\":\"Kitchen, Garden & Pets\",\"marker\":{\"color\":\"#00cc96\",\"pattern\":{\"shape\":\"\"}},\"name\":\"Kitchen, Garden & Pets\",\"offsetgroup\":\"Kitchen, Garden & Pets\",\"orientation\":\"v\",\"showlegend\":true,\"textposition\":\"auto\",\"x\":[\"Kitchen, Garden & Pets\"],\"xaxis\":\"x\",\"y\":[3186],\"yaxis\":\"y\",\"type\":\"bar\"},{\"alignmentgroup\":\"True\",\"hovertemplate\":\"category=%{x}<br>product_count=%{y}<extra></extra>\",\"legendgroup\":\"Snacks & Branded Foods\",\"marker\":{\"color\":\"#ab63fa\",\"pattern\":{\"shape\":\"\"}},\"name\":\"Snacks & Branded Foods\",\"offsetgroup\":\"Snacks & Branded Foods\",\"orientation\":\"v\",\"showlegend\":true,\"textposition\":\"auto\",\"x\":[\"Snacks & Branded Foods\"],\"xaxis\":\"x\",\"y\":[2454],\"yaxis\":\"y\",\"type\":\"bar\"},{\"alignmentgroup\":\"True\",\"hovertemplate\":\"category=%{x}<br>product_count=%{y}<extra></extra>\",\"legendgroup\":\"Cleaning & Household\",\"marker\":{\"color\":\"#FFA15A\",\"pattern\":{\"shape\":\"\"}},\"name\":\"Cleaning & Household\",\"offsetgroup\":\"Cleaning & Household\",\"orientation\":\"v\",\"showlegend\":true,\"textposition\":\"auto\",\"x\":[\"Cleaning & Household\"],\"xaxis\":\"x\",\"y\":[2411],\"yaxis\":\"y\",\"type\":\"bar\"},{\"alignmentgroup\":\"True\",\"hovertemplate\":\"category=%{x}<br>product_count=%{y}<extra></extra>\",\"legendgroup\":\"Foodgrains, Oil & Masala\",\"marker\":{\"color\":\"#19d3f3\",\"pattern\":{\"shape\":\"\"}},\"name\":\"Foodgrains, Oil & Masala\",\"offsetgroup\":\"Foodgrains, Oil & Masala\",\"orientation\":\"v\",\"showlegend\":true,\"textposition\":\"auto\",\"x\":[\"Foodgrains, Oil & Masala\"],\"xaxis\":\"x\",\"y\":[1997],\"yaxis\":\"y\",\"type\":\"bar\"},{\"alignmentgroup\":\"True\",\"hovertemplate\":\"category=%{x}<br>product_count=%{y}<extra></extra>\",\"legendgroup\":\"Beverages\",\"marker\":{\"color\":\"#FF6692\",\"pattern\":{\"shape\":\"\"}},\"name\":\"Beverages\",\"offsetgroup\":\"Beverages\",\"orientation\":\"v\",\"showlegend\":true,\"textposition\":\"auto\",\"x\":[\"Beverages\"],\"xaxis\":\"x\",\"y\":[756],\"yaxis\":\"y\",\"type\":\"bar\"},{\"alignmentgroup\":\"True\",\"hovertemplate\":\"category=%{x}<br>product_count=%{y}<extra></extra>\",\"legendgroup\":\"Bakery, Cakes & Dairy\",\"marker\":{\"color\":\"#B6E880\",\"pattern\":{\"shape\":\"\"}},\"name\":\"Bakery, Cakes & Dairy\",\"offsetgroup\":\"Bakery, Cakes & Dairy\",\"orientation\":\"v\",\"showlegend\":true,\"textposition\":\"auto\",\"x\":[\"Bakery, Cakes & Dairy\"],\"xaxis\":\"x\",\"y\":[752],\"yaxis\":\"y\",\"type\":\"bar\"},{\"alignmentgroup\":\"True\",\"hovertemplate\":\"category=%{x}<br>product_count=%{y}<extra></extra>\",\"legendgroup\":\"Baby Care\",\"marker\":{\"color\":\"#FF97FF\",\"pattern\":{\"shape\":\"\"}},\"name\":\"Baby Care\",\"offsetgroup\":\"Baby Care\",\"orientation\":\"v\",\"showlegend\":true,\"textposition\":\"auto\",\"x\":[\"Baby Care\"],\"xaxis\":\"x\",\"y\":[549],\"yaxis\":\"y\",\"type\":\"bar\"},{\"alignmentgroup\":\"True\",\"hovertemplate\":\"category=%{x}<br>product_count=%{y}<extra></extra>\",\"legendgroup\":\"Fruits & Vegetables\",\"marker\":{\"color\":\"#FECB52\",\"pattern\":{\"shape\":\"\"}},\"name\":\"Fruits & Vegetables\",\"offsetgroup\":\"Fruits & Vegetables\",\"orientation\":\"v\",\"showlegend\":true,\"textposition\":\"auto\",\"x\":[\"Fruits & Vegetables\"],\"xaxis\":\"x\",\"y\":[353],\"yaxis\":\"y\",\"type\":\"bar\"},{\"alignmentgroup\":\"True\",\"hovertemplate\":\"category=%{x}<br>product_count=%{y}<extra></extra>\",\"legendgroup\":\"Eggs, Meat & Fish\",\"marker\":{\"color\":\"#636efa\",\"pattern\":{\"shape\":\"\"}},\"name\":\"Eggs, Meat & Fish\",\"offsetgroup\":\"Eggs, Meat & Fish\",\"orientation\":\"v\",\"showlegend\":true,\"textposition\":\"auto\",\"x\":[\"Eggs, Meat & Fish\"],\"xaxis\":\"x\",\"y\":[338],\"yaxis\":\"y\",\"type\":\"bar\"}],                        {\"template\":{\"data\":{\"histogram2dcontour\":[{\"type\":\"histogram2dcontour\",\"colorbar\":{\"outlinewidth\":0,\"ticks\":\"\"},\"colorscale\":[[0.0,\"#0d0887\"],[0.1111111111111111,\"#46039f\"],[0.2222222222222222,\"#7201a8\"],[0.3333333333333333,\"#9c179e\"],[0.4444444444444444,\"#bd3786\"],[0.5555555555555556,\"#d8576b\"],[0.6666666666666666,\"#ed7953\"],[0.7777777777777778,\"#fb9f3a\"],[0.8888888888888888,\"#fdca26\"],[1.0,\"#f0f921\"]]}],\"choropleth\":[{\"type\":\"choropleth\",\"colorbar\":{\"outlinewidth\":0,\"ticks\":\"\"}}],\"histogram2d\":[{\"type\":\"histogram2d\",\"colorbar\":{\"outlinewidth\":0,\"ticks\":\"\"},\"colorscale\":[[0.0,\"#0d0887\"],[0.1111111111111111,\"#46039f\"],[0.2222222222222222,\"#7201a8\"],[0.3333333333333333,\"#9c179e\"],[0.4444444444444444,\"#bd3786\"],[0.5555555555555556,\"#d8576b\"],[0.6666666666666666,\"#ed7953\"],[0.7777777777777778,\"#fb9f3a\"],[0.8888888888888888,\"#fdca26\"],[1.0,\"#f0f921\"]]}],\"heatmap\":[{\"type\":\"heatmap\",\"colorbar\":{\"outlinewidth\":0,\"ticks\":\"\"},\"colorscale\":[[0.0,\"#0d0887\"],[0.1111111111111111,\"#46039f\"],[0.2222222222222222,\"#7201a8\"],[0.3333333333333333,\"#9c179e\"],[0.4444444444444444,\"#bd3786\"],[0.5555555555555556,\"#d8576b\"],[0.6666666666666666,\"#ed7953\"],[0.7777777777777778,\"#fb9f3a\"],[0.8888888888888888,\"#fdca26\"],[1.0,\"#f0f921\"]]}],\"heatmapgl\":[{\"type\":\"heatmapgl\",\"colorbar\":{\"outlinewidth\":0,\"ticks\":\"\"},\"colorscale\":[[0.0,\"#0d0887\"],[0.1111111111111111,\"#46039f\"],[0.2222222222222222,\"#7201a8\"],[0.3333333333333333,\"#9c179e\"],[0.4444444444444444,\"#bd3786\"],[0.5555555555555556,\"#d8576b\"],[0.6666666666666666,\"#ed7953\"],[0.7777777777777778,\"#fb9f3a\"],[0.8888888888888888,\"#fdca26\"],[1.0,\"#f0f921\"]]}],\"contourcarpet\":[{\"type\":\"contourcarpet\",\"colorbar\":{\"outlinewidth\":0,\"ticks\":\"\"}}],\"contour\":[{\"type\":\"contour\",\"colorbar\":{\"outlinewidth\":0,\"ticks\":\"\"},\"colorscale\":[[0.0,\"#0d0887\"],[0.1111111111111111,\"#46039f\"],[0.2222222222222222,\"#7201a8\"],[0.3333333333333333,\"#9c179e\"],[0.4444444444444444,\"#bd3786\"],[0.5555555555555556,\"#d8576b\"],[0.6666666666666666,\"#ed7953\"],[0.7777777777777778,\"#fb9f3a\"],[0.8888888888888888,\"#fdca26\"],[1.0,\"#f0f921\"]]}],\"surface\":[{\"type\":\"surface\",\"colorbar\":{\"outlinewidth\":0,\"ticks\":\"\"},\"colorscale\":[[0.0,\"#0d0887\"],[0.1111111111111111,\"#46039f\"],[0.2222222222222222,\"#7201a8\"],[0.3333333333333333,\"#9c179e\"],[0.4444444444444444,\"#bd3786\"],[0.5555555555555556,\"#d8576b\"],[0.6666666666666666,\"#ed7953\"],[0.7777777777777778,\"#fb9f3a\"],[0.8888888888888888,\"#fdca26\"],[1.0,\"#f0f921\"]]}],\"mesh3d\":[{\"type\":\"mesh3d\",\"colorbar\":{\"outlinewidth\":0,\"ticks\":\"\"}}],\"scatter\":[{\"fillpattern\":{\"fillmode\":\"overlay\",\"size\":10,\"solidity\":0.2},\"type\":\"scatter\"}],\"parcoords\":[{\"type\":\"parcoords\",\"line\":{\"colorbar\":{\"outlinewidth\":0,\"ticks\":\"\"}}}],\"scatterpolargl\":[{\"type\":\"scatterpolargl\",\"marker\":{\"colorbar\":{\"outlinewidth\":0,\"ticks\":\"\"}}}],\"bar\":[{\"error_x\":{\"color\":\"#2a3f5f\"},\"error_y\":{\"color\":\"#2a3f5f\"},\"marker\":{\"line\":{\"color\":\"#E5ECF6\",\"width\":0.5},\"pattern\":{\"fillmode\":\"overlay\",\"size\":10,\"solidity\":0.2}},\"type\":\"bar\"}],\"scattergeo\":[{\"type\":\"scattergeo\",\"marker\":{\"colorbar\":{\"outlinewidth\":0,\"ticks\":\"\"}}}],\"scatterpolar\":[{\"type\":\"scatterpolar\",\"marker\":{\"colorbar\":{\"outlinewidth\":0,\"ticks\":\"\"}}}],\"histogram\":[{\"marker\":{\"pattern\":{\"fillmode\":\"overlay\",\"size\":10,\"solidity\":0.2}},\"type\":\"histogram\"}],\"scattergl\":[{\"type\":\"scattergl\",\"marker\":{\"colorbar\":{\"outlinewidth\":0,\"ticks\":\"\"}}}],\"scatter3d\":[{\"type\":\"scatter3d\",\"line\":{\"colorbar\":{\"outlinewidth\":0,\"ticks\":\"\"}},\"marker\":{\"colorbar\":{\"outlinewidth\":0,\"ticks\":\"\"}}}],\"scattermapbox\":[{\"type\":\"scattermapbox\",\"marker\":{\"colorbar\":{\"outlinewidth\":0,\"ticks\":\"\"}}}],\"scatterternary\":[{\"type\":\"scatterternary\",\"marker\":{\"colorbar\":{\"outlinewidth\":0,\"ticks\":\"\"}}}],\"scattercarpet\":[{\"type\":\"scattercarpet\",\"marker\":{\"colorbar\":{\"outlinewidth\":0,\"ticks\":\"\"}}}],\"carpet\":[{\"aaxis\":{\"endlinecolor\":\"#2a3f5f\",\"gridcolor\":\"white\",\"linecolor\":\"white\",\"minorgridcolor\":\"white\",\"startlinecolor\":\"#2a3f5f\"},\"baxis\":{\"endlinecolor\":\"#2a3f5f\",\"gridcolor\":\"white\",\"linecolor\":\"white\",\"minorgridcolor\":\"white\",\"startlinecolor\":\"#2a3f5f\"},\"type\":\"carpet\"}],\"table\":[{\"cells\":{\"fill\":{\"color\":\"#EBF0F8\"},\"line\":{\"color\":\"white\"}},\"header\":{\"fill\":{\"color\":\"#C8D4E3\"},\"line\":{\"color\":\"white\"}},\"type\":\"table\"}],\"barpolar\":[{\"marker\":{\"line\":{\"color\":\"#E5ECF6\",\"width\":0.5},\"pattern\":{\"fillmode\":\"overlay\",\"size\":10,\"solidity\":0.2}},\"type\":\"barpolar\"}],\"pie\":[{\"automargin\":true,\"type\":\"pie\"}]},\"layout\":{\"autotypenumbers\":\"strict\",\"colorway\":[\"#636efa\",\"#EF553B\",\"#00cc96\",\"#ab63fa\",\"#FFA15A\",\"#19d3f3\",\"#FF6692\",\"#B6E880\",\"#FF97FF\",\"#FECB52\"],\"font\":{\"color\":\"#2a3f5f\"},\"hovermode\":\"closest\",\"hoverlabel\":{\"align\":\"left\"},\"paper_bgcolor\":\"white\",\"plot_bgcolor\":\"#E5ECF6\",\"polar\":{\"bgcolor\":\"#E5ECF6\",\"angularaxis\":{\"gridcolor\":\"white\",\"linecolor\":\"white\",\"ticks\":\"\"},\"radialaxis\":{\"gridcolor\":\"white\",\"linecolor\":\"white\",\"ticks\":\"\"}},\"ternary\":{\"bgcolor\":\"#E5ECF6\",\"aaxis\":{\"gridcolor\":\"white\",\"linecolor\":\"white\",\"ticks\":\"\"},\"baxis\":{\"gridcolor\":\"white\",\"linecolor\":\"white\",\"ticks\":\"\"},\"caxis\":{\"gridcolor\":\"white\",\"linecolor\":\"white\",\"ticks\":\"\"}},\"coloraxis\":{\"colorbar\":{\"outlinewidth\":0,\"ticks\":\"\"}},\"colorscale\":{\"sequential\":[[0.0,\"#0d0887\"],[0.1111111111111111,\"#46039f\"],[0.2222222222222222,\"#7201a8\"],[0.3333333333333333,\"#9c179e\"],[0.4444444444444444,\"#bd3786\"],[0.5555555555555556,\"#d8576b\"],[0.6666666666666666,\"#ed7953\"],[0.7777777777777778,\"#fb9f3a\"],[0.8888888888888888,\"#fdca26\"],[1.0,\"#f0f921\"]],\"sequentialminus\":[[0.0,\"#0d0887\"],[0.1111111111111111,\"#46039f\"],[0.2222222222222222,\"#7201a8\"],[0.3333333333333333,\"#9c179e\"],[0.4444444444444444,\"#bd3786\"],[0.5555555555555556,\"#d8576b\"],[0.6666666666666666,\"#ed7953\"],[0.7777777777777778,\"#fb9f3a\"],[0.8888888888888888,\"#fdca26\"],[1.0,\"#f0f921\"]],\"diverging\":[[0,\"#8e0152\"],[0.1,\"#c51b7d\"],[0.2,\"#de77ae\"],[0.3,\"#f1b6da\"],[0.4,\"#fde0ef\"],[0.5,\"#f7f7f7\"],[0.6,\"#e6f5d0\"],[0.7,\"#b8e186\"],[0.8,\"#7fbc41\"],[0.9,\"#4d9221\"],[1,\"#276419\"]]},\"xaxis\":{\"gridcolor\":\"white\",\"linecolor\":\"white\",\"ticks\":\"\",\"title\":{\"standoff\":15},\"zerolinecolor\":\"white\",\"automargin\":true,\"zerolinewidth\":2},\"yaxis\":{\"gridcolor\":\"white\",\"linecolor\":\"white\",\"ticks\":\"\",\"title\":{\"standoff\":15},\"zerolinecolor\":\"white\",\"automargin\":true,\"zerolinewidth\":2},\"scene\":{\"xaxis\":{\"backgroundcolor\":\"#E5ECF6\",\"gridcolor\":\"white\",\"linecolor\":\"white\",\"showbackground\":true,\"ticks\":\"\",\"zerolinecolor\":\"white\",\"gridwidth\":2},\"yaxis\":{\"backgroundcolor\":\"#E5ECF6\",\"gridcolor\":\"white\",\"linecolor\":\"white\",\"showbackground\":true,\"ticks\":\"\",\"zerolinecolor\":\"white\",\"gridwidth\":2},\"zaxis\":{\"backgroundcolor\":\"#E5ECF6\",\"gridcolor\":\"white\",\"linecolor\":\"white\",\"showbackground\":true,\"ticks\":\"\",\"zerolinecolor\":\"white\",\"gridwidth\":2}},\"shapedefaults\":{\"line\":{\"color\":\"#2a3f5f\"}},\"annotationdefaults\":{\"arrowcolor\":\"#2a3f5f\",\"arrowhead\":0,\"arrowwidth\":1},\"geo\":{\"bgcolor\":\"white\",\"landcolor\":\"#E5ECF6\",\"subunitcolor\":\"white\",\"showland\":true,\"showlakes\":true,\"lakecolor\":\"white\"},\"title\":{\"x\":0.05},\"mapbox\":{\"style\":\"light\"}}},\"xaxis\":{\"anchor\":\"y\",\"domain\":[0.0,1.0],\"title\":{\"text\":\"category\"},\"categoryorder\":\"array\",\"categoryarray\":[\"Beauty & Hygiene\",\"Gourmet & World Food\",\"Kitchen, Garden & Pets\",\"Snacks & Branded Foods\",\"Cleaning & Household\",\"Foodgrains, Oil & Masala\",\"Beverages\",\"Bakery, Cakes & Dairy\",\"Baby Care\",\"Fruits & Vegetables\",\"Eggs, Meat & Fish\"]},\"yaxis\":{\"anchor\":\"x\",\"domain\":[0.0,1.0],\"title\":{\"text\":\"product_count\"}},\"legend\":{\"title\":{\"text\":\"category\"},\"tracegroupgap\":0},\"title\":{\"text\":\"Analysis on the basis of Category and Product Count\"},\"barmode\":\"relative\"},                        {\"responsive\": true}                    ).then(function(){\n",
       "                            \n",
       "var gd = document.getElementById('45aeaade-c1b5-4285-b45f-8a40e00cd1c3');\n",
       "var x = new MutationObserver(function (mutations, observer) {{\n",
       "        var display = window.getComputedStyle(gd).display;\n",
       "        if (!display || display === 'none') {{\n",
       "            console.log([gd, 'removed!']);\n",
       "            Plotly.purge(gd);\n",
       "            observer.disconnect();\n",
       "        }}\n",
       "}});\n",
       "\n",
       "// Listen for the removal of the full notebook cells\n",
       "var notebookContainer = gd.closest('#notebook-container');\n",
       "if (notebookContainer) {{\n",
       "    x.observe(notebookContainer, {childList: true});\n",
       "}}\n",
       "\n",
       "// Listen for the clearing of the current output cell\n",
       "var outputEl = gd.closest('.output');\n",
       "if (outputEl) {{\n",
       "    x.observe(outputEl, {childList: true});\n",
       "}}\n",
       "\n",
       "                        })                };                });            </script>        </div>"
      ]
     },
     "metadata": {},
     "output_type": "display_data"
    }
   ],
   "source": [
    "fig = px.bar(catprod_data, x = \"category\", y = \"product_count\", color = \"category\", title = \"Analysis on the basis of Category and Product Count\")\n",
    "fig.show()"
   ]
  },
  {
   "cell_type": "markdown",
   "id": "7c0ecb37",
   "metadata": {},
   "source": [
    "**Insights**\n",
    "\n",
    "  * **We should focus on to increase the sales for beauty and hygiene since it has more number of products.(Management)**\n",
    "  * **So, in order increase the demand we can do a market research on the demand of the Beautification and Hygiene and on the basis of that we can offer discounts on the products**\n",
    "\n",
    "  * **Snacks and branded food items can be clubbed with Gourment & World food**\n",
    "\n",
    "  * **We can also reduce the supply for the same, as we are having ample amount of products in this category**\n",
    "\n",
    "  * **Seasonal offers can be also included, to increase the demand**"
   ]
  },
  {
   "cell_type": "code",
   "execution_count": 93,
   "id": "0e86e9bf",
   "metadata": {},
   "outputs": [
    {
     "data": {
      "text/html": [
       "<div>\n",
       "<style scoped>\n",
       "    .dataframe tbody tr th:only-of-type {\n",
       "        vertical-align: middle;\n",
       "    }\n",
       "\n",
       "    .dataframe tbody tr th {\n",
       "        vertical-align: top;\n",
       "    }\n",
       "\n",
       "    .dataframe thead th {\n",
       "        text-align: right;\n",
       "    }\n",
       "</style>\n",
       "<table border=\"1\" class=\"dataframe\">\n",
       "  <thead>\n",
       "    <tr style=\"text-align: right;\">\n",
       "      <th></th>\n",
       "      <th>index</th>\n",
       "      <th>product</th>\n",
       "      <th>category</th>\n",
       "      <th>sub_category</th>\n",
       "      <th>brand</th>\n",
       "      <th>sale_price</th>\n",
       "      <th>market_price</th>\n",
       "      <th>type</th>\n",
       "      <th>rating</th>\n",
       "      <th>description</th>\n",
       "      <th>Discount</th>\n",
       "    </tr>\n",
       "  </thead>\n",
       "  <tbody>\n",
       "    <tr>\n",
       "      <th>0</th>\n",
       "      <td>1</td>\n",
       "      <td>Garlic Oil - Vegetarian Capsule 500 mg</td>\n",
       "      <td>Beauty &amp; Hygiene</td>\n",
       "      <td>Hair Care</td>\n",
       "      <td>Sri Sri Ayurveda</td>\n",
       "      <td>220</td>\n",
       "      <td>220</td>\n",
       "      <td>Hair Oil &amp; Serum</td>\n",
       "      <td>4.1</td>\n",
       "      <td>This Product contains Garlic Oil that is known...</td>\n",
       "      <td>0.000000</td>\n",
       "    </tr>\n",
       "    <tr>\n",
       "      <th>1</th>\n",
       "      <td>2</td>\n",
       "      <td>Water Bottle - Orange</td>\n",
       "      <td>Kitchen, Garden &amp; Pets</td>\n",
       "      <td>Storage &amp; Accessories</td>\n",
       "      <td>Mastercook</td>\n",
       "      <td>180</td>\n",
       "      <td>180</td>\n",
       "      <td>Water &amp; Fridge Bottles</td>\n",
       "      <td>2.3</td>\n",
       "      <td>Each product is microwave safe (without lid), ...</td>\n",
       "      <td>0.000000</td>\n",
       "    </tr>\n",
       "    <tr>\n",
       "      <th>2</th>\n",
       "      <td>3</td>\n",
       "      <td>Brass Angle Deep - Plain, No.2</td>\n",
       "      <td>Cleaning &amp; Household</td>\n",
       "      <td>Pooja Needs</td>\n",
       "      <td>Trm</td>\n",
       "      <td>119</td>\n",
       "      <td>250</td>\n",
       "      <td>Lamp &amp; Lamp Oil</td>\n",
       "      <td>3.4</td>\n",
       "      <td>A perfect gift for all occasions, be it your m...</td>\n",
       "      <td>52.400000</td>\n",
       "    </tr>\n",
       "    <tr>\n",
       "      <th>3</th>\n",
       "      <td>4</td>\n",
       "      <td>Cereal Flip Lid Container/Storage Jar - Assort...</td>\n",
       "      <td>Cleaning &amp; Household</td>\n",
       "      <td>Bins &amp; Bathroom Ware</td>\n",
       "      <td>Nakoda</td>\n",
       "      <td>149</td>\n",
       "      <td>176</td>\n",
       "      <td>Laundry, Storage Baskets</td>\n",
       "      <td>3.7</td>\n",
       "      <td>Multipurpose container with an attractive desi...</td>\n",
       "      <td>15.340909</td>\n",
       "    </tr>\n",
       "    <tr>\n",
       "      <th>4</th>\n",
       "      <td>5</td>\n",
       "      <td>Creme Soft Soap - For Hands &amp; Body</td>\n",
       "      <td>Beauty &amp; Hygiene</td>\n",
       "      <td>Bath &amp; Hand Wash</td>\n",
       "      <td>Nivea</td>\n",
       "      <td>162</td>\n",
       "      <td>162</td>\n",
       "      <td>Bathing Bars &amp; Soaps</td>\n",
       "      <td>4.4</td>\n",
       "      <td>Nivea Creme Soft Soap gives your skin the best...</td>\n",
       "      <td>0.000000</td>\n",
       "    </tr>\n",
       "  </tbody>\n",
       "</table>\n",
       "</div>"
      ],
      "text/plain": [
       "   index                                            product  \\\n",
       "0      1             Garlic Oil - Vegetarian Capsule 500 mg   \n",
       "1      2                              Water Bottle - Orange   \n",
       "2      3                     Brass Angle Deep - Plain, No.2   \n",
       "3      4  Cereal Flip Lid Container/Storage Jar - Assort...   \n",
       "4      5                 Creme Soft Soap - For Hands & Body   \n",
       "\n",
       "                 category           sub_category              brand  \\\n",
       "0        Beauty & Hygiene              Hair Care  Sri Sri Ayurveda    \n",
       "1  Kitchen, Garden & Pets  Storage & Accessories         Mastercook   \n",
       "2    Cleaning & Household            Pooja Needs                Trm   \n",
       "3    Cleaning & Household   Bins & Bathroom Ware             Nakoda   \n",
       "4        Beauty & Hygiene       Bath & Hand Wash              Nivea   \n",
       "\n",
       "   sale_price  market_price                      type  rating  \\\n",
       "0         220           220          Hair Oil & Serum     4.1   \n",
       "1         180           180    Water & Fridge Bottles     2.3   \n",
       "2         119           250           Lamp & Lamp Oil     3.4   \n",
       "3         149           176  Laundry, Storage Baskets     3.7   \n",
       "4         162           162      Bathing Bars & Soaps     4.4   \n",
       "\n",
       "                                         description   Discount  \n",
       "0  This Product contains Garlic Oil that is known...   0.000000  \n",
       "1  Each product is microwave safe (without lid), ...   0.000000  \n",
       "2  A perfect gift for all occasions, be it your m...  52.400000  \n",
       "3  Multipurpose container with an attractive desi...  15.340909  \n",
       "4  Nivea Creme Soft Soap gives your skin the best...   0.000000  "
      ]
     },
     "execution_count": 93,
     "metadata": {},
     "output_type": "execute_result"
    }
   ],
   "source": [
    "df.head()"
   ]
  },
  {
   "cell_type": "markdown",
   "id": "aadf7ad0",
   "metadata": {},
   "source": [
    "**Objective 5 - Analysis on the basis of Brand and Type, to know which are the brands that are famous among consumer and what kind of products are famous from those brands**"
   ]
  },
  {
   "cell_type": "code",
   "execution_count": 87,
   "id": "134abe81",
   "metadata": {},
   "outputs": [],
   "source": [
    "# We are focusing on Brand and Type.\n",
    "brandType_data = df[['brand', 'type']]\n",
    "\n",
    "# Checking duplicates.\n",
    "brandType_data = brandType_data.drop_duplicates()\n",
    "\n",
    "# Group the data, and then count them based on type like how many types are available in each brand.\n",
    "brandType_data = brandType_data.groupby('brand').agg(type_count = ('type', 'count')).reset_index().sort_values('type_count', ascending = False)"
   ]
  },
  {
   "cell_type": "code",
   "execution_count": 88,
   "id": "37de7ab2",
   "metadata": {},
   "outputs": [
    {
     "data": {
      "text/html": [
       "<div>\n",
       "<style scoped>\n",
       "    .dataframe tbody tr th:only-of-type {\n",
       "        vertical-align: middle;\n",
       "    }\n",
       "\n",
       "    .dataframe tbody tr th {\n",
       "        vertical-align: top;\n",
       "    }\n",
       "\n",
       "    .dataframe thead th {\n",
       "        text-align: right;\n",
       "    }\n",
       "</style>\n",
       "<table border=\"1\" class=\"dataframe\">\n",
       "  <thead>\n",
       "    <tr style=\"text-align: right;\">\n",
       "      <th></th>\n",
       "      <th>brand</th>\n",
       "      <th>type_count</th>\n",
       "    </tr>\n",
       "  </thead>\n",
       "  <tbody>\n",
       "    <tr>\n",
       "      <th>2295</th>\n",
       "      <td>bb Combo</td>\n",
       "      <td>53</td>\n",
       "    </tr>\n",
       "    <tr>\n",
       "      <th>741</th>\n",
       "      <td>Fresho</td>\n",
       "      <td>42</td>\n",
       "    </tr>\n",
       "    <tr>\n",
       "      <th>171</th>\n",
       "      <td>BB Home</td>\n",
       "      <td>37</td>\n",
       "    </tr>\n",
       "    <tr>\n",
       "      <th>507</th>\n",
       "      <td>Dabur</td>\n",
       "      <td>34</td>\n",
       "    </tr>\n",
       "    <tr>\n",
       "      <th>2297</th>\n",
       "      <td>bb Royal</td>\n",
       "      <td>32</td>\n",
       "    </tr>\n",
       "    <tr>\n",
       "      <th>...</th>\n",
       "      <td>...</td>\n",
       "      <td>...</td>\n",
       "    </tr>\n",
       "    <tr>\n",
       "      <th>1361</th>\n",
       "      <td>Mugi Fresh</td>\n",
       "      <td>1</td>\n",
       "    </tr>\n",
       "    <tr>\n",
       "      <th>1360</th>\n",
       "      <td>Mud</td>\n",
       "      <td>1</td>\n",
       "    </tr>\n",
       "    <tr>\n",
       "      <th>1359</th>\n",
       "      <td>Mrs Bector'S Cremica</td>\n",
       "      <td>1</td>\n",
       "    </tr>\n",
       "    <tr>\n",
       "      <th>1358</th>\n",
       "      <td>Mr.Copper King</td>\n",
       "      <td>1</td>\n",
       "    </tr>\n",
       "    <tr>\n",
       "      <th>1156</th>\n",
       "      <td>Levista</td>\n",
       "      <td>1</td>\n",
       "    </tr>\n",
       "  </tbody>\n",
       "</table>\n",
       "<p>2313 rows × 2 columns</p>\n",
       "</div>"
      ],
      "text/plain": [
       "                     brand  type_count\n",
       "2295              bb Combo          53\n",
       "741                 Fresho          42\n",
       "171                BB Home          37\n",
       "507                  Dabur          34\n",
       "2297              bb Royal          32\n",
       "...                    ...         ...\n",
       "1361            Mugi Fresh           1\n",
       "1360                   Mud           1\n",
       "1359  Mrs Bector'S Cremica           1\n",
       "1358        Mr.Copper King           1\n",
       "1156               Levista           1\n",
       "\n",
       "[2313 rows x 2 columns]"
      ]
     },
     "execution_count": 88,
     "metadata": {},
     "output_type": "execute_result"
    }
   ],
   "source": [
    "brandType_data"
   ]
  },
  {
   "cell_type": "code",
   "execution_count": 90,
   "id": "c0632ecc",
   "metadata": {},
   "outputs": [
    {
     "data": {
      "application/vnd.plotly.v1+json": {
       "config": {
        "plotlyServerURL": "https://plot.ly"
       },
       "data": [
        {
         "alignmentgroup": "True",
         "hovertemplate": "brand=%{x}<br>type_count=%{y}<extra></extra>",
         "legendgroup": "bb Combo",
         "marker": {
          "color": "#636efa",
          "pattern": {
           "shape": ""
          }
         },
         "name": "bb Combo",
         "offsetgroup": "bb Combo",
         "orientation": "v",
         "showlegend": true,
         "textposition": "auto",
         "type": "bar",
         "x": [
          "bb Combo"
         ],
         "xaxis": "x",
         "y": [
          53
         ],
         "yaxis": "y"
        },
        {
         "alignmentgroup": "True",
         "hovertemplate": "brand=%{x}<br>type_count=%{y}<extra></extra>",
         "legendgroup": "Fresho",
         "marker": {
          "color": "#EF553B",
          "pattern": {
           "shape": ""
          }
         },
         "name": "Fresho",
         "offsetgroup": "Fresho",
         "orientation": "v",
         "showlegend": true,
         "textposition": "auto",
         "type": "bar",
         "x": [
          "Fresho"
         ],
         "xaxis": "x",
         "y": [
          42
         ],
         "yaxis": "y"
        },
        {
         "alignmentgroup": "True",
         "hovertemplate": "brand=%{x}<br>type_count=%{y}<extra></extra>",
         "legendgroup": "BB Home",
         "marker": {
          "color": "#00cc96",
          "pattern": {
           "shape": ""
          }
         },
         "name": "BB Home",
         "offsetgroup": "BB Home",
         "orientation": "v",
         "showlegend": true,
         "textposition": "auto",
         "type": "bar",
         "x": [
          "BB Home"
         ],
         "xaxis": "x",
         "y": [
          37
         ],
         "yaxis": "y"
        },
        {
         "alignmentgroup": "True",
         "hovertemplate": "brand=%{x}<br>type_count=%{y}<extra></extra>",
         "legendgroup": "Dabur",
         "marker": {
          "color": "#ab63fa",
          "pattern": {
           "shape": ""
          }
         },
         "name": "Dabur",
         "offsetgroup": "Dabur",
         "orientation": "v",
         "showlegend": true,
         "textposition": "auto",
         "type": "bar",
         "x": [
          "Dabur"
         ],
         "xaxis": "x",
         "y": [
          34
         ],
         "yaxis": "y"
        },
        {
         "alignmentgroup": "True",
         "hovertemplate": "brand=%{x}<br>type_count=%{y}<extra></extra>",
         "legendgroup": "bb Royal",
         "marker": {
          "color": "#FFA15A",
          "pattern": {
           "shape": ""
          }
         },
         "name": "bb Royal",
         "offsetgroup": "bb Royal",
         "orientation": "v",
         "showlegend": true,
         "textposition": "auto",
         "type": "bar",
         "x": [
          "bb Royal"
         ],
         "xaxis": "x",
         "y": [
          32
         ],
         "yaxis": "y"
        },
        {
         "alignmentgroup": "True",
         "hovertemplate": "brand=%{x}<br>type_count=%{y}<extra></extra>",
         "legendgroup": "DP",
         "marker": {
          "color": "#19d3f3",
          "pattern": {
           "shape": ""
          }
         },
         "name": "DP",
         "offsetgroup": "DP",
         "orientation": "v",
         "showlegend": true,
         "textposition": "auto",
         "type": "bar",
         "x": [
          "DP"
         ],
         "xaxis": "x",
         "y": [
          31
         ],
         "yaxis": "y"
        },
        {
         "alignmentgroup": "True",
         "hovertemplate": "brand=%{x}<br>type_count=%{y}<extra></extra>",
         "legendgroup": "Nutty Yogi",
         "marker": {
          "color": "#FF6692",
          "pattern": {
           "shape": ""
          }
         },
         "name": "Nutty Yogi",
         "offsetgroup": "Nutty Yogi",
         "orientation": "v",
         "showlegend": true,
         "textposition": "auto",
         "type": "bar",
         "x": [
          "Nutty Yogi"
         ],
         "xaxis": "x",
         "y": [
          23
         ],
         "yaxis": "y"
        },
        {
         "alignmentgroup": "True",
         "hovertemplate": "brand=%{x}<br>type_count=%{y}<extra></extra>",
         "legendgroup": "NUTRIWISH",
         "marker": {
          "color": "#B6E880",
          "pattern": {
           "shape": ""
          }
         },
         "name": "NUTRIWISH",
         "offsetgroup": "NUTRIWISH",
         "orientation": "v",
         "showlegend": true,
         "textposition": "auto",
         "type": "bar",
         "x": [
          "NUTRIWISH"
         ],
         "xaxis": "x",
         "y": [
          23
         ],
         "yaxis": "y"
        },
        {
         "alignmentgroup": "True",
         "hovertemplate": "brand=%{x}<br>type_count=%{y}<extra></extra>",
         "legendgroup": "Patanjali",
         "marker": {
          "color": "#FF97FF",
          "pattern": {
           "shape": ""
          }
         },
         "name": "Patanjali",
         "offsetgroup": "Patanjali",
         "orientation": "v",
         "showlegend": true,
         "textposition": "auto",
         "type": "bar",
         "x": [
          "Patanjali"
         ],
         "xaxis": "x",
         "y": [
          21
         ],
         "yaxis": "y"
        },
        {
         "alignmentgroup": "True",
         "hovertemplate": "brand=%{x}<br>type_count=%{y}<extra></extra>",
         "legendgroup": "Urban Platter",
         "marker": {
          "color": "#FECB52",
          "pattern": {
           "shape": ""
          }
         },
         "name": "Urban Platter",
         "offsetgroup": "Urban Platter",
         "orientation": "v",
         "showlegend": true,
         "textposition": "auto",
         "type": "bar",
         "x": [
          "Urban Platter"
         ],
         "xaxis": "x",
         "y": [
          21
         ],
         "yaxis": "y"
        }
       ],
       "layout": {
        "barmode": "relative",
        "legend": {
         "title": {
          "text": "brand"
         },
         "tracegroupgap": 0
        },
        "template": {
         "data": {
          "bar": [
           {
            "error_x": {
             "color": "#2a3f5f"
            },
            "error_y": {
             "color": "#2a3f5f"
            },
            "marker": {
             "line": {
              "color": "#E5ECF6",
              "width": 0.5
             },
             "pattern": {
              "fillmode": "overlay",
              "size": 10,
              "solidity": 0.2
             }
            },
            "type": "bar"
           }
          ],
          "barpolar": [
           {
            "marker": {
             "line": {
              "color": "#E5ECF6",
              "width": 0.5
             },
             "pattern": {
              "fillmode": "overlay",
              "size": 10,
              "solidity": 0.2
             }
            },
            "type": "barpolar"
           }
          ],
          "carpet": [
           {
            "aaxis": {
             "endlinecolor": "#2a3f5f",
             "gridcolor": "white",
             "linecolor": "white",
             "minorgridcolor": "white",
             "startlinecolor": "#2a3f5f"
            },
            "baxis": {
             "endlinecolor": "#2a3f5f",
             "gridcolor": "white",
             "linecolor": "white",
             "minorgridcolor": "white",
             "startlinecolor": "#2a3f5f"
            },
            "type": "carpet"
           }
          ],
          "choropleth": [
           {
            "colorbar": {
             "outlinewidth": 0,
             "ticks": ""
            },
            "type": "choropleth"
           }
          ],
          "contour": [
           {
            "colorbar": {
             "outlinewidth": 0,
             "ticks": ""
            },
            "colorscale": [
             [
              0,
              "#0d0887"
             ],
             [
              0.1111111111111111,
              "#46039f"
             ],
             [
              0.2222222222222222,
              "#7201a8"
             ],
             [
              0.3333333333333333,
              "#9c179e"
             ],
             [
              0.4444444444444444,
              "#bd3786"
             ],
             [
              0.5555555555555556,
              "#d8576b"
             ],
             [
              0.6666666666666666,
              "#ed7953"
             ],
             [
              0.7777777777777778,
              "#fb9f3a"
             ],
             [
              0.8888888888888888,
              "#fdca26"
             ],
             [
              1,
              "#f0f921"
             ]
            ],
            "type": "contour"
           }
          ],
          "contourcarpet": [
           {
            "colorbar": {
             "outlinewidth": 0,
             "ticks": ""
            },
            "type": "contourcarpet"
           }
          ],
          "heatmap": [
           {
            "colorbar": {
             "outlinewidth": 0,
             "ticks": ""
            },
            "colorscale": [
             [
              0,
              "#0d0887"
             ],
             [
              0.1111111111111111,
              "#46039f"
             ],
             [
              0.2222222222222222,
              "#7201a8"
             ],
             [
              0.3333333333333333,
              "#9c179e"
             ],
             [
              0.4444444444444444,
              "#bd3786"
             ],
             [
              0.5555555555555556,
              "#d8576b"
             ],
             [
              0.6666666666666666,
              "#ed7953"
             ],
             [
              0.7777777777777778,
              "#fb9f3a"
             ],
             [
              0.8888888888888888,
              "#fdca26"
             ],
             [
              1,
              "#f0f921"
             ]
            ],
            "type": "heatmap"
           }
          ],
          "heatmapgl": [
           {
            "colorbar": {
             "outlinewidth": 0,
             "ticks": ""
            },
            "colorscale": [
             [
              0,
              "#0d0887"
             ],
             [
              0.1111111111111111,
              "#46039f"
             ],
             [
              0.2222222222222222,
              "#7201a8"
             ],
             [
              0.3333333333333333,
              "#9c179e"
             ],
             [
              0.4444444444444444,
              "#bd3786"
             ],
             [
              0.5555555555555556,
              "#d8576b"
             ],
             [
              0.6666666666666666,
              "#ed7953"
             ],
             [
              0.7777777777777778,
              "#fb9f3a"
             ],
             [
              0.8888888888888888,
              "#fdca26"
             ],
             [
              1,
              "#f0f921"
             ]
            ],
            "type": "heatmapgl"
           }
          ],
          "histogram": [
           {
            "marker": {
             "pattern": {
              "fillmode": "overlay",
              "size": 10,
              "solidity": 0.2
             }
            },
            "type": "histogram"
           }
          ],
          "histogram2d": [
           {
            "colorbar": {
             "outlinewidth": 0,
             "ticks": ""
            },
            "colorscale": [
             [
              0,
              "#0d0887"
             ],
             [
              0.1111111111111111,
              "#46039f"
             ],
             [
              0.2222222222222222,
              "#7201a8"
             ],
             [
              0.3333333333333333,
              "#9c179e"
             ],
             [
              0.4444444444444444,
              "#bd3786"
             ],
             [
              0.5555555555555556,
              "#d8576b"
             ],
             [
              0.6666666666666666,
              "#ed7953"
             ],
             [
              0.7777777777777778,
              "#fb9f3a"
             ],
             [
              0.8888888888888888,
              "#fdca26"
             ],
             [
              1,
              "#f0f921"
             ]
            ],
            "type": "histogram2d"
           }
          ],
          "histogram2dcontour": [
           {
            "colorbar": {
             "outlinewidth": 0,
             "ticks": ""
            },
            "colorscale": [
             [
              0,
              "#0d0887"
             ],
             [
              0.1111111111111111,
              "#46039f"
             ],
             [
              0.2222222222222222,
              "#7201a8"
             ],
             [
              0.3333333333333333,
              "#9c179e"
             ],
             [
              0.4444444444444444,
              "#bd3786"
             ],
             [
              0.5555555555555556,
              "#d8576b"
             ],
             [
              0.6666666666666666,
              "#ed7953"
             ],
             [
              0.7777777777777778,
              "#fb9f3a"
             ],
             [
              0.8888888888888888,
              "#fdca26"
             ],
             [
              1,
              "#f0f921"
             ]
            ],
            "type": "histogram2dcontour"
           }
          ],
          "mesh3d": [
           {
            "colorbar": {
             "outlinewidth": 0,
             "ticks": ""
            },
            "type": "mesh3d"
           }
          ],
          "parcoords": [
           {
            "line": {
             "colorbar": {
              "outlinewidth": 0,
              "ticks": ""
             }
            },
            "type": "parcoords"
           }
          ],
          "pie": [
           {
            "automargin": true,
            "type": "pie"
           }
          ],
          "scatter": [
           {
            "fillpattern": {
             "fillmode": "overlay",
             "size": 10,
             "solidity": 0.2
            },
            "type": "scatter"
           }
          ],
          "scatter3d": [
           {
            "line": {
             "colorbar": {
              "outlinewidth": 0,
              "ticks": ""
             }
            },
            "marker": {
             "colorbar": {
              "outlinewidth": 0,
              "ticks": ""
             }
            },
            "type": "scatter3d"
           }
          ],
          "scattercarpet": [
           {
            "marker": {
             "colorbar": {
              "outlinewidth": 0,
              "ticks": ""
             }
            },
            "type": "scattercarpet"
           }
          ],
          "scattergeo": [
           {
            "marker": {
             "colorbar": {
              "outlinewidth": 0,
              "ticks": ""
             }
            },
            "type": "scattergeo"
           }
          ],
          "scattergl": [
           {
            "marker": {
             "colorbar": {
              "outlinewidth": 0,
              "ticks": ""
             }
            },
            "type": "scattergl"
           }
          ],
          "scattermapbox": [
           {
            "marker": {
             "colorbar": {
              "outlinewidth": 0,
              "ticks": ""
             }
            },
            "type": "scattermapbox"
           }
          ],
          "scatterpolar": [
           {
            "marker": {
             "colorbar": {
              "outlinewidth": 0,
              "ticks": ""
             }
            },
            "type": "scatterpolar"
           }
          ],
          "scatterpolargl": [
           {
            "marker": {
             "colorbar": {
              "outlinewidth": 0,
              "ticks": ""
             }
            },
            "type": "scatterpolargl"
           }
          ],
          "scatterternary": [
           {
            "marker": {
             "colorbar": {
              "outlinewidth": 0,
              "ticks": ""
             }
            },
            "type": "scatterternary"
           }
          ],
          "surface": [
           {
            "colorbar": {
             "outlinewidth": 0,
             "ticks": ""
            },
            "colorscale": [
             [
              0,
              "#0d0887"
             ],
             [
              0.1111111111111111,
              "#46039f"
             ],
             [
              0.2222222222222222,
              "#7201a8"
             ],
             [
              0.3333333333333333,
              "#9c179e"
             ],
             [
              0.4444444444444444,
              "#bd3786"
             ],
             [
              0.5555555555555556,
              "#d8576b"
             ],
             [
              0.6666666666666666,
              "#ed7953"
             ],
             [
              0.7777777777777778,
              "#fb9f3a"
             ],
             [
              0.8888888888888888,
              "#fdca26"
             ],
             [
              1,
              "#f0f921"
             ]
            ],
            "type": "surface"
           }
          ],
          "table": [
           {
            "cells": {
             "fill": {
              "color": "#EBF0F8"
             },
             "line": {
              "color": "white"
             }
            },
            "header": {
             "fill": {
              "color": "#C8D4E3"
             },
             "line": {
              "color": "white"
             }
            },
            "type": "table"
           }
          ]
         },
         "layout": {
          "annotationdefaults": {
           "arrowcolor": "#2a3f5f",
           "arrowhead": 0,
           "arrowwidth": 1
          },
          "autotypenumbers": "strict",
          "coloraxis": {
           "colorbar": {
            "outlinewidth": 0,
            "ticks": ""
           }
          },
          "colorscale": {
           "diverging": [
            [
             0,
             "#8e0152"
            ],
            [
             0.1,
             "#c51b7d"
            ],
            [
             0.2,
             "#de77ae"
            ],
            [
             0.3,
             "#f1b6da"
            ],
            [
             0.4,
             "#fde0ef"
            ],
            [
             0.5,
             "#f7f7f7"
            ],
            [
             0.6,
             "#e6f5d0"
            ],
            [
             0.7,
             "#b8e186"
            ],
            [
             0.8,
             "#7fbc41"
            ],
            [
             0.9,
             "#4d9221"
            ],
            [
             1,
             "#276419"
            ]
           ],
           "sequential": [
            [
             0,
             "#0d0887"
            ],
            [
             0.1111111111111111,
             "#46039f"
            ],
            [
             0.2222222222222222,
             "#7201a8"
            ],
            [
             0.3333333333333333,
             "#9c179e"
            ],
            [
             0.4444444444444444,
             "#bd3786"
            ],
            [
             0.5555555555555556,
             "#d8576b"
            ],
            [
             0.6666666666666666,
             "#ed7953"
            ],
            [
             0.7777777777777778,
             "#fb9f3a"
            ],
            [
             0.8888888888888888,
             "#fdca26"
            ],
            [
             1,
             "#f0f921"
            ]
           ],
           "sequentialminus": [
            [
             0,
             "#0d0887"
            ],
            [
             0.1111111111111111,
             "#46039f"
            ],
            [
             0.2222222222222222,
             "#7201a8"
            ],
            [
             0.3333333333333333,
             "#9c179e"
            ],
            [
             0.4444444444444444,
             "#bd3786"
            ],
            [
             0.5555555555555556,
             "#d8576b"
            ],
            [
             0.6666666666666666,
             "#ed7953"
            ],
            [
             0.7777777777777778,
             "#fb9f3a"
            ],
            [
             0.8888888888888888,
             "#fdca26"
            ],
            [
             1,
             "#f0f921"
            ]
           ]
          },
          "colorway": [
           "#636efa",
           "#EF553B",
           "#00cc96",
           "#ab63fa",
           "#FFA15A",
           "#19d3f3",
           "#FF6692",
           "#B6E880",
           "#FF97FF",
           "#FECB52"
          ],
          "font": {
           "color": "#2a3f5f"
          },
          "geo": {
           "bgcolor": "white",
           "lakecolor": "white",
           "landcolor": "#E5ECF6",
           "showlakes": true,
           "showland": true,
           "subunitcolor": "white"
          },
          "hoverlabel": {
           "align": "left"
          },
          "hovermode": "closest",
          "mapbox": {
           "style": "light"
          },
          "paper_bgcolor": "white",
          "plot_bgcolor": "#E5ECF6",
          "polar": {
           "angularaxis": {
            "gridcolor": "white",
            "linecolor": "white",
            "ticks": ""
           },
           "bgcolor": "#E5ECF6",
           "radialaxis": {
            "gridcolor": "white",
            "linecolor": "white",
            "ticks": ""
           }
          },
          "scene": {
           "xaxis": {
            "backgroundcolor": "#E5ECF6",
            "gridcolor": "white",
            "gridwidth": 2,
            "linecolor": "white",
            "showbackground": true,
            "ticks": "",
            "zerolinecolor": "white"
           },
           "yaxis": {
            "backgroundcolor": "#E5ECF6",
            "gridcolor": "white",
            "gridwidth": 2,
            "linecolor": "white",
            "showbackground": true,
            "ticks": "",
            "zerolinecolor": "white"
           },
           "zaxis": {
            "backgroundcolor": "#E5ECF6",
            "gridcolor": "white",
            "gridwidth": 2,
            "linecolor": "white",
            "showbackground": true,
            "ticks": "",
            "zerolinecolor": "white"
           }
          },
          "shapedefaults": {
           "line": {
            "color": "#2a3f5f"
           }
          },
          "ternary": {
           "aaxis": {
            "gridcolor": "white",
            "linecolor": "white",
            "ticks": ""
           },
           "baxis": {
            "gridcolor": "white",
            "linecolor": "white",
            "ticks": ""
           },
           "bgcolor": "#E5ECF6",
           "caxis": {
            "gridcolor": "white",
            "linecolor": "white",
            "ticks": ""
           }
          },
          "title": {
           "x": 0.05
          },
          "xaxis": {
           "automargin": true,
           "gridcolor": "white",
           "linecolor": "white",
           "ticks": "",
           "title": {
            "standoff": 15
           },
           "zerolinecolor": "white",
           "zerolinewidth": 2
          },
          "yaxis": {
           "automargin": true,
           "gridcolor": "white",
           "linecolor": "white",
           "ticks": "",
           "title": {
            "standoff": 15
           },
           "zerolinecolor": "white",
           "zerolinewidth": 2
          }
         }
        },
        "title": {
         "text": "Analysis on the basis of Brand and Type Count"
        },
        "xaxis": {
         "anchor": "y",
         "categoryarray": [
          "bb Combo",
          "Fresho",
          "BB Home",
          "Dabur",
          "bb Royal",
          "DP",
          "Nutty Yogi",
          "NUTRIWISH",
          "Patanjali",
          "Urban Platter"
         ],
         "categoryorder": "array",
         "domain": [
          0,
          1
         ],
         "title": {
          "text": "brand"
         }
        },
        "yaxis": {
         "anchor": "x",
         "domain": [
          0,
          1
         ],
         "title": {
          "text": "type_count"
         }
        }
       }
      },
      "text/html": [
       "<div>                            <div id=\"5dd4b6ed-ed25-45ba-8ff1-347503ee6d15\" class=\"plotly-graph-div\" style=\"height:525px; width:100%;\"></div>            <script type=\"text/javascript\">                require([\"plotly\"], function(Plotly) {                    window.PLOTLYENV=window.PLOTLYENV || {};                                    if (document.getElementById(\"5dd4b6ed-ed25-45ba-8ff1-347503ee6d15\")) {                    Plotly.newPlot(                        \"5dd4b6ed-ed25-45ba-8ff1-347503ee6d15\",                        [{\"alignmentgroup\":\"True\",\"hovertemplate\":\"brand=%{x}<br>type_count=%{y}<extra></extra>\",\"legendgroup\":\"bb Combo\",\"marker\":{\"color\":\"#636efa\",\"pattern\":{\"shape\":\"\"}},\"name\":\"bb Combo\",\"offsetgroup\":\"bb Combo\",\"orientation\":\"v\",\"showlegend\":true,\"textposition\":\"auto\",\"x\":[\"bb Combo\"],\"xaxis\":\"x\",\"y\":[53],\"yaxis\":\"y\",\"type\":\"bar\"},{\"alignmentgroup\":\"True\",\"hovertemplate\":\"brand=%{x}<br>type_count=%{y}<extra></extra>\",\"legendgroup\":\"Fresho\",\"marker\":{\"color\":\"#EF553B\",\"pattern\":{\"shape\":\"\"}},\"name\":\"Fresho\",\"offsetgroup\":\"Fresho\",\"orientation\":\"v\",\"showlegend\":true,\"textposition\":\"auto\",\"x\":[\"Fresho\"],\"xaxis\":\"x\",\"y\":[42],\"yaxis\":\"y\",\"type\":\"bar\"},{\"alignmentgroup\":\"True\",\"hovertemplate\":\"brand=%{x}<br>type_count=%{y}<extra></extra>\",\"legendgroup\":\"BB Home\",\"marker\":{\"color\":\"#00cc96\",\"pattern\":{\"shape\":\"\"}},\"name\":\"BB Home\",\"offsetgroup\":\"BB Home\",\"orientation\":\"v\",\"showlegend\":true,\"textposition\":\"auto\",\"x\":[\"BB Home\"],\"xaxis\":\"x\",\"y\":[37],\"yaxis\":\"y\",\"type\":\"bar\"},{\"alignmentgroup\":\"True\",\"hovertemplate\":\"brand=%{x}<br>type_count=%{y}<extra></extra>\",\"legendgroup\":\"Dabur\",\"marker\":{\"color\":\"#ab63fa\",\"pattern\":{\"shape\":\"\"}},\"name\":\"Dabur\",\"offsetgroup\":\"Dabur\",\"orientation\":\"v\",\"showlegend\":true,\"textposition\":\"auto\",\"x\":[\"Dabur\"],\"xaxis\":\"x\",\"y\":[34],\"yaxis\":\"y\",\"type\":\"bar\"},{\"alignmentgroup\":\"True\",\"hovertemplate\":\"brand=%{x}<br>type_count=%{y}<extra></extra>\",\"legendgroup\":\"bb Royal\",\"marker\":{\"color\":\"#FFA15A\",\"pattern\":{\"shape\":\"\"}},\"name\":\"bb Royal\",\"offsetgroup\":\"bb Royal\",\"orientation\":\"v\",\"showlegend\":true,\"textposition\":\"auto\",\"x\":[\"bb Royal\"],\"xaxis\":\"x\",\"y\":[32],\"yaxis\":\"y\",\"type\":\"bar\"},{\"alignmentgroup\":\"True\",\"hovertemplate\":\"brand=%{x}<br>type_count=%{y}<extra></extra>\",\"legendgroup\":\"DP\",\"marker\":{\"color\":\"#19d3f3\",\"pattern\":{\"shape\":\"\"}},\"name\":\"DP\",\"offsetgroup\":\"DP\",\"orientation\":\"v\",\"showlegend\":true,\"textposition\":\"auto\",\"x\":[\"DP\"],\"xaxis\":\"x\",\"y\":[31],\"yaxis\":\"y\",\"type\":\"bar\"},{\"alignmentgroup\":\"True\",\"hovertemplate\":\"brand=%{x}<br>type_count=%{y}<extra></extra>\",\"legendgroup\":\"Nutty Yogi\",\"marker\":{\"color\":\"#FF6692\",\"pattern\":{\"shape\":\"\"}},\"name\":\"Nutty Yogi\",\"offsetgroup\":\"Nutty Yogi\",\"orientation\":\"v\",\"showlegend\":true,\"textposition\":\"auto\",\"x\":[\"Nutty Yogi\"],\"xaxis\":\"x\",\"y\":[23],\"yaxis\":\"y\",\"type\":\"bar\"},{\"alignmentgroup\":\"True\",\"hovertemplate\":\"brand=%{x}<br>type_count=%{y}<extra></extra>\",\"legendgroup\":\"NUTRIWISH\",\"marker\":{\"color\":\"#B6E880\",\"pattern\":{\"shape\":\"\"}},\"name\":\"NUTRIWISH\",\"offsetgroup\":\"NUTRIWISH\",\"orientation\":\"v\",\"showlegend\":true,\"textposition\":\"auto\",\"x\":[\"NUTRIWISH\"],\"xaxis\":\"x\",\"y\":[23],\"yaxis\":\"y\",\"type\":\"bar\"},{\"alignmentgroup\":\"True\",\"hovertemplate\":\"brand=%{x}<br>type_count=%{y}<extra></extra>\",\"legendgroup\":\"Patanjali\",\"marker\":{\"color\":\"#FF97FF\",\"pattern\":{\"shape\":\"\"}},\"name\":\"Patanjali\",\"offsetgroup\":\"Patanjali\",\"orientation\":\"v\",\"showlegend\":true,\"textposition\":\"auto\",\"x\":[\"Patanjali\"],\"xaxis\":\"x\",\"y\":[21],\"yaxis\":\"y\",\"type\":\"bar\"},{\"alignmentgroup\":\"True\",\"hovertemplate\":\"brand=%{x}<br>type_count=%{y}<extra></extra>\",\"legendgroup\":\"Urban Platter\",\"marker\":{\"color\":\"#FECB52\",\"pattern\":{\"shape\":\"\"}},\"name\":\"Urban Platter\",\"offsetgroup\":\"Urban Platter\",\"orientation\":\"v\",\"showlegend\":true,\"textposition\":\"auto\",\"x\":[\"Urban Platter\"],\"xaxis\":\"x\",\"y\":[21],\"yaxis\":\"y\",\"type\":\"bar\"}],                        {\"template\":{\"data\":{\"histogram2dcontour\":[{\"type\":\"histogram2dcontour\",\"colorbar\":{\"outlinewidth\":0,\"ticks\":\"\"},\"colorscale\":[[0.0,\"#0d0887\"],[0.1111111111111111,\"#46039f\"],[0.2222222222222222,\"#7201a8\"],[0.3333333333333333,\"#9c179e\"],[0.4444444444444444,\"#bd3786\"],[0.5555555555555556,\"#d8576b\"],[0.6666666666666666,\"#ed7953\"],[0.7777777777777778,\"#fb9f3a\"],[0.8888888888888888,\"#fdca26\"],[1.0,\"#f0f921\"]]}],\"choropleth\":[{\"type\":\"choropleth\",\"colorbar\":{\"outlinewidth\":0,\"ticks\":\"\"}}],\"histogram2d\":[{\"type\":\"histogram2d\",\"colorbar\":{\"outlinewidth\":0,\"ticks\":\"\"},\"colorscale\":[[0.0,\"#0d0887\"],[0.1111111111111111,\"#46039f\"],[0.2222222222222222,\"#7201a8\"],[0.3333333333333333,\"#9c179e\"],[0.4444444444444444,\"#bd3786\"],[0.5555555555555556,\"#d8576b\"],[0.6666666666666666,\"#ed7953\"],[0.7777777777777778,\"#fb9f3a\"],[0.8888888888888888,\"#fdca26\"],[1.0,\"#f0f921\"]]}],\"heatmap\":[{\"type\":\"heatmap\",\"colorbar\":{\"outlinewidth\":0,\"ticks\":\"\"},\"colorscale\":[[0.0,\"#0d0887\"],[0.1111111111111111,\"#46039f\"],[0.2222222222222222,\"#7201a8\"],[0.3333333333333333,\"#9c179e\"],[0.4444444444444444,\"#bd3786\"],[0.5555555555555556,\"#d8576b\"],[0.6666666666666666,\"#ed7953\"],[0.7777777777777778,\"#fb9f3a\"],[0.8888888888888888,\"#fdca26\"],[1.0,\"#f0f921\"]]}],\"heatmapgl\":[{\"type\":\"heatmapgl\",\"colorbar\":{\"outlinewidth\":0,\"ticks\":\"\"},\"colorscale\":[[0.0,\"#0d0887\"],[0.1111111111111111,\"#46039f\"],[0.2222222222222222,\"#7201a8\"],[0.3333333333333333,\"#9c179e\"],[0.4444444444444444,\"#bd3786\"],[0.5555555555555556,\"#d8576b\"],[0.6666666666666666,\"#ed7953\"],[0.7777777777777778,\"#fb9f3a\"],[0.8888888888888888,\"#fdca26\"],[1.0,\"#f0f921\"]]}],\"contourcarpet\":[{\"type\":\"contourcarpet\",\"colorbar\":{\"outlinewidth\":0,\"ticks\":\"\"}}],\"contour\":[{\"type\":\"contour\",\"colorbar\":{\"outlinewidth\":0,\"ticks\":\"\"},\"colorscale\":[[0.0,\"#0d0887\"],[0.1111111111111111,\"#46039f\"],[0.2222222222222222,\"#7201a8\"],[0.3333333333333333,\"#9c179e\"],[0.4444444444444444,\"#bd3786\"],[0.5555555555555556,\"#d8576b\"],[0.6666666666666666,\"#ed7953\"],[0.7777777777777778,\"#fb9f3a\"],[0.8888888888888888,\"#fdca26\"],[1.0,\"#f0f921\"]]}],\"surface\":[{\"type\":\"surface\",\"colorbar\":{\"outlinewidth\":0,\"ticks\":\"\"},\"colorscale\":[[0.0,\"#0d0887\"],[0.1111111111111111,\"#46039f\"],[0.2222222222222222,\"#7201a8\"],[0.3333333333333333,\"#9c179e\"],[0.4444444444444444,\"#bd3786\"],[0.5555555555555556,\"#d8576b\"],[0.6666666666666666,\"#ed7953\"],[0.7777777777777778,\"#fb9f3a\"],[0.8888888888888888,\"#fdca26\"],[1.0,\"#f0f921\"]]}],\"mesh3d\":[{\"type\":\"mesh3d\",\"colorbar\":{\"outlinewidth\":0,\"ticks\":\"\"}}],\"scatter\":[{\"fillpattern\":{\"fillmode\":\"overlay\",\"size\":10,\"solidity\":0.2},\"type\":\"scatter\"}],\"parcoords\":[{\"type\":\"parcoords\",\"line\":{\"colorbar\":{\"outlinewidth\":0,\"ticks\":\"\"}}}],\"scatterpolargl\":[{\"type\":\"scatterpolargl\",\"marker\":{\"colorbar\":{\"outlinewidth\":0,\"ticks\":\"\"}}}],\"bar\":[{\"error_x\":{\"color\":\"#2a3f5f\"},\"error_y\":{\"color\":\"#2a3f5f\"},\"marker\":{\"line\":{\"color\":\"#E5ECF6\",\"width\":0.5},\"pattern\":{\"fillmode\":\"overlay\",\"size\":10,\"solidity\":0.2}},\"type\":\"bar\"}],\"scattergeo\":[{\"type\":\"scattergeo\",\"marker\":{\"colorbar\":{\"outlinewidth\":0,\"ticks\":\"\"}}}],\"scatterpolar\":[{\"type\":\"scatterpolar\",\"marker\":{\"colorbar\":{\"outlinewidth\":0,\"ticks\":\"\"}}}],\"histogram\":[{\"marker\":{\"pattern\":{\"fillmode\":\"overlay\",\"size\":10,\"solidity\":0.2}},\"type\":\"histogram\"}],\"scattergl\":[{\"type\":\"scattergl\",\"marker\":{\"colorbar\":{\"outlinewidth\":0,\"ticks\":\"\"}}}],\"scatter3d\":[{\"type\":\"scatter3d\",\"line\":{\"colorbar\":{\"outlinewidth\":0,\"ticks\":\"\"}},\"marker\":{\"colorbar\":{\"outlinewidth\":0,\"ticks\":\"\"}}}],\"scattermapbox\":[{\"type\":\"scattermapbox\",\"marker\":{\"colorbar\":{\"outlinewidth\":0,\"ticks\":\"\"}}}],\"scatterternary\":[{\"type\":\"scatterternary\",\"marker\":{\"colorbar\":{\"outlinewidth\":0,\"ticks\":\"\"}}}],\"scattercarpet\":[{\"type\":\"scattercarpet\",\"marker\":{\"colorbar\":{\"outlinewidth\":0,\"ticks\":\"\"}}}],\"carpet\":[{\"aaxis\":{\"endlinecolor\":\"#2a3f5f\",\"gridcolor\":\"white\",\"linecolor\":\"white\",\"minorgridcolor\":\"white\",\"startlinecolor\":\"#2a3f5f\"},\"baxis\":{\"endlinecolor\":\"#2a3f5f\",\"gridcolor\":\"white\",\"linecolor\":\"white\",\"minorgridcolor\":\"white\",\"startlinecolor\":\"#2a3f5f\"},\"type\":\"carpet\"}],\"table\":[{\"cells\":{\"fill\":{\"color\":\"#EBF0F8\"},\"line\":{\"color\":\"white\"}},\"header\":{\"fill\":{\"color\":\"#C8D4E3\"},\"line\":{\"color\":\"white\"}},\"type\":\"table\"}],\"barpolar\":[{\"marker\":{\"line\":{\"color\":\"#E5ECF6\",\"width\":0.5},\"pattern\":{\"fillmode\":\"overlay\",\"size\":10,\"solidity\":0.2}},\"type\":\"barpolar\"}],\"pie\":[{\"automargin\":true,\"type\":\"pie\"}]},\"layout\":{\"autotypenumbers\":\"strict\",\"colorway\":[\"#636efa\",\"#EF553B\",\"#00cc96\",\"#ab63fa\",\"#FFA15A\",\"#19d3f3\",\"#FF6692\",\"#B6E880\",\"#FF97FF\",\"#FECB52\"],\"font\":{\"color\":\"#2a3f5f\"},\"hovermode\":\"closest\",\"hoverlabel\":{\"align\":\"left\"},\"paper_bgcolor\":\"white\",\"plot_bgcolor\":\"#E5ECF6\",\"polar\":{\"bgcolor\":\"#E5ECF6\",\"angularaxis\":{\"gridcolor\":\"white\",\"linecolor\":\"white\",\"ticks\":\"\"},\"radialaxis\":{\"gridcolor\":\"white\",\"linecolor\":\"white\",\"ticks\":\"\"}},\"ternary\":{\"bgcolor\":\"#E5ECF6\",\"aaxis\":{\"gridcolor\":\"white\",\"linecolor\":\"white\",\"ticks\":\"\"},\"baxis\":{\"gridcolor\":\"white\",\"linecolor\":\"white\",\"ticks\":\"\"},\"caxis\":{\"gridcolor\":\"white\",\"linecolor\":\"white\",\"ticks\":\"\"}},\"coloraxis\":{\"colorbar\":{\"outlinewidth\":0,\"ticks\":\"\"}},\"colorscale\":{\"sequential\":[[0.0,\"#0d0887\"],[0.1111111111111111,\"#46039f\"],[0.2222222222222222,\"#7201a8\"],[0.3333333333333333,\"#9c179e\"],[0.4444444444444444,\"#bd3786\"],[0.5555555555555556,\"#d8576b\"],[0.6666666666666666,\"#ed7953\"],[0.7777777777777778,\"#fb9f3a\"],[0.8888888888888888,\"#fdca26\"],[1.0,\"#f0f921\"]],\"sequentialminus\":[[0.0,\"#0d0887\"],[0.1111111111111111,\"#46039f\"],[0.2222222222222222,\"#7201a8\"],[0.3333333333333333,\"#9c179e\"],[0.4444444444444444,\"#bd3786\"],[0.5555555555555556,\"#d8576b\"],[0.6666666666666666,\"#ed7953\"],[0.7777777777777778,\"#fb9f3a\"],[0.8888888888888888,\"#fdca26\"],[1.0,\"#f0f921\"]],\"diverging\":[[0,\"#8e0152\"],[0.1,\"#c51b7d\"],[0.2,\"#de77ae\"],[0.3,\"#f1b6da\"],[0.4,\"#fde0ef\"],[0.5,\"#f7f7f7\"],[0.6,\"#e6f5d0\"],[0.7,\"#b8e186\"],[0.8,\"#7fbc41\"],[0.9,\"#4d9221\"],[1,\"#276419\"]]},\"xaxis\":{\"gridcolor\":\"white\",\"linecolor\":\"white\",\"ticks\":\"\",\"title\":{\"standoff\":15},\"zerolinecolor\":\"white\",\"automargin\":true,\"zerolinewidth\":2},\"yaxis\":{\"gridcolor\":\"white\",\"linecolor\":\"white\",\"ticks\":\"\",\"title\":{\"standoff\":15},\"zerolinecolor\":\"white\",\"automargin\":true,\"zerolinewidth\":2},\"scene\":{\"xaxis\":{\"backgroundcolor\":\"#E5ECF6\",\"gridcolor\":\"white\",\"linecolor\":\"white\",\"showbackground\":true,\"ticks\":\"\",\"zerolinecolor\":\"white\",\"gridwidth\":2},\"yaxis\":{\"backgroundcolor\":\"#E5ECF6\",\"gridcolor\":\"white\",\"linecolor\":\"white\",\"showbackground\":true,\"ticks\":\"\",\"zerolinecolor\":\"white\",\"gridwidth\":2},\"zaxis\":{\"backgroundcolor\":\"#E5ECF6\",\"gridcolor\":\"white\",\"linecolor\":\"white\",\"showbackground\":true,\"ticks\":\"\",\"zerolinecolor\":\"white\",\"gridwidth\":2}},\"shapedefaults\":{\"line\":{\"color\":\"#2a3f5f\"}},\"annotationdefaults\":{\"arrowcolor\":\"#2a3f5f\",\"arrowhead\":0,\"arrowwidth\":1},\"geo\":{\"bgcolor\":\"white\",\"landcolor\":\"#E5ECF6\",\"subunitcolor\":\"white\",\"showland\":true,\"showlakes\":true,\"lakecolor\":\"white\"},\"title\":{\"x\":0.05},\"mapbox\":{\"style\":\"light\"}}},\"xaxis\":{\"anchor\":\"y\",\"domain\":[0.0,1.0],\"title\":{\"text\":\"brand\"},\"categoryorder\":\"array\",\"categoryarray\":[\"bb Combo\",\"Fresho\",\"BB Home\",\"Dabur\",\"bb Royal\",\"DP\",\"Nutty Yogi\",\"NUTRIWISH\",\"Patanjali\",\"Urban Platter\"]},\"yaxis\":{\"anchor\":\"x\",\"domain\":[0.0,1.0],\"title\":{\"text\":\"type_count\"}},\"legend\":{\"title\":{\"text\":\"brand\"},\"tracegroupgap\":0},\"title\":{\"text\":\"Analysis on the basis of Brand and Type Count\"},\"barmode\":\"relative\"},                        {\"responsive\": true}                    ).then(function(){\n",
       "                            \n",
       "var gd = document.getElementById('5dd4b6ed-ed25-45ba-8ff1-347503ee6d15');\n",
       "var x = new MutationObserver(function (mutations, observer) {{\n",
       "        var display = window.getComputedStyle(gd).display;\n",
       "        if (!display || display === 'none') {{\n",
       "            console.log([gd, 'removed!']);\n",
       "            Plotly.purge(gd);\n",
       "            observer.disconnect();\n",
       "        }}\n",
       "}});\n",
       "\n",
       "// Listen for the removal of the full notebook cells\n",
       "var notebookContainer = gd.closest('#notebook-container');\n",
       "if (notebookContainer) {{\n",
       "    x.observe(notebookContainer, {childList: true});\n",
       "}}\n",
       "\n",
       "// Listen for the clearing of the current output cell\n",
       "var outputEl = gd.closest('.output');\n",
       "if (outputEl) {{\n",
       "    x.observe(outputEl, {childList: true});\n",
       "}}\n",
       "\n",
       "                        })                };                });            </script>        </div>"
      ]
     },
     "metadata": {},
     "output_type": "display_data"
    }
   ],
   "source": [
    "fig = px.bar(brandType_data.head(10), x = 'brand', y = 'type_count', color = 'brand', title = \"Analysis on the basis of Brand and Type Count\")\n",
    "fig.show()"
   ]
  },
  {
   "cell_type": "markdown",
   "id": "5dd32aab",
   "metadata": {},
   "source": [
    "**Which Price Range is very famous?**"
   ]
  },
  {
   "cell_type": "markdown",
   "id": "3179bbb7",
   "metadata": {},
   "source": [
    "**Price Analysis**"
   ]
  },
  {
   "cell_type": "code",
   "execution_count": 96,
   "id": "7bbe3856",
   "metadata": {},
   "outputs": [
    {
     "name": "stdout",
     "output_type": "stream",
     "text": [
      "Analysis on Sales Price\n",
      "Average Pricing: 323.0\n",
      "Maximum Pricing: 12500\n",
      "Minimum Pricing: 2\n"
     ]
    }
   ],
   "source": [
    "print('Analysis on Sales Price')\n",
    "print('Average Pricing:', df['sale_price'].mean().round())\n",
    "print('Maximum Pricing:', df['sale_price'].max())\n",
    "print('Minimum Pricing:', df['sale_price'].min())"
   ]
  },
  {
   "cell_type": "code",
   "execution_count": 97,
   "id": "8dbf7fdc",
   "metadata": {},
   "outputs": [],
   "source": [
    "range_val = [\n",
    "    ['1-10',1, 10],\n",
    " ['11-25', 11, 25],\n",
    "  ['26-50', 26, 50],\n",
    "   ['51-100',51, 100],\n",
    "    ['101-150', 101, 150],\n",
    "     ['151-200', 151, 200],\n",
    "      ['201-300',201, 300],\n",
    "       ['301-400', 301, 400],\n",
    "        ['401-500', 401, 500],\n",
    "         ['501-1000',501, 1000],\n",
    "          ['1001-1500', 1001, 1500],\n",
    "           ['1501-2000', 1501, 2000],\n",
    "              ['2001-3000',2001, 3000],\n",
    "               ['3001-5000', 3001, 5000],\n",
    "                ['5001-10000', 5001, 10000],\n",
    "                 ['10001-15000',10001, 15000]]"
   ]
  },
  {
   "cell_type": "code",
   "execution_count": 98,
   "id": "6fd7bc40",
   "metadata": {},
   "outputs": [
    {
     "data": {
      "text/html": [
       "<div>\n",
       "<style scoped>\n",
       "    .dataframe tbody tr th:only-of-type {\n",
       "        vertical-align: middle;\n",
       "    }\n",
       "\n",
       "    .dataframe tbody tr th {\n",
       "        vertical-align: top;\n",
       "    }\n",
       "\n",
       "    .dataframe thead th {\n",
       "        text-align: right;\n",
       "    }\n",
       "</style>\n",
       "<table border=\"1\" class=\"dataframe\">\n",
       "  <thead>\n",
       "    <tr style=\"text-align: right;\">\n",
       "      <th></th>\n",
       "      <th>range_name</th>\n",
       "      <th>min_value</th>\n",
       "      <th>max_value</th>\n",
       "    </tr>\n",
       "  </thead>\n",
       "  <tbody>\n",
       "    <tr>\n",
       "      <th>0</th>\n",
       "      <td>1-10</td>\n",
       "      <td>1</td>\n",
       "      <td>10</td>\n",
       "    </tr>\n",
       "    <tr>\n",
       "      <th>1</th>\n",
       "      <td>11-25</td>\n",
       "      <td>11</td>\n",
       "      <td>25</td>\n",
       "    </tr>\n",
       "    <tr>\n",
       "      <th>2</th>\n",
       "      <td>26-50</td>\n",
       "      <td>26</td>\n",
       "      <td>50</td>\n",
       "    </tr>\n",
       "    <tr>\n",
       "      <th>3</th>\n",
       "      <td>51-100</td>\n",
       "      <td>51</td>\n",
       "      <td>100</td>\n",
       "    </tr>\n",
       "    <tr>\n",
       "      <th>4</th>\n",
       "      <td>101-150</td>\n",
       "      <td>101</td>\n",
       "      <td>150</td>\n",
       "    </tr>\n",
       "    <tr>\n",
       "      <th>5</th>\n",
       "      <td>151-200</td>\n",
       "      <td>151</td>\n",
       "      <td>200</td>\n",
       "    </tr>\n",
       "    <tr>\n",
       "      <th>6</th>\n",
       "      <td>201-300</td>\n",
       "      <td>201</td>\n",
       "      <td>300</td>\n",
       "    </tr>\n",
       "    <tr>\n",
       "      <th>7</th>\n",
       "      <td>301-400</td>\n",
       "      <td>301</td>\n",
       "      <td>400</td>\n",
       "    </tr>\n",
       "    <tr>\n",
       "      <th>8</th>\n",
       "      <td>401-500</td>\n",
       "      <td>401</td>\n",
       "      <td>500</td>\n",
       "    </tr>\n",
       "    <tr>\n",
       "      <th>9</th>\n",
       "      <td>501-1000</td>\n",
       "      <td>501</td>\n",
       "      <td>1000</td>\n",
       "    </tr>\n",
       "    <tr>\n",
       "      <th>10</th>\n",
       "      <td>1001-1500</td>\n",
       "      <td>1001</td>\n",
       "      <td>1500</td>\n",
       "    </tr>\n",
       "    <tr>\n",
       "      <th>11</th>\n",
       "      <td>1501-2000</td>\n",
       "      <td>1501</td>\n",
       "      <td>2000</td>\n",
       "    </tr>\n",
       "    <tr>\n",
       "      <th>12</th>\n",
       "      <td>2001-3000</td>\n",
       "      <td>2001</td>\n",
       "      <td>3000</td>\n",
       "    </tr>\n",
       "    <tr>\n",
       "      <th>13</th>\n",
       "      <td>3001-5000</td>\n",
       "      <td>3001</td>\n",
       "      <td>5000</td>\n",
       "    </tr>\n",
       "    <tr>\n",
       "      <th>14</th>\n",
       "      <td>5001-10000</td>\n",
       "      <td>5001</td>\n",
       "      <td>10000</td>\n",
       "    </tr>\n",
       "    <tr>\n",
       "      <th>15</th>\n",
       "      <td>10001-15000</td>\n",
       "      <td>10001</td>\n",
       "      <td>15000</td>\n",
       "    </tr>\n",
       "  </tbody>\n",
       "</table>\n",
       "</div>"
      ],
      "text/plain": [
       "     range_name  min_value  max_value\n",
       "0          1-10          1         10\n",
       "1         11-25         11         25\n",
       "2         26-50         26         50\n",
       "3        51-100         51        100\n",
       "4       101-150        101        150\n",
       "5       151-200        151        200\n",
       "6       201-300        201        300\n",
       "7       301-400        301        400\n",
       "8       401-500        401        500\n",
       "9      501-1000        501       1000\n",
       "10    1001-1500       1001       1500\n",
       "11    1501-2000       1501       2000\n",
       "12    2001-3000       2001       3000\n",
       "13    3001-5000       3001       5000\n",
       "14   5001-10000       5001      10000\n",
       "15  10001-15000      10001      15000"
      ]
     },
     "execution_count": 98,
     "metadata": {},
     "output_type": "execute_result"
    }
   ],
   "source": [
    "# Define the range data\n",
    "range_data = pd.DataFrame(range_val, columns = [\"range_name\", \"min_value\", \"max_value\"])\n",
    "\n",
    "range_data"
   ]
  },
  {
   "cell_type": "code",
   "execution_count": 99,
   "id": "b4664e4a",
   "metadata": {},
   "outputs": [],
   "source": [
    "# Trying to find the no of items present in a specific range.\n",
    "range_data['product_count'] = ''"
   ]
  },
  {
   "cell_type": "code",
   "execution_count": 101,
   "id": "cd5c15e1",
   "metadata": {},
   "outputs": [
    {
     "data": {
      "text/html": [
       "<div>\n",
       "<style scoped>\n",
       "    .dataframe tbody tr th:only-of-type {\n",
       "        vertical-align: middle;\n",
       "    }\n",
       "\n",
       "    .dataframe tbody tr th {\n",
       "        vertical-align: top;\n",
       "    }\n",
       "\n",
       "    .dataframe thead th {\n",
       "        text-align: right;\n",
       "    }\n",
       "</style>\n",
       "<table border=\"1\" class=\"dataframe\">\n",
       "  <thead>\n",
       "    <tr style=\"text-align: right;\">\n",
       "      <th></th>\n",
       "      <th>range_name</th>\n",
       "      <th>min_value</th>\n",
       "      <th>max_value</th>\n",
       "      <th>product_count</th>\n",
       "    </tr>\n",
       "  </thead>\n",
       "  <tbody>\n",
       "    <tr>\n",
       "      <th>0</th>\n",
       "      <td>1-10</td>\n",
       "      <td>1</td>\n",
       "      <td>10</td>\n",
       "      <td></td>\n",
       "    </tr>\n",
       "    <tr>\n",
       "      <th>1</th>\n",
       "      <td>11-25</td>\n",
       "      <td>11</td>\n",
       "      <td>25</td>\n",
       "      <td></td>\n",
       "    </tr>\n",
       "    <tr>\n",
       "      <th>2</th>\n",
       "      <td>26-50</td>\n",
       "      <td>26</td>\n",
       "      <td>50</td>\n",
       "      <td></td>\n",
       "    </tr>\n",
       "    <tr>\n",
       "      <th>3</th>\n",
       "      <td>51-100</td>\n",
       "      <td>51</td>\n",
       "      <td>100</td>\n",
       "      <td></td>\n",
       "    </tr>\n",
       "    <tr>\n",
       "      <th>4</th>\n",
       "      <td>101-150</td>\n",
       "      <td>101</td>\n",
       "      <td>150</td>\n",
       "      <td></td>\n",
       "    </tr>\n",
       "  </tbody>\n",
       "</table>\n",
       "</div>"
      ],
      "text/plain": [
       "  range_name  min_value  max_value product_count\n",
       "0       1-10          1         10              \n",
       "1      11-25         11         25              \n",
       "2      26-50         26         50              \n",
       "3     51-100         51        100              \n",
       "4    101-150        101        150              "
      ]
     },
     "execution_count": 101,
     "metadata": {},
     "output_type": "execute_result"
    }
   ],
   "source": [
    "range_data.head()"
   ]
  },
  {
   "cell_type": "code",
   "execution_count": 105,
   "id": "0606aa90",
   "metadata": {},
   "outputs": [],
   "source": [
    "for idx, rows in range_data.iterrows():\n",
    "    range_data.at[idx,'product_count'] = len(df['product'][(df['sale_price']>=rows['min_value']) & (df['sale_price']<=rows['max_value'])])"
   ]
  },
  {
   "cell_type": "code",
   "execution_count": 107,
   "id": "00c54158",
   "metadata": {},
   "outputs": [
    {
     "data": {
      "text/html": [
       "<div>\n",
       "<style scoped>\n",
       "    .dataframe tbody tr th:only-of-type {\n",
       "        vertical-align: middle;\n",
       "    }\n",
       "\n",
       "    .dataframe tbody tr th {\n",
       "        vertical-align: top;\n",
       "    }\n",
       "\n",
       "    .dataframe thead th {\n",
       "        text-align: right;\n",
       "    }\n",
       "</style>\n",
       "<table border=\"1\" class=\"dataframe\">\n",
       "  <thead>\n",
       "    <tr style=\"text-align: right;\">\n",
       "      <th></th>\n",
       "      <th>range_name</th>\n",
       "      <th>min_value</th>\n",
       "      <th>max_value</th>\n",
       "      <th>product_count</th>\n",
       "    </tr>\n",
       "  </thead>\n",
       "  <tbody>\n",
       "    <tr>\n",
       "      <th>0</th>\n",
       "      <td>1-10</td>\n",
       "      <td>1</td>\n",
       "      <td>10</td>\n",
       "      <td>178</td>\n",
       "    </tr>\n",
       "    <tr>\n",
       "      <th>1</th>\n",
       "      <td>11-25</td>\n",
       "      <td>11</td>\n",
       "      <td>25</td>\n",
       "      <td>689</td>\n",
       "    </tr>\n",
       "    <tr>\n",
       "      <th>2</th>\n",
       "      <td>26-50</td>\n",
       "      <td>26</td>\n",
       "      <td>50</td>\n",
       "      <td>2232</td>\n",
       "    </tr>\n",
       "    <tr>\n",
       "      <th>3</th>\n",
       "      <td>51-100</td>\n",
       "      <td>51</td>\n",
       "      <td>100</td>\n",
       "      <td>4654</td>\n",
       "    </tr>\n",
       "    <tr>\n",
       "      <th>4</th>\n",
       "      <td>101-150</td>\n",
       "      <td>101</td>\n",
       "      <td>150</td>\n",
       "      <td>3661</td>\n",
       "    </tr>\n",
       "    <tr>\n",
       "      <th>5</th>\n",
       "      <td>151-200</td>\n",
       "      <td>151</td>\n",
       "      <td>200</td>\n",
       "      <td>3196</td>\n",
       "    </tr>\n",
       "    <tr>\n",
       "      <th>6</th>\n",
       "      <td>201-300</td>\n",
       "      <td>201</td>\n",
       "      <td>300</td>\n",
       "      <td>4568</td>\n",
       "    </tr>\n",
       "    <tr>\n",
       "      <th>7</th>\n",
       "      <td>301-400</td>\n",
       "      <td>301</td>\n",
       "      <td>400</td>\n",
       "      <td>2555</td>\n",
       "    </tr>\n",
       "    <tr>\n",
       "      <th>8</th>\n",
       "      <td>401-500</td>\n",
       "      <td>401</td>\n",
       "      <td>500</td>\n",
       "      <td>1693</td>\n",
       "    </tr>\n",
       "    <tr>\n",
       "      <th>9</th>\n",
       "      <td>501-1000</td>\n",
       "      <td>501</td>\n",
       "      <td>1000</td>\n",
       "      <td>2773</td>\n",
       "    </tr>\n",
       "    <tr>\n",
       "      <th>10</th>\n",
       "      <td>1001-1500</td>\n",
       "      <td>1001</td>\n",
       "      <td>1500</td>\n",
       "      <td>666</td>\n",
       "    </tr>\n",
       "    <tr>\n",
       "      <th>11</th>\n",
       "      <td>1501-2000</td>\n",
       "      <td>1501</td>\n",
       "      <td>2000</td>\n",
       "      <td>300</td>\n",
       "    </tr>\n",
       "    <tr>\n",
       "      <th>12</th>\n",
       "      <td>2001-3000</td>\n",
       "      <td>2001</td>\n",
       "      <td>3000</td>\n",
       "      <td>222</td>\n",
       "    </tr>\n",
       "    <tr>\n",
       "      <th>13</th>\n",
       "      <td>3001-5000</td>\n",
       "      <td>3001</td>\n",
       "      <td>5000</td>\n",
       "      <td>122</td>\n",
       "    </tr>\n",
       "    <tr>\n",
       "      <th>14</th>\n",
       "      <td>5001-10000</td>\n",
       "      <td>5001</td>\n",
       "      <td>10000</td>\n",
       "      <td>44</td>\n",
       "    </tr>\n",
       "    <tr>\n",
       "      <th>15</th>\n",
       "      <td>10001-15000</td>\n",
       "      <td>10001</td>\n",
       "      <td>15000</td>\n",
       "      <td>2</td>\n",
       "    </tr>\n",
       "  </tbody>\n",
       "</table>\n",
       "</div>"
      ],
      "text/plain": [
       "     range_name  min_value  max_value product_count\n",
       "0          1-10          1         10           178\n",
       "1         11-25         11         25           689\n",
       "2         26-50         26         50          2232\n",
       "3        51-100         51        100          4654\n",
       "4       101-150        101        150          3661\n",
       "5       151-200        151        200          3196\n",
       "6       201-300        201        300          4568\n",
       "7       301-400        301        400          2555\n",
       "8       401-500        401        500          1693\n",
       "9      501-1000        501       1000          2773\n",
       "10    1001-1500       1001       1500           666\n",
       "11    1501-2000       1501       2000           300\n",
       "12    2001-3000       2001       3000           222\n",
       "13    3001-5000       3001       5000           122\n",
       "14   5001-10000       5001      10000            44\n",
       "15  10001-15000      10001      15000             2"
      ]
     },
     "execution_count": 107,
     "metadata": {},
     "output_type": "execute_result"
    }
   ],
   "source": [
    "range_data"
   ]
  },
  {
   "cell_type": "code",
   "execution_count": 109,
   "id": "f3b59f10",
   "metadata": {},
   "outputs": [
    {
     "data": {
      "application/vnd.plotly.v1+json": {
       "config": {
        "plotlyServerURL": "https://plot.ly"
       },
       "data": [
        {
         "alignmentgroup": "True",
         "hovertemplate": "range_name=%{x}<br>product_count=%{y}<extra></extra>",
         "legendgroup": "1-10",
         "marker": {
          "color": "#636efa",
          "pattern": {
           "shape": ""
          }
         },
         "name": "1-10",
         "offsetgroup": "1-10",
         "orientation": "v",
         "showlegend": true,
         "textposition": "auto",
         "type": "bar",
         "x": [
          "1-10"
         ],
         "xaxis": "x",
         "y": [
          178
         ],
         "yaxis": "y"
        },
        {
         "alignmentgroup": "True",
         "hovertemplate": "range_name=%{x}<br>product_count=%{y}<extra></extra>",
         "legendgroup": "11-25",
         "marker": {
          "color": "#EF553B",
          "pattern": {
           "shape": ""
          }
         },
         "name": "11-25",
         "offsetgroup": "11-25",
         "orientation": "v",
         "showlegend": true,
         "textposition": "auto",
         "type": "bar",
         "x": [
          "11-25"
         ],
         "xaxis": "x",
         "y": [
          689
         ],
         "yaxis": "y"
        },
        {
         "alignmentgroup": "True",
         "hovertemplate": "range_name=%{x}<br>product_count=%{y}<extra></extra>",
         "legendgroup": "26-50",
         "marker": {
          "color": "#00cc96",
          "pattern": {
           "shape": ""
          }
         },
         "name": "26-50",
         "offsetgroup": "26-50",
         "orientation": "v",
         "showlegend": true,
         "textposition": "auto",
         "type": "bar",
         "x": [
          "26-50"
         ],
         "xaxis": "x",
         "y": [
          2232
         ],
         "yaxis": "y"
        },
        {
         "alignmentgroup": "True",
         "hovertemplate": "range_name=%{x}<br>product_count=%{y}<extra></extra>",
         "legendgroup": "51-100",
         "marker": {
          "color": "#ab63fa",
          "pattern": {
           "shape": ""
          }
         },
         "name": "51-100",
         "offsetgroup": "51-100",
         "orientation": "v",
         "showlegend": true,
         "textposition": "auto",
         "type": "bar",
         "x": [
          "51-100"
         ],
         "xaxis": "x",
         "y": [
          4654
         ],
         "yaxis": "y"
        },
        {
         "alignmentgroup": "True",
         "hovertemplate": "range_name=%{x}<br>product_count=%{y}<extra></extra>",
         "legendgroup": "101-150",
         "marker": {
          "color": "#FFA15A",
          "pattern": {
           "shape": ""
          }
         },
         "name": "101-150",
         "offsetgroup": "101-150",
         "orientation": "v",
         "showlegend": true,
         "textposition": "auto",
         "type": "bar",
         "x": [
          "101-150"
         ],
         "xaxis": "x",
         "y": [
          3661
         ],
         "yaxis": "y"
        },
        {
         "alignmentgroup": "True",
         "hovertemplate": "range_name=%{x}<br>product_count=%{y}<extra></extra>",
         "legendgroup": "151-200",
         "marker": {
          "color": "#19d3f3",
          "pattern": {
           "shape": ""
          }
         },
         "name": "151-200",
         "offsetgroup": "151-200",
         "orientation": "v",
         "showlegend": true,
         "textposition": "auto",
         "type": "bar",
         "x": [
          "151-200"
         ],
         "xaxis": "x",
         "y": [
          3196
         ],
         "yaxis": "y"
        },
        {
         "alignmentgroup": "True",
         "hovertemplate": "range_name=%{x}<br>product_count=%{y}<extra></extra>",
         "legendgroup": "201-300",
         "marker": {
          "color": "#FF6692",
          "pattern": {
           "shape": ""
          }
         },
         "name": "201-300",
         "offsetgroup": "201-300",
         "orientation": "v",
         "showlegend": true,
         "textposition": "auto",
         "type": "bar",
         "x": [
          "201-300"
         ],
         "xaxis": "x",
         "y": [
          4568
         ],
         "yaxis": "y"
        },
        {
         "alignmentgroup": "True",
         "hovertemplate": "range_name=%{x}<br>product_count=%{y}<extra></extra>",
         "legendgroup": "301-400",
         "marker": {
          "color": "#B6E880",
          "pattern": {
           "shape": ""
          }
         },
         "name": "301-400",
         "offsetgroup": "301-400",
         "orientation": "v",
         "showlegend": true,
         "textposition": "auto",
         "type": "bar",
         "x": [
          "301-400"
         ],
         "xaxis": "x",
         "y": [
          2555
         ],
         "yaxis": "y"
        },
        {
         "alignmentgroup": "True",
         "hovertemplate": "range_name=%{x}<br>product_count=%{y}<extra></extra>",
         "legendgroup": "401-500",
         "marker": {
          "color": "#FF97FF",
          "pattern": {
           "shape": ""
          }
         },
         "name": "401-500",
         "offsetgroup": "401-500",
         "orientation": "v",
         "showlegend": true,
         "textposition": "auto",
         "type": "bar",
         "x": [
          "401-500"
         ],
         "xaxis": "x",
         "y": [
          1693
         ],
         "yaxis": "y"
        },
        {
         "alignmentgroup": "True",
         "hovertemplate": "range_name=%{x}<br>product_count=%{y}<extra></extra>",
         "legendgroup": "501-1000",
         "marker": {
          "color": "#FECB52",
          "pattern": {
           "shape": ""
          }
         },
         "name": "501-1000",
         "offsetgroup": "501-1000",
         "orientation": "v",
         "showlegend": true,
         "textposition": "auto",
         "type": "bar",
         "x": [
          "501-1000"
         ],
         "xaxis": "x",
         "y": [
          2773
         ],
         "yaxis": "y"
        },
        {
         "alignmentgroup": "True",
         "hovertemplate": "range_name=%{x}<br>product_count=%{y}<extra></extra>",
         "legendgroup": "1001-1500",
         "marker": {
          "color": "#636efa",
          "pattern": {
           "shape": ""
          }
         },
         "name": "1001-1500",
         "offsetgroup": "1001-1500",
         "orientation": "v",
         "showlegend": true,
         "textposition": "auto",
         "type": "bar",
         "x": [
          "1001-1500"
         ],
         "xaxis": "x",
         "y": [
          666
         ],
         "yaxis": "y"
        },
        {
         "alignmentgroup": "True",
         "hovertemplate": "range_name=%{x}<br>product_count=%{y}<extra></extra>",
         "legendgroup": "1501-2000",
         "marker": {
          "color": "#EF553B",
          "pattern": {
           "shape": ""
          }
         },
         "name": "1501-2000",
         "offsetgroup": "1501-2000",
         "orientation": "v",
         "showlegend": true,
         "textposition": "auto",
         "type": "bar",
         "x": [
          "1501-2000"
         ],
         "xaxis": "x",
         "y": [
          300
         ],
         "yaxis": "y"
        },
        {
         "alignmentgroup": "True",
         "hovertemplate": "range_name=%{x}<br>product_count=%{y}<extra></extra>",
         "legendgroup": "2001-3000",
         "marker": {
          "color": "#00cc96",
          "pattern": {
           "shape": ""
          }
         },
         "name": "2001-3000",
         "offsetgroup": "2001-3000",
         "orientation": "v",
         "showlegend": true,
         "textposition": "auto",
         "type": "bar",
         "x": [
          "2001-3000"
         ],
         "xaxis": "x",
         "y": [
          222
         ],
         "yaxis": "y"
        },
        {
         "alignmentgroup": "True",
         "hovertemplate": "range_name=%{x}<br>product_count=%{y}<extra></extra>",
         "legendgroup": "3001-5000",
         "marker": {
          "color": "#ab63fa",
          "pattern": {
           "shape": ""
          }
         },
         "name": "3001-5000",
         "offsetgroup": "3001-5000",
         "orientation": "v",
         "showlegend": true,
         "textposition": "auto",
         "type": "bar",
         "x": [
          "3001-5000"
         ],
         "xaxis": "x",
         "y": [
          122
         ],
         "yaxis": "y"
        },
        {
         "alignmentgroup": "True",
         "hovertemplate": "range_name=%{x}<br>product_count=%{y}<extra></extra>",
         "legendgroup": "5001-10000",
         "marker": {
          "color": "#FFA15A",
          "pattern": {
           "shape": ""
          }
         },
         "name": "5001-10000",
         "offsetgroup": "5001-10000",
         "orientation": "v",
         "showlegend": true,
         "textposition": "auto",
         "type": "bar",
         "x": [
          "5001-10000"
         ],
         "xaxis": "x",
         "y": [
          44
         ],
         "yaxis": "y"
        },
        {
         "alignmentgroup": "True",
         "hovertemplate": "range_name=%{x}<br>product_count=%{y}<extra></extra>",
         "legendgroup": "10001-15000",
         "marker": {
          "color": "#19d3f3",
          "pattern": {
           "shape": ""
          }
         },
         "name": "10001-15000",
         "offsetgroup": "10001-15000",
         "orientation": "v",
         "showlegend": true,
         "textposition": "auto",
         "type": "bar",
         "x": [
          "10001-15000"
         ],
         "xaxis": "x",
         "y": [
          2
         ],
         "yaxis": "y"
        }
       ],
       "layout": {
        "barmode": "relative",
        "legend": {
         "title": {
          "text": "range_name"
         },
         "tracegroupgap": 0
        },
        "template": {
         "data": {
          "bar": [
           {
            "error_x": {
             "color": "#2a3f5f"
            },
            "error_y": {
             "color": "#2a3f5f"
            },
            "marker": {
             "line": {
              "color": "#E5ECF6",
              "width": 0.5
             },
             "pattern": {
              "fillmode": "overlay",
              "size": 10,
              "solidity": 0.2
             }
            },
            "type": "bar"
           }
          ],
          "barpolar": [
           {
            "marker": {
             "line": {
              "color": "#E5ECF6",
              "width": 0.5
             },
             "pattern": {
              "fillmode": "overlay",
              "size": 10,
              "solidity": 0.2
             }
            },
            "type": "barpolar"
           }
          ],
          "carpet": [
           {
            "aaxis": {
             "endlinecolor": "#2a3f5f",
             "gridcolor": "white",
             "linecolor": "white",
             "minorgridcolor": "white",
             "startlinecolor": "#2a3f5f"
            },
            "baxis": {
             "endlinecolor": "#2a3f5f",
             "gridcolor": "white",
             "linecolor": "white",
             "minorgridcolor": "white",
             "startlinecolor": "#2a3f5f"
            },
            "type": "carpet"
           }
          ],
          "choropleth": [
           {
            "colorbar": {
             "outlinewidth": 0,
             "ticks": ""
            },
            "type": "choropleth"
           }
          ],
          "contour": [
           {
            "colorbar": {
             "outlinewidth": 0,
             "ticks": ""
            },
            "colorscale": [
             [
              0,
              "#0d0887"
             ],
             [
              0.1111111111111111,
              "#46039f"
             ],
             [
              0.2222222222222222,
              "#7201a8"
             ],
             [
              0.3333333333333333,
              "#9c179e"
             ],
             [
              0.4444444444444444,
              "#bd3786"
             ],
             [
              0.5555555555555556,
              "#d8576b"
             ],
             [
              0.6666666666666666,
              "#ed7953"
             ],
             [
              0.7777777777777778,
              "#fb9f3a"
             ],
             [
              0.8888888888888888,
              "#fdca26"
             ],
             [
              1,
              "#f0f921"
             ]
            ],
            "type": "contour"
           }
          ],
          "contourcarpet": [
           {
            "colorbar": {
             "outlinewidth": 0,
             "ticks": ""
            },
            "type": "contourcarpet"
           }
          ],
          "heatmap": [
           {
            "colorbar": {
             "outlinewidth": 0,
             "ticks": ""
            },
            "colorscale": [
             [
              0,
              "#0d0887"
             ],
             [
              0.1111111111111111,
              "#46039f"
             ],
             [
              0.2222222222222222,
              "#7201a8"
             ],
             [
              0.3333333333333333,
              "#9c179e"
             ],
             [
              0.4444444444444444,
              "#bd3786"
             ],
             [
              0.5555555555555556,
              "#d8576b"
             ],
             [
              0.6666666666666666,
              "#ed7953"
             ],
             [
              0.7777777777777778,
              "#fb9f3a"
             ],
             [
              0.8888888888888888,
              "#fdca26"
             ],
             [
              1,
              "#f0f921"
             ]
            ],
            "type": "heatmap"
           }
          ],
          "heatmapgl": [
           {
            "colorbar": {
             "outlinewidth": 0,
             "ticks": ""
            },
            "colorscale": [
             [
              0,
              "#0d0887"
             ],
             [
              0.1111111111111111,
              "#46039f"
             ],
             [
              0.2222222222222222,
              "#7201a8"
             ],
             [
              0.3333333333333333,
              "#9c179e"
             ],
             [
              0.4444444444444444,
              "#bd3786"
             ],
             [
              0.5555555555555556,
              "#d8576b"
             ],
             [
              0.6666666666666666,
              "#ed7953"
             ],
             [
              0.7777777777777778,
              "#fb9f3a"
             ],
             [
              0.8888888888888888,
              "#fdca26"
             ],
             [
              1,
              "#f0f921"
             ]
            ],
            "type": "heatmapgl"
           }
          ],
          "histogram": [
           {
            "marker": {
             "pattern": {
              "fillmode": "overlay",
              "size": 10,
              "solidity": 0.2
             }
            },
            "type": "histogram"
           }
          ],
          "histogram2d": [
           {
            "colorbar": {
             "outlinewidth": 0,
             "ticks": ""
            },
            "colorscale": [
             [
              0,
              "#0d0887"
             ],
             [
              0.1111111111111111,
              "#46039f"
             ],
             [
              0.2222222222222222,
              "#7201a8"
             ],
             [
              0.3333333333333333,
              "#9c179e"
             ],
             [
              0.4444444444444444,
              "#bd3786"
             ],
             [
              0.5555555555555556,
              "#d8576b"
             ],
             [
              0.6666666666666666,
              "#ed7953"
             ],
             [
              0.7777777777777778,
              "#fb9f3a"
             ],
             [
              0.8888888888888888,
              "#fdca26"
             ],
             [
              1,
              "#f0f921"
             ]
            ],
            "type": "histogram2d"
           }
          ],
          "histogram2dcontour": [
           {
            "colorbar": {
             "outlinewidth": 0,
             "ticks": ""
            },
            "colorscale": [
             [
              0,
              "#0d0887"
             ],
             [
              0.1111111111111111,
              "#46039f"
             ],
             [
              0.2222222222222222,
              "#7201a8"
             ],
             [
              0.3333333333333333,
              "#9c179e"
             ],
             [
              0.4444444444444444,
              "#bd3786"
             ],
             [
              0.5555555555555556,
              "#d8576b"
             ],
             [
              0.6666666666666666,
              "#ed7953"
             ],
             [
              0.7777777777777778,
              "#fb9f3a"
             ],
             [
              0.8888888888888888,
              "#fdca26"
             ],
             [
              1,
              "#f0f921"
             ]
            ],
            "type": "histogram2dcontour"
           }
          ],
          "mesh3d": [
           {
            "colorbar": {
             "outlinewidth": 0,
             "ticks": ""
            },
            "type": "mesh3d"
           }
          ],
          "parcoords": [
           {
            "line": {
             "colorbar": {
              "outlinewidth": 0,
              "ticks": ""
             }
            },
            "type": "parcoords"
           }
          ],
          "pie": [
           {
            "automargin": true,
            "type": "pie"
           }
          ],
          "scatter": [
           {
            "fillpattern": {
             "fillmode": "overlay",
             "size": 10,
             "solidity": 0.2
            },
            "type": "scatter"
           }
          ],
          "scatter3d": [
           {
            "line": {
             "colorbar": {
              "outlinewidth": 0,
              "ticks": ""
             }
            },
            "marker": {
             "colorbar": {
              "outlinewidth": 0,
              "ticks": ""
             }
            },
            "type": "scatter3d"
           }
          ],
          "scattercarpet": [
           {
            "marker": {
             "colorbar": {
              "outlinewidth": 0,
              "ticks": ""
             }
            },
            "type": "scattercarpet"
           }
          ],
          "scattergeo": [
           {
            "marker": {
             "colorbar": {
              "outlinewidth": 0,
              "ticks": ""
             }
            },
            "type": "scattergeo"
           }
          ],
          "scattergl": [
           {
            "marker": {
             "colorbar": {
              "outlinewidth": 0,
              "ticks": ""
             }
            },
            "type": "scattergl"
           }
          ],
          "scattermapbox": [
           {
            "marker": {
             "colorbar": {
              "outlinewidth": 0,
              "ticks": ""
             }
            },
            "type": "scattermapbox"
           }
          ],
          "scatterpolar": [
           {
            "marker": {
             "colorbar": {
              "outlinewidth": 0,
              "ticks": ""
             }
            },
            "type": "scatterpolar"
           }
          ],
          "scatterpolargl": [
           {
            "marker": {
             "colorbar": {
              "outlinewidth": 0,
              "ticks": ""
             }
            },
            "type": "scatterpolargl"
           }
          ],
          "scatterternary": [
           {
            "marker": {
             "colorbar": {
              "outlinewidth": 0,
              "ticks": ""
             }
            },
            "type": "scatterternary"
           }
          ],
          "surface": [
           {
            "colorbar": {
             "outlinewidth": 0,
             "ticks": ""
            },
            "colorscale": [
             [
              0,
              "#0d0887"
             ],
             [
              0.1111111111111111,
              "#46039f"
             ],
             [
              0.2222222222222222,
              "#7201a8"
             ],
             [
              0.3333333333333333,
              "#9c179e"
             ],
             [
              0.4444444444444444,
              "#bd3786"
             ],
             [
              0.5555555555555556,
              "#d8576b"
             ],
             [
              0.6666666666666666,
              "#ed7953"
             ],
             [
              0.7777777777777778,
              "#fb9f3a"
             ],
             [
              0.8888888888888888,
              "#fdca26"
             ],
             [
              1,
              "#f0f921"
             ]
            ],
            "type": "surface"
           }
          ],
          "table": [
           {
            "cells": {
             "fill": {
              "color": "#EBF0F8"
             },
             "line": {
              "color": "white"
             }
            },
            "header": {
             "fill": {
              "color": "#C8D4E3"
             },
             "line": {
              "color": "white"
             }
            },
            "type": "table"
           }
          ]
         },
         "layout": {
          "annotationdefaults": {
           "arrowcolor": "#2a3f5f",
           "arrowhead": 0,
           "arrowwidth": 1
          },
          "autotypenumbers": "strict",
          "coloraxis": {
           "colorbar": {
            "outlinewidth": 0,
            "ticks": ""
           }
          },
          "colorscale": {
           "diverging": [
            [
             0,
             "#8e0152"
            ],
            [
             0.1,
             "#c51b7d"
            ],
            [
             0.2,
             "#de77ae"
            ],
            [
             0.3,
             "#f1b6da"
            ],
            [
             0.4,
             "#fde0ef"
            ],
            [
             0.5,
             "#f7f7f7"
            ],
            [
             0.6,
             "#e6f5d0"
            ],
            [
             0.7,
             "#b8e186"
            ],
            [
             0.8,
             "#7fbc41"
            ],
            [
             0.9,
             "#4d9221"
            ],
            [
             1,
             "#276419"
            ]
           ],
           "sequential": [
            [
             0,
             "#0d0887"
            ],
            [
             0.1111111111111111,
             "#46039f"
            ],
            [
             0.2222222222222222,
             "#7201a8"
            ],
            [
             0.3333333333333333,
             "#9c179e"
            ],
            [
             0.4444444444444444,
             "#bd3786"
            ],
            [
             0.5555555555555556,
             "#d8576b"
            ],
            [
             0.6666666666666666,
             "#ed7953"
            ],
            [
             0.7777777777777778,
             "#fb9f3a"
            ],
            [
             0.8888888888888888,
             "#fdca26"
            ],
            [
             1,
             "#f0f921"
            ]
           ],
           "sequentialminus": [
            [
             0,
             "#0d0887"
            ],
            [
             0.1111111111111111,
             "#46039f"
            ],
            [
             0.2222222222222222,
             "#7201a8"
            ],
            [
             0.3333333333333333,
             "#9c179e"
            ],
            [
             0.4444444444444444,
             "#bd3786"
            ],
            [
             0.5555555555555556,
             "#d8576b"
            ],
            [
             0.6666666666666666,
             "#ed7953"
            ],
            [
             0.7777777777777778,
             "#fb9f3a"
            ],
            [
             0.8888888888888888,
             "#fdca26"
            ],
            [
             1,
             "#f0f921"
            ]
           ]
          },
          "colorway": [
           "#636efa",
           "#EF553B",
           "#00cc96",
           "#ab63fa",
           "#FFA15A",
           "#19d3f3",
           "#FF6692",
           "#B6E880",
           "#FF97FF",
           "#FECB52"
          ],
          "font": {
           "color": "#2a3f5f"
          },
          "geo": {
           "bgcolor": "white",
           "lakecolor": "white",
           "landcolor": "#E5ECF6",
           "showlakes": true,
           "showland": true,
           "subunitcolor": "white"
          },
          "hoverlabel": {
           "align": "left"
          },
          "hovermode": "closest",
          "mapbox": {
           "style": "light"
          },
          "paper_bgcolor": "white",
          "plot_bgcolor": "#E5ECF6",
          "polar": {
           "angularaxis": {
            "gridcolor": "white",
            "linecolor": "white",
            "ticks": ""
           },
           "bgcolor": "#E5ECF6",
           "radialaxis": {
            "gridcolor": "white",
            "linecolor": "white",
            "ticks": ""
           }
          },
          "scene": {
           "xaxis": {
            "backgroundcolor": "#E5ECF6",
            "gridcolor": "white",
            "gridwidth": 2,
            "linecolor": "white",
            "showbackground": true,
            "ticks": "",
            "zerolinecolor": "white"
           },
           "yaxis": {
            "backgroundcolor": "#E5ECF6",
            "gridcolor": "white",
            "gridwidth": 2,
            "linecolor": "white",
            "showbackground": true,
            "ticks": "",
            "zerolinecolor": "white"
           },
           "zaxis": {
            "backgroundcolor": "#E5ECF6",
            "gridcolor": "white",
            "gridwidth": 2,
            "linecolor": "white",
            "showbackground": true,
            "ticks": "",
            "zerolinecolor": "white"
           }
          },
          "shapedefaults": {
           "line": {
            "color": "#2a3f5f"
           }
          },
          "ternary": {
           "aaxis": {
            "gridcolor": "white",
            "linecolor": "white",
            "ticks": ""
           },
           "baxis": {
            "gridcolor": "white",
            "linecolor": "white",
            "ticks": ""
           },
           "bgcolor": "#E5ECF6",
           "caxis": {
            "gridcolor": "white",
            "linecolor": "white",
            "ticks": ""
           }
          },
          "title": {
           "x": 0.05
          },
          "xaxis": {
           "automargin": true,
           "gridcolor": "white",
           "linecolor": "white",
           "ticks": "",
           "title": {
            "standoff": 15
           },
           "zerolinecolor": "white",
           "zerolinewidth": 2
          },
          "yaxis": {
           "automargin": true,
           "gridcolor": "white",
           "linecolor": "white",
           "ticks": "",
           "title": {
            "standoff": 15
           },
           "zerolinecolor": "white",
           "zerolinewidth": 2
          }
         }
        },
        "title": {
         "text": "Price Analysis"
        },
        "xaxis": {
         "anchor": "y",
         "categoryarray": [
          "1-10",
          "11-25",
          "26-50",
          "51-100",
          "101-150",
          "151-200",
          "201-300",
          "301-400",
          "401-500",
          "501-1000",
          "1001-1500",
          "1501-2000",
          "2001-3000",
          "3001-5000",
          "5001-10000",
          "10001-15000"
         ],
         "categoryorder": "array",
         "domain": [
          0,
          1
         ],
         "title": {
          "text": "range_name"
         }
        },
        "yaxis": {
         "anchor": "x",
         "domain": [
          0,
          1
         ],
         "title": {
          "text": "product_count"
         }
        }
       }
      },
      "text/html": [
       "<div>                            <div id=\"90369362-de95-4f0d-a0fe-bfc51aaf806a\" class=\"plotly-graph-div\" style=\"height:525px; width:100%;\"></div>            <script type=\"text/javascript\">                require([\"plotly\"], function(Plotly) {                    window.PLOTLYENV=window.PLOTLYENV || {};                                    if (document.getElementById(\"90369362-de95-4f0d-a0fe-bfc51aaf806a\")) {                    Plotly.newPlot(                        \"90369362-de95-4f0d-a0fe-bfc51aaf806a\",                        [{\"alignmentgroup\":\"True\",\"hovertemplate\":\"range_name=%{x}<br>product_count=%{y}<extra></extra>\",\"legendgroup\":\"1-10\",\"marker\":{\"color\":\"#636efa\",\"pattern\":{\"shape\":\"\"}},\"name\":\"1-10\",\"offsetgroup\":\"1-10\",\"orientation\":\"v\",\"showlegend\":true,\"textposition\":\"auto\",\"x\":[\"1-10\"],\"xaxis\":\"x\",\"y\":[178],\"yaxis\":\"y\",\"type\":\"bar\"},{\"alignmentgroup\":\"True\",\"hovertemplate\":\"range_name=%{x}<br>product_count=%{y}<extra></extra>\",\"legendgroup\":\"11-25\",\"marker\":{\"color\":\"#EF553B\",\"pattern\":{\"shape\":\"\"}},\"name\":\"11-25\",\"offsetgroup\":\"11-25\",\"orientation\":\"v\",\"showlegend\":true,\"textposition\":\"auto\",\"x\":[\"11-25\"],\"xaxis\":\"x\",\"y\":[689],\"yaxis\":\"y\",\"type\":\"bar\"},{\"alignmentgroup\":\"True\",\"hovertemplate\":\"range_name=%{x}<br>product_count=%{y}<extra></extra>\",\"legendgroup\":\"26-50\",\"marker\":{\"color\":\"#00cc96\",\"pattern\":{\"shape\":\"\"}},\"name\":\"26-50\",\"offsetgroup\":\"26-50\",\"orientation\":\"v\",\"showlegend\":true,\"textposition\":\"auto\",\"x\":[\"26-50\"],\"xaxis\":\"x\",\"y\":[2232],\"yaxis\":\"y\",\"type\":\"bar\"},{\"alignmentgroup\":\"True\",\"hovertemplate\":\"range_name=%{x}<br>product_count=%{y}<extra></extra>\",\"legendgroup\":\"51-100\",\"marker\":{\"color\":\"#ab63fa\",\"pattern\":{\"shape\":\"\"}},\"name\":\"51-100\",\"offsetgroup\":\"51-100\",\"orientation\":\"v\",\"showlegend\":true,\"textposition\":\"auto\",\"x\":[\"51-100\"],\"xaxis\":\"x\",\"y\":[4654],\"yaxis\":\"y\",\"type\":\"bar\"},{\"alignmentgroup\":\"True\",\"hovertemplate\":\"range_name=%{x}<br>product_count=%{y}<extra></extra>\",\"legendgroup\":\"101-150\",\"marker\":{\"color\":\"#FFA15A\",\"pattern\":{\"shape\":\"\"}},\"name\":\"101-150\",\"offsetgroup\":\"101-150\",\"orientation\":\"v\",\"showlegend\":true,\"textposition\":\"auto\",\"x\":[\"101-150\"],\"xaxis\":\"x\",\"y\":[3661],\"yaxis\":\"y\",\"type\":\"bar\"},{\"alignmentgroup\":\"True\",\"hovertemplate\":\"range_name=%{x}<br>product_count=%{y}<extra></extra>\",\"legendgroup\":\"151-200\",\"marker\":{\"color\":\"#19d3f3\",\"pattern\":{\"shape\":\"\"}},\"name\":\"151-200\",\"offsetgroup\":\"151-200\",\"orientation\":\"v\",\"showlegend\":true,\"textposition\":\"auto\",\"x\":[\"151-200\"],\"xaxis\":\"x\",\"y\":[3196],\"yaxis\":\"y\",\"type\":\"bar\"},{\"alignmentgroup\":\"True\",\"hovertemplate\":\"range_name=%{x}<br>product_count=%{y}<extra></extra>\",\"legendgroup\":\"201-300\",\"marker\":{\"color\":\"#FF6692\",\"pattern\":{\"shape\":\"\"}},\"name\":\"201-300\",\"offsetgroup\":\"201-300\",\"orientation\":\"v\",\"showlegend\":true,\"textposition\":\"auto\",\"x\":[\"201-300\"],\"xaxis\":\"x\",\"y\":[4568],\"yaxis\":\"y\",\"type\":\"bar\"},{\"alignmentgroup\":\"True\",\"hovertemplate\":\"range_name=%{x}<br>product_count=%{y}<extra></extra>\",\"legendgroup\":\"301-400\",\"marker\":{\"color\":\"#B6E880\",\"pattern\":{\"shape\":\"\"}},\"name\":\"301-400\",\"offsetgroup\":\"301-400\",\"orientation\":\"v\",\"showlegend\":true,\"textposition\":\"auto\",\"x\":[\"301-400\"],\"xaxis\":\"x\",\"y\":[2555],\"yaxis\":\"y\",\"type\":\"bar\"},{\"alignmentgroup\":\"True\",\"hovertemplate\":\"range_name=%{x}<br>product_count=%{y}<extra></extra>\",\"legendgroup\":\"401-500\",\"marker\":{\"color\":\"#FF97FF\",\"pattern\":{\"shape\":\"\"}},\"name\":\"401-500\",\"offsetgroup\":\"401-500\",\"orientation\":\"v\",\"showlegend\":true,\"textposition\":\"auto\",\"x\":[\"401-500\"],\"xaxis\":\"x\",\"y\":[1693],\"yaxis\":\"y\",\"type\":\"bar\"},{\"alignmentgroup\":\"True\",\"hovertemplate\":\"range_name=%{x}<br>product_count=%{y}<extra></extra>\",\"legendgroup\":\"501-1000\",\"marker\":{\"color\":\"#FECB52\",\"pattern\":{\"shape\":\"\"}},\"name\":\"501-1000\",\"offsetgroup\":\"501-1000\",\"orientation\":\"v\",\"showlegend\":true,\"textposition\":\"auto\",\"x\":[\"501-1000\"],\"xaxis\":\"x\",\"y\":[2773],\"yaxis\":\"y\",\"type\":\"bar\"},{\"alignmentgroup\":\"True\",\"hovertemplate\":\"range_name=%{x}<br>product_count=%{y}<extra></extra>\",\"legendgroup\":\"1001-1500\",\"marker\":{\"color\":\"#636efa\",\"pattern\":{\"shape\":\"\"}},\"name\":\"1001-1500\",\"offsetgroup\":\"1001-1500\",\"orientation\":\"v\",\"showlegend\":true,\"textposition\":\"auto\",\"x\":[\"1001-1500\"],\"xaxis\":\"x\",\"y\":[666],\"yaxis\":\"y\",\"type\":\"bar\"},{\"alignmentgroup\":\"True\",\"hovertemplate\":\"range_name=%{x}<br>product_count=%{y}<extra></extra>\",\"legendgroup\":\"1501-2000\",\"marker\":{\"color\":\"#EF553B\",\"pattern\":{\"shape\":\"\"}},\"name\":\"1501-2000\",\"offsetgroup\":\"1501-2000\",\"orientation\":\"v\",\"showlegend\":true,\"textposition\":\"auto\",\"x\":[\"1501-2000\"],\"xaxis\":\"x\",\"y\":[300],\"yaxis\":\"y\",\"type\":\"bar\"},{\"alignmentgroup\":\"True\",\"hovertemplate\":\"range_name=%{x}<br>product_count=%{y}<extra></extra>\",\"legendgroup\":\"2001-3000\",\"marker\":{\"color\":\"#00cc96\",\"pattern\":{\"shape\":\"\"}},\"name\":\"2001-3000\",\"offsetgroup\":\"2001-3000\",\"orientation\":\"v\",\"showlegend\":true,\"textposition\":\"auto\",\"x\":[\"2001-3000\"],\"xaxis\":\"x\",\"y\":[222],\"yaxis\":\"y\",\"type\":\"bar\"},{\"alignmentgroup\":\"True\",\"hovertemplate\":\"range_name=%{x}<br>product_count=%{y}<extra></extra>\",\"legendgroup\":\"3001-5000\",\"marker\":{\"color\":\"#ab63fa\",\"pattern\":{\"shape\":\"\"}},\"name\":\"3001-5000\",\"offsetgroup\":\"3001-5000\",\"orientation\":\"v\",\"showlegend\":true,\"textposition\":\"auto\",\"x\":[\"3001-5000\"],\"xaxis\":\"x\",\"y\":[122],\"yaxis\":\"y\",\"type\":\"bar\"},{\"alignmentgroup\":\"True\",\"hovertemplate\":\"range_name=%{x}<br>product_count=%{y}<extra></extra>\",\"legendgroup\":\"5001-10000\",\"marker\":{\"color\":\"#FFA15A\",\"pattern\":{\"shape\":\"\"}},\"name\":\"5001-10000\",\"offsetgroup\":\"5001-10000\",\"orientation\":\"v\",\"showlegend\":true,\"textposition\":\"auto\",\"x\":[\"5001-10000\"],\"xaxis\":\"x\",\"y\":[44],\"yaxis\":\"y\",\"type\":\"bar\"},{\"alignmentgroup\":\"True\",\"hovertemplate\":\"range_name=%{x}<br>product_count=%{y}<extra></extra>\",\"legendgroup\":\"10001-15000\",\"marker\":{\"color\":\"#19d3f3\",\"pattern\":{\"shape\":\"\"}},\"name\":\"10001-15000\",\"offsetgroup\":\"10001-15000\",\"orientation\":\"v\",\"showlegend\":true,\"textposition\":\"auto\",\"x\":[\"10001-15000\"],\"xaxis\":\"x\",\"y\":[2],\"yaxis\":\"y\",\"type\":\"bar\"}],                        {\"template\":{\"data\":{\"histogram2dcontour\":[{\"type\":\"histogram2dcontour\",\"colorbar\":{\"outlinewidth\":0,\"ticks\":\"\"},\"colorscale\":[[0.0,\"#0d0887\"],[0.1111111111111111,\"#46039f\"],[0.2222222222222222,\"#7201a8\"],[0.3333333333333333,\"#9c179e\"],[0.4444444444444444,\"#bd3786\"],[0.5555555555555556,\"#d8576b\"],[0.6666666666666666,\"#ed7953\"],[0.7777777777777778,\"#fb9f3a\"],[0.8888888888888888,\"#fdca26\"],[1.0,\"#f0f921\"]]}],\"choropleth\":[{\"type\":\"choropleth\",\"colorbar\":{\"outlinewidth\":0,\"ticks\":\"\"}}],\"histogram2d\":[{\"type\":\"histogram2d\",\"colorbar\":{\"outlinewidth\":0,\"ticks\":\"\"},\"colorscale\":[[0.0,\"#0d0887\"],[0.1111111111111111,\"#46039f\"],[0.2222222222222222,\"#7201a8\"],[0.3333333333333333,\"#9c179e\"],[0.4444444444444444,\"#bd3786\"],[0.5555555555555556,\"#d8576b\"],[0.6666666666666666,\"#ed7953\"],[0.7777777777777778,\"#fb9f3a\"],[0.8888888888888888,\"#fdca26\"],[1.0,\"#f0f921\"]]}],\"heatmap\":[{\"type\":\"heatmap\",\"colorbar\":{\"outlinewidth\":0,\"ticks\":\"\"},\"colorscale\":[[0.0,\"#0d0887\"],[0.1111111111111111,\"#46039f\"],[0.2222222222222222,\"#7201a8\"],[0.3333333333333333,\"#9c179e\"],[0.4444444444444444,\"#bd3786\"],[0.5555555555555556,\"#d8576b\"],[0.6666666666666666,\"#ed7953\"],[0.7777777777777778,\"#fb9f3a\"],[0.8888888888888888,\"#fdca26\"],[1.0,\"#f0f921\"]]}],\"heatmapgl\":[{\"type\":\"heatmapgl\",\"colorbar\":{\"outlinewidth\":0,\"ticks\":\"\"},\"colorscale\":[[0.0,\"#0d0887\"],[0.1111111111111111,\"#46039f\"],[0.2222222222222222,\"#7201a8\"],[0.3333333333333333,\"#9c179e\"],[0.4444444444444444,\"#bd3786\"],[0.5555555555555556,\"#d8576b\"],[0.6666666666666666,\"#ed7953\"],[0.7777777777777778,\"#fb9f3a\"],[0.8888888888888888,\"#fdca26\"],[1.0,\"#f0f921\"]]}],\"contourcarpet\":[{\"type\":\"contourcarpet\",\"colorbar\":{\"outlinewidth\":0,\"ticks\":\"\"}}],\"contour\":[{\"type\":\"contour\",\"colorbar\":{\"outlinewidth\":0,\"ticks\":\"\"},\"colorscale\":[[0.0,\"#0d0887\"],[0.1111111111111111,\"#46039f\"],[0.2222222222222222,\"#7201a8\"],[0.3333333333333333,\"#9c179e\"],[0.4444444444444444,\"#bd3786\"],[0.5555555555555556,\"#d8576b\"],[0.6666666666666666,\"#ed7953\"],[0.7777777777777778,\"#fb9f3a\"],[0.8888888888888888,\"#fdca26\"],[1.0,\"#f0f921\"]]}],\"surface\":[{\"type\":\"surface\",\"colorbar\":{\"outlinewidth\":0,\"ticks\":\"\"},\"colorscale\":[[0.0,\"#0d0887\"],[0.1111111111111111,\"#46039f\"],[0.2222222222222222,\"#7201a8\"],[0.3333333333333333,\"#9c179e\"],[0.4444444444444444,\"#bd3786\"],[0.5555555555555556,\"#d8576b\"],[0.6666666666666666,\"#ed7953\"],[0.7777777777777778,\"#fb9f3a\"],[0.8888888888888888,\"#fdca26\"],[1.0,\"#f0f921\"]]}],\"mesh3d\":[{\"type\":\"mesh3d\",\"colorbar\":{\"outlinewidth\":0,\"ticks\":\"\"}}],\"scatter\":[{\"fillpattern\":{\"fillmode\":\"overlay\",\"size\":10,\"solidity\":0.2},\"type\":\"scatter\"}],\"parcoords\":[{\"type\":\"parcoords\",\"line\":{\"colorbar\":{\"outlinewidth\":0,\"ticks\":\"\"}}}],\"scatterpolargl\":[{\"type\":\"scatterpolargl\",\"marker\":{\"colorbar\":{\"outlinewidth\":0,\"ticks\":\"\"}}}],\"bar\":[{\"error_x\":{\"color\":\"#2a3f5f\"},\"error_y\":{\"color\":\"#2a3f5f\"},\"marker\":{\"line\":{\"color\":\"#E5ECF6\",\"width\":0.5},\"pattern\":{\"fillmode\":\"overlay\",\"size\":10,\"solidity\":0.2}},\"type\":\"bar\"}],\"scattergeo\":[{\"type\":\"scattergeo\",\"marker\":{\"colorbar\":{\"outlinewidth\":0,\"ticks\":\"\"}}}],\"scatterpolar\":[{\"type\":\"scatterpolar\",\"marker\":{\"colorbar\":{\"outlinewidth\":0,\"ticks\":\"\"}}}],\"histogram\":[{\"marker\":{\"pattern\":{\"fillmode\":\"overlay\",\"size\":10,\"solidity\":0.2}},\"type\":\"histogram\"}],\"scattergl\":[{\"type\":\"scattergl\",\"marker\":{\"colorbar\":{\"outlinewidth\":0,\"ticks\":\"\"}}}],\"scatter3d\":[{\"type\":\"scatter3d\",\"line\":{\"colorbar\":{\"outlinewidth\":0,\"ticks\":\"\"}},\"marker\":{\"colorbar\":{\"outlinewidth\":0,\"ticks\":\"\"}}}],\"scattermapbox\":[{\"type\":\"scattermapbox\",\"marker\":{\"colorbar\":{\"outlinewidth\":0,\"ticks\":\"\"}}}],\"scatterternary\":[{\"type\":\"scatterternary\",\"marker\":{\"colorbar\":{\"outlinewidth\":0,\"ticks\":\"\"}}}],\"scattercarpet\":[{\"type\":\"scattercarpet\",\"marker\":{\"colorbar\":{\"outlinewidth\":0,\"ticks\":\"\"}}}],\"carpet\":[{\"aaxis\":{\"endlinecolor\":\"#2a3f5f\",\"gridcolor\":\"white\",\"linecolor\":\"white\",\"minorgridcolor\":\"white\",\"startlinecolor\":\"#2a3f5f\"},\"baxis\":{\"endlinecolor\":\"#2a3f5f\",\"gridcolor\":\"white\",\"linecolor\":\"white\",\"minorgridcolor\":\"white\",\"startlinecolor\":\"#2a3f5f\"},\"type\":\"carpet\"}],\"table\":[{\"cells\":{\"fill\":{\"color\":\"#EBF0F8\"},\"line\":{\"color\":\"white\"}},\"header\":{\"fill\":{\"color\":\"#C8D4E3\"},\"line\":{\"color\":\"white\"}},\"type\":\"table\"}],\"barpolar\":[{\"marker\":{\"line\":{\"color\":\"#E5ECF6\",\"width\":0.5},\"pattern\":{\"fillmode\":\"overlay\",\"size\":10,\"solidity\":0.2}},\"type\":\"barpolar\"}],\"pie\":[{\"automargin\":true,\"type\":\"pie\"}]},\"layout\":{\"autotypenumbers\":\"strict\",\"colorway\":[\"#636efa\",\"#EF553B\",\"#00cc96\",\"#ab63fa\",\"#FFA15A\",\"#19d3f3\",\"#FF6692\",\"#B6E880\",\"#FF97FF\",\"#FECB52\"],\"font\":{\"color\":\"#2a3f5f\"},\"hovermode\":\"closest\",\"hoverlabel\":{\"align\":\"left\"},\"paper_bgcolor\":\"white\",\"plot_bgcolor\":\"#E5ECF6\",\"polar\":{\"bgcolor\":\"#E5ECF6\",\"angularaxis\":{\"gridcolor\":\"white\",\"linecolor\":\"white\",\"ticks\":\"\"},\"radialaxis\":{\"gridcolor\":\"white\",\"linecolor\":\"white\",\"ticks\":\"\"}},\"ternary\":{\"bgcolor\":\"#E5ECF6\",\"aaxis\":{\"gridcolor\":\"white\",\"linecolor\":\"white\",\"ticks\":\"\"},\"baxis\":{\"gridcolor\":\"white\",\"linecolor\":\"white\",\"ticks\":\"\"},\"caxis\":{\"gridcolor\":\"white\",\"linecolor\":\"white\",\"ticks\":\"\"}},\"coloraxis\":{\"colorbar\":{\"outlinewidth\":0,\"ticks\":\"\"}},\"colorscale\":{\"sequential\":[[0.0,\"#0d0887\"],[0.1111111111111111,\"#46039f\"],[0.2222222222222222,\"#7201a8\"],[0.3333333333333333,\"#9c179e\"],[0.4444444444444444,\"#bd3786\"],[0.5555555555555556,\"#d8576b\"],[0.6666666666666666,\"#ed7953\"],[0.7777777777777778,\"#fb9f3a\"],[0.8888888888888888,\"#fdca26\"],[1.0,\"#f0f921\"]],\"sequentialminus\":[[0.0,\"#0d0887\"],[0.1111111111111111,\"#46039f\"],[0.2222222222222222,\"#7201a8\"],[0.3333333333333333,\"#9c179e\"],[0.4444444444444444,\"#bd3786\"],[0.5555555555555556,\"#d8576b\"],[0.6666666666666666,\"#ed7953\"],[0.7777777777777778,\"#fb9f3a\"],[0.8888888888888888,\"#fdca26\"],[1.0,\"#f0f921\"]],\"diverging\":[[0,\"#8e0152\"],[0.1,\"#c51b7d\"],[0.2,\"#de77ae\"],[0.3,\"#f1b6da\"],[0.4,\"#fde0ef\"],[0.5,\"#f7f7f7\"],[0.6,\"#e6f5d0\"],[0.7,\"#b8e186\"],[0.8,\"#7fbc41\"],[0.9,\"#4d9221\"],[1,\"#276419\"]]},\"xaxis\":{\"gridcolor\":\"white\",\"linecolor\":\"white\",\"ticks\":\"\",\"title\":{\"standoff\":15},\"zerolinecolor\":\"white\",\"automargin\":true,\"zerolinewidth\":2},\"yaxis\":{\"gridcolor\":\"white\",\"linecolor\":\"white\",\"ticks\":\"\",\"title\":{\"standoff\":15},\"zerolinecolor\":\"white\",\"automargin\":true,\"zerolinewidth\":2},\"scene\":{\"xaxis\":{\"backgroundcolor\":\"#E5ECF6\",\"gridcolor\":\"white\",\"linecolor\":\"white\",\"showbackground\":true,\"ticks\":\"\",\"zerolinecolor\":\"white\",\"gridwidth\":2},\"yaxis\":{\"backgroundcolor\":\"#E5ECF6\",\"gridcolor\":\"white\",\"linecolor\":\"white\",\"showbackground\":true,\"ticks\":\"\",\"zerolinecolor\":\"white\",\"gridwidth\":2},\"zaxis\":{\"backgroundcolor\":\"#E5ECF6\",\"gridcolor\":\"white\",\"linecolor\":\"white\",\"showbackground\":true,\"ticks\":\"\",\"zerolinecolor\":\"white\",\"gridwidth\":2}},\"shapedefaults\":{\"line\":{\"color\":\"#2a3f5f\"}},\"annotationdefaults\":{\"arrowcolor\":\"#2a3f5f\",\"arrowhead\":0,\"arrowwidth\":1},\"geo\":{\"bgcolor\":\"white\",\"landcolor\":\"#E5ECF6\",\"subunitcolor\":\"white\",\"showland\":true,\"showlakes\":true,\"lakecolor\":\"white\"},\"title\":{\"x\":0.05},\"mapbox\":{\"style\":\"light\"}}},\"xaxis\":{\"anchor\":\"y\",\"domain\":[0.0,1.0],\"title\":{\"text\":\"range_name\"},\"categoryorder\":\"array\",\"categoryarray\":[\"1-10\",\"11-25\",\"26-50\",\"51-100\",\"101-150\",\"151-200\",\"201-300\",\"301-400\",\"401-500\",\"501-1000\",\"1001-1500\",\"1501-2000\",\"2001-3000\",\"3001-5000\",\"5001-10000\",\"10001-15000\"]},\"yaxis\":{\"anchor\":\"x\",\"domain\":[0.0,1.0],\"title\":{\"text\":\"product_count\"}},\"legend\":{\"title\":{\"text\":\"range_name\"},\"tracegroupgap\":0},\"title\":{\"text\":\"Price Analysis\"},\"barmode\":\"relative\"},                        {\"responsive\": true}                    ).then(function(){\n",
       "                            \n",
       "var gd = document.getElementById('90369362-de95-4f0d-a0fe-bfc51aaf806a');\n",
       "var x = new MutationObserver(function (mutations, observer) {{\n",
       "        var display = window.getComputedStyle(gd).display;\n",
       "        if (!display || display === 'none') {{\n",
       "            console.log([gd, 'removed!']);\n",
       "            Plotly.purge(gd);\n",
       "            observer.disconnect();\n",
       "        }}\n",
       "}});\n",
       "\n",
       "// Listen for the removal of the full notebook cells\n",
       "var notebookContainer = gd.closest('#notebook-container');\n",
       "if (notebookContainer) {{\n",
       "    x.observe(notebookContainer, {childList: true});\n",
       "}}\n",
       "\n",
       "// Listen for the clearing of the current output cell\n",
       "var outputEl = gd.closest('.output');\n",
       "if (outputEl) {{\n",
       "    x.observe(outputEl, {childList: true});\n",
       "}}\n",
       "\n",
       "                        })                };                });            </script>        </div>"
      ]
     },
     "metadata": {},
     "output_type": "display_data"
    }
   ],
   "source": [
    "fig = px.bar(range_data, x = 'range_name', y = 'product_count', color = 'range_name', title = 'Price Analysis')\n",
    "fig.show()"
   ]
  },
  {
   "cell_type": "code",
   "execution_count": null,
   "id": "80c16b83",
   "metadata": {},
   "outputs": [],
   "source": []
  }
 ],
 "metadata": {
  "kernelspec": {
   "display_name": "Python 3 (ipykernel)",
   "language": "python",
   "name": "python3"
  },
  "language_info": {
   "codemirror_mode": {
    "name": "ipython",
    "version": 3
   },
   "file_extension": ".py",
   "mimetype": "text/x-python",
   "name": "python",
   "nbconvert_exporter": "python",
   "pygments_lexer": "ipython3",
   "version": "3.11.5"
  }
 },
 "nbformat": 4,
 "nbformat_minor": 5
}
